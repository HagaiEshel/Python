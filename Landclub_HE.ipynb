{
  "nbformat": 4,
  "nbformat_minor": 0,
  "metadata": {
    "colab": {
      "name": "Landclub_HE.ipynb",
      "provenance": [],
      "collapsed_sections": [],
      "authorship_tag": "ABX9TyNDANYnmldYZHHj0HiFFyVG",
      "include_colab_link": true
    },
    "kernelspec": {
      "name": "python3",
      "display_name": "Python 3"
    }
  },
  "cells": [
    {
      "cell_type": "markdown",
      "metadata": {
        "id": "view-in-github",
        "colab_type": "text"
      },
      "source": [
        "<a href=\"https://colab.research.google.com/github/HagaiEshel/Python/blob/master/Landclub_HE.ipynb\" target=\"_parent\"><img src=\"https://colab.research.google.com/assets/colab-badge.svg\" alt=\"Open In Colab\"/></a>"
      ]
    },
    {
      "cell_type": "code",
      "metadata": {
        "id": "FpOTclKZXrGi",
        "colab_type": "code",
        "colab": {}
      },
      "source": [
        ""
      ],
      "execution_count": null,
      "outputs": []
    },
    {
      "cell_type": "code",
      "metadata": {
        "id": "Z0NkJJLoXuBZ",
        "colab_type": "code",
        "colab": {
          "base_uri": "https://localhost:8080/",
          "height": 122
        },
        "outputId": "69984008-a23e-488d-ea9d-31d85f3f2433"
      },
      "source": [
        "from google.colab import drive\n",
        "drive.mount('/content/drive')"
      ],
      "execution_count": null,
      "outputs": [
        {
          "output_type": "stream",
          "text": [
            "Go to this URL in a browser: https://accounts.google.com/o/oauth2/auth?client_id=947318989803-6bn6qk8qdgf4n4g3pfee6491hc0brc4i.apps.googleusercontent.com&redirect_uri=urn%3aietf%3awg%3aoauth%3a2.0%3aoob&response_type=code&scope=email%20https%3a%2f%2fwww.googleapis.com%2fauth%2fdocs.test%20https%3a%2f%2fwww.googleapis.com%2fauth%2fdrive%20https%3a%2f%2fwww.googleapis.com%2fauth%2fdrive.photos.readonly%20https%3a%2f%2fwww.googleapis.com%2fauth%2fpeopleapi.readonly\n",
            "\n",
            "Enter your authorization code:\n",
            "··········\n",
            "Mounted at /content/drive\n"
          ],
          "name": "stdout"
        }
      ]
    },
    {
      "cell_type": "code",
      "metadata": {
        "id": "6n4efItsXu70",
        "colab_type": "code",
        "colab": {}
      },
      "source": [
        "import pandas as pd\n",
        "import numpy as np\n",
        "import matplotlib.pyplot as plt\n",
        "import seaborn as sns"
      ],
      "execution_count": null,
      "outputs": []
    },
    {
      "cell_type": "code",
      "metadata": {
        "id": "l5pRnF8XYGNI",
        "colab_type": "code",
        "colab": {}
      },
      "source": [
        "# read the data from google drive\n",
        "loans = pd.read_csv('/content/drive/My Drive/Colab Notebooks/DATA/lending_club_loan_two.csv')\n"
      ],
      "execution_count": null,
      "outputs": []
    },
    {
      "cell_type": "code",
      "metadata": {
        "id": "_nZPCIfmYPmJ",
        "colab_type": "code",
        "colab": {
          "base_uri": "https://localhost:8080/",
          "height": 255
        },
        "outputId": "93911a5d-eedb-47b2-c8b0-a44fb4a871e0"
      },
      "source": [
        "# print the info\n",
        "loans.info"
      ],
      "execution_count": null,
      "outputs": [
        {
          "output_type": "execute_result",
          "data": {
            "text/plain": [
              "<bound method DataFrame.info of         loan_amnt  ...                                            address\n",
              "0         10000.0  ...     0174 Michelle Gateway\\r\\nMendozaberg, OK 22690\n",
              "1          8000.0  ...  1076 Carney Fort Apt. 347\\r\\nLoganmouth, SD 05113\n",
              "2         15600.0  ...  87025 Mark Dale Apt. 269\\r\\nNew Sabrina, WV 05113\n",
              "3          7200.0  ...            823 Reid Ford\\r\\nDelacruzside, MA 00813\n",
              "4         24375.0  ...             679 Luna Roads\\r\\nGreggshire, VA 11650\n",
              "...           ...  ...                                                ...\n",
              "396025    10000.0  ...   12951 Williams Crossing\\r\\nJohnnyville, DC 30723\n",
              "396026    21000.0  ...  0114 Fowler Field Suite 028\\r\\nRachelborough, ...\n",
              "396027     5000.0  ...  953 Matthew Points Suite 414\\r\\nReedfort, NY 7...\n",
              "396028    21000.0  ...  7843 Blake Freeway Apt. 229\\r\\nNew Michael, FL...\n",
              "396029     2000.0  ...      787 Michelle Causeway\\r\\nBriannaton, AR 48052\n",
              "\n",
              "[396030 rows x 27 columns]>"
            ]
          },
          "metadata": {
            "tags": []
          },
          "execution_count": 3
        }
      ]
    },
    {
      "cell_type": "code",
      "metadata": {
        "id": "rsuNvJUWiPu9",
        "colab_type": "code",
        "colab": {
          "base_uri": "https://localhost:8080/",
          "height": 421
        },
        "outputId": "0a73af10-6884-42e0-e14a-912af2021a35"
      },
      "source": [
        "loans.describe().transpose()"
      ],
      "execution_count": null,
      "outputs": [
        {
          "output_type": "execute_result",
          "data": {
            "text/html": [
              "<div>\n",
              "<style scoped>\n",
              "    .dataframe tbody tr th:only-of-type {\n",
              "        vertical-align: middle;\n",
              "    }\n",
              "\n",
              "    .dataframe tbody tr th {\n",
              "        vertical-align: top;\n",
              "    }\n",
              "\n",
              "    .dataframe thead th {\n",
              "        text-align: right;\n",
              "    }\n",
              "</style>\n",
              "<table border=\"1\" class=\"dataframe\">\n",
              "  <thead>\n",
              "    <tr style=\"text-align: right;\">\n",
              "      <th></th>\n",
              "      <th>count</th>\n",
              "      <th>mean</th>\n",
              "      <th>std</th>\n",
              "      <th>min</th>\n",
              "      <th>25%</th>\n",
              "      <th>50%</th>\n",
              "      <th>75%</th>\n",
              "      <th>max</th>\n",
              "    </tr>\n",
              "  </thead>\n",
              "  <tbody>\n",
              "    <tr>\n",
              "      <th>loan_amnt</th>\n",
              "      <td>396030.0</td>\n",
              "      <td>14113.888089</td>\n",
              "      <td>8357.441341</td>\n",
              "      <td>500.00</td>\n",
              "      <td>8000.00</td>\n",
              "      <td>12000.00</td>\n",
              "      <td>20000.00</td>\n",
              "      <td>40000.00</td>\n",
              "    </tr>\n",
              "    <tr>\n",
              "      <th>int_rate</th>\n",
              "      <td>396030.0</td>\n",
              "      <td>13.639400</td>\n",
              "      <td>4.472157</td>\n",
              "      <td>5.32</td>\n",
              "      <td>10.49</td>\n",
              "      <td>13.33</td>\n",
              "      <td>16.49</td>\n",
              "      <td>30.99</td>\n",
              "    </tr>\n",
              "    <tr>\n",
              "      <th>installment</th>\n",
              "      <td>396030.0</td>\n",
              "      <td>431.849698</td>\n",
              "      <td>250.727790</td>\n",
              "      <td>16.08</td>\n",
              "      <td>250.33</td>\n",
              "      <td>375.43</td>\n",
              "      <td>567.30</td>\n",
              "      <td>1533.81</td>\n",
              "    </tr>\n",
              "    <tr>\n",
              "      <th>annual_inc</th>\n",
              "      <td>396030.0</td>\n",
              "      <td>74203.175798</td>\n",
              "      <td>61637.621158</td>\n",
              "      <td>0.00</td>\n",
              "      <td>45000.00</td>\n",
              "      <td>64000.00</td>\n",
              "      <td>90000.00</td>\n",
              "      <td>8706582.00</td>\n",
              "    </tr>\n",
              "    <tr>\n",
              "      <th>dti</th>\n",
              "      <td>396030.0</td>\n",
              "      <td>17.379514</td>\n",
              "      <td>18.019092</td>\n",
              "      <td>0.00</td>\n",
              "      <td>11.28</td>\n",
              "      <td>16.91</td>\n",
              "      <td>22.98</td>\n",
              "      <td>9999.00</td>\n",
              "    </tr>\n",
              "    <tr>\n",
              "      <th>open_acc</th>\n",
              "      <td>396030.0</td>\n",
              "      <td>11.311153</td>\n",
              "      <td>5.137649</td>\n",
              "      <td>0.00</td>\n",
              "      <td>8.00</td>\n",
              "      <td>10.00</td>\n",
              "      <td>14.00</td>\n",
              "      <td>90.00</td>\n",
              "    </tr>\n",
              "    <tr>\n",
              "      <th>pub_rec</th>\n",
              "      <td>396030.0</td>\n",
              "      <td>0.178191</td>\n",
              "      <td>0.530671</td>\n",
              "      <td>0.00</td>\n",
              "      <td>0.00</td>\n",
              "      <td>0.00</td>\n",
              "      <td>0.00</td>\n",
              "      <td>86.00</td>\n",
              "    </tr>\n",
              "    <tr>\n",
              "      <th>revol_bal</th>\n",
              "      <td>396030.0</td>\n",
              "      <td>15844.539853</td>\n",
              "      <td>20591.836109</td>\n",
              "      <td>0.00</td>\n",
              "      <td>6025.00</td>\n",
              "      <td>11181.00</td>\n",
              "      <td>19620.00</td>\n",
              "      <td>1743266.00</td>\n",
              "    </tr>\n",
              "    <tr>\n",
              "      <th>revol_util</th>\n",
              "      <td>395754.0</td>\n",
              "      <td>53.791749</td>\n",
              "      <td>24.452193</td>\n",
              "      <td>0.00</td>\n",
              "      <td>35.80</td>\n",
              "      <td>54.80</td>\n",
              "      <td>72.90</td>\n",
              "      <td>892.30</td>\n",
              "    </tr>\n",
              "    <tr>\n",
              "      <th>total_acc</th>\n",
              "      <td>396030.0</td>\n",
              "      <td>25.414744</td>\n",
              "      <td>11.886991</td>\n",
              "      <td>2.00</td>\n",
              "      <td>17.00</td>\n",
              "      <td>24.00</td>\n",
              "      <td>32.00</td>\n",
              "      <td>151.00</td>\n",
              "    </tr>\n",
              "    <tr>\n",
              "      <th>mort_acc</th>\n",
              "      <td>358235.0</td>\n",
              "      <td>1.813991</td>\n",
              "      <td>2.147930</td>\n",
              "      <td>0.00</td>\n",
              "      <td>0.00</td>\n",
              "      <td>1.00</td>\n",
              "      <td>3.00</td>\n",
              "      <td>34.00</td>\n",
              "    </tr>\n",
              "    <tr>\n",
              "      <th>pub_rec_bankruptcies</th>\n",
              "      <td>395495.0</td>\n",
              "      <td>0.121648</td>\n",
              "      <td>0.356174</td>\n",
              "      <td>0.00</td>\n",
              "      <td>0.00</td>\n",
              "      <td>0.00</td>\n",
              "      <td>0.00</td>\n",
              "      <td>8.00</td>\n",
              "    </tr>\n",
              "  </tbody>\n",
              "</table>\n",
              "</div>"
            ],
            "text/plain": [
              "                         count          mean  ...       75%         max\n",
              "loan_amnt             396030.0  14113.888089  ...  20000.00    40000.00\n",
              "int_rate              396030.0     13.639400  ...     16.49       30.99\n",
              "installment           396030.0    431.849698  ...    567.30     1533.81\n",
              "annual_inc            396030.0  74203.175798  ...  90000.00  8706582.00\n",
              "dti                   396030.0     17.379514  ...     22.98     9999.00\n",
              "open_acc              396030.0     11.311153  ...     14.00       90.00\n",
              "pub_rec               396030.0      0.178191  ...      0.00       86.00\n",
              "revol_bal             396030.0  15844.539853  ...  19620.00  1743266.00\n",
              "revol_util            395754.0     53.791749  ...     72.90      892.30\n",
              "total_acc             396030.0     25.414744  ...     32.00      151.00\n",
              "mort_acc              358235.0      1.813991  ...      3.00       34.00\n",
              "pub_rec_bankruptcies  395495.0      0.121648  ...      0.00        8.00\n",
              "\n",
              "[12 rows x 8 columns]"
            ]
          },
          "metadata": {
            "tags": []
          },
          "execution_count": 4
        }
      ]
    },
    {
      "cell_type": "code",
      "metadata": {
        "id": "oREIXb1pYTJs",
        "colab_type": "code",
        "colab": {
          "base_uri": "https://localhost:8080/",
          "height": 493
        },
        "outputId": "fcd14a12-ee3d-4a7d-e85b-73e04483076b"
      },
      "source": [
        "#check for missing values\n",
        "loans.isnull().sum()"
      ],
      "execution_count": null,
      "outputs": [
        {
          "output_type": "execute_result",
          "data": {
            "text/plain": [
              "loan_amnt                   0\n",
              "term                        0\n",
              "int_rate                    0\n",
              "installment                 0\n",
              "grade                       0\n",
              "sub_grade                   0\n",
              "emp_title               22927\n",
              "emp_length              18301\n",
              "home_ownership              0\n",
              "annual_inc                  0\n",
              "verification_status         0\n",
              "issue_d                     0\n",
              "loan_status                 0\n",
              "purpose                     0\n",
              "title                    1755\n",
              "dti                         0\n",
              "earliest_cr_line            0\n",
              "open_acc                    0\n",
              "pub_rec                     0\n",
              "revol_bal                   0\n",
              "revol_util                276\n",
              "total_acc                   0\n",
              "initial_list_status         0\n",
              "application_type            0\n",
              "mort_acc                37795\n",
              "pub_rec_bankruptcies      535\n",
              "address                     0\n",
              "dtype: int64"
            ]
          },
          "metadata": {
            "tags": []
          },
          "execution_count": 5
        }
      ]
    },
    {
      "cell_type": "code",
      "metadata": {
        "id": "YuYtj18Su5lo",
        "colab_type": "code",
        "colab": {
          "base_uri": "https://localhost:8080/",
          "height": 34
        },
        "outputId": "7d8f78dc-2273-43d0-ec44-aea55ca96e20"
      },
      "source": [
        "loans['pub_rec_bankruptcies'].unique()"
      ],
      "execution_count": null,
      "outputs": [
        {
          "output_type": "execute_result",
          "data": {
            "text/plain": [
              "array([ 0.,  1.,  2.,  3., nan,  4.,  5.,  6.,  7.,  8.])"
            ]
          },
          "metadata": {
            "tags": []
          },
          "execution_count": 6
        }
      ]
    },
    {
      "cell_type": "code",
      "metadata": {
        "id": "dbNLM0L6vCNz",
        "colab_type": "code",
        "colab": {}
      },
      "source": [
        "# drop the lines missing 'pub_rec_bankruptcies'\n",
        "loans['pub_rec_bankruptcies'].dropna(inplace=True)"
      ],
      "execution_count": null,
      "outputs": []
    },
    {
      "cell_type": "code",
      "metadata": {
        "id": "MFQ2Nj8YvNAy",
        "colab_type": "code",
        "colab": {
          "base_uri": "https://localhost:8080/",
          "height": 34
        },
        "outputId": "eaaf1984-4b7a-4a1e-bcc0-27346b1d354b"
      },
      "source": [
        "loans['pub_rec_bankruptcies'].unique()"
      ],
      "execution_count": null,
      "outputs": [
        {
          "output_type": "execute_result",
          "data": {
            "text/plain": [
              "array([0., 1., 2., 3., 4., 5., 6., 7., 8.])"
            ]
          },
          "metadata": {
            "tags": []
          },
          "execution_count": 8
        }
      ]
    },
    {
      "cell_type": "code",
      "metadata": {
        "id": "cxX_V_k3vQ8B",
        "colab_type": "code",
        "colab": {}
      },
      "source": [
        ""
      ],
      "execution_count": null,
      "outputs": []
    },
    {
      "cell_type": "code",
      "metadata": {
        "id": "77MQuhYovx-3",
        "colab_type": "code",
        "colab": {}
      },
      "source": [
        ""
      ],
      "execution_count": null,
      "outputs": []
    },
    {
      "cell_type": "code",
      "metadata": {
        "id": "WsHVy7L2wIIN",
        "colab_type": "code",
        "colab": {}
      },
      "source": [
        ""
      ],
      "execution_count": null,
      "outputs": []
    },
    {
      "cell_type": "code",
      "metadata": {
        "id": "f21-XyR6wNZW",
        "colab_type": "code",
        "colab": {}
      },
      "source": [
        ""
      ],
      "execution_count": null,
      "outputs": []
    },
    {
      "cell_type": "code",
      "metadata": {
        "id": "Dl0KvXlTYhUC",
        "colab_type": "code",
        "colab": {}
      },
      "source": [
        ""
      ],
      "execution_count": null,
      "outputs": []
    },
    {
      "cell_type": "code",
      "metadata": {
        "id": "FtevNwk7apnc",
        "colab_type": "code",
        "colab": {}
      },
      "source": [
        "loans['revol_util'].unique()\n",
        "#if missing use the mean\n",
        "loans['revol_util'].fillna(loans['revol_util'].mean(),inplace=True)"
      ],
      "execution_count": null,
      "outputs": []
    },
    {
      "cell_type": "code",
      "metadata": {
        "id": "FdYqNBeAbJ6v",
        "colab_type": "code",
        "colab": {
          "base_uri": "https://localhost:8080/",
          "height": 170
        },
        "outputId": "62e64ae4-0f90-47ae-a2eb-2e6c020b8318"
      },
      "source": [
        "loans['mort_acc'].describe()\n"
      ],
      "execution_count": null,
      "outputs": [
        {
          "output_type": "execute_result",
          "data": {
            "text/plain": [
              "count    358235.000000\n",
              "mean          1.813991\n",
              "std           2.147930\n",
              "min           0.000000\n",
              "25%           0.000000\n",
              "50%           1.000000\n",
              "75%           3.000000\n",
              "max          34.000000\n",
              "Name: mort_acc, dtype: float64"
            ]
          },
          "metadata": {
            "tags": []
          },
          "execution_count": 10
        }
      ]
    },
    {
      "cell_type": "code",
      "metadata": {
        "id": "4Z1WlpapkBSW",
        "colab_type": "code",
        "colab": {}
      },
      "source": [
        ""
      ],
      "execution_count": null,
      "outputs": []
    },
    {
      "cell_type": "code",
      "metadata": {
        "id": "eWR4fj8XP1oC",
        "colab_type": "code",
        "colab": {}
      },
      "source": [
        "# fill the NAN in Mort Acc with the number 2 (close to the mean)\n",
        "loans['mort_acc'].fillna(value=2,inplace=True)"
      ],
      "execution_count": null,
      "outputs": []
    },
    {
      "cell_type": "code",
      "metadata": {
        "id": "cwwHUtztQXUM",
        "colab_type": "code",
        "colab": {}
      },
      "source": [
        ""
      ],
      "execution_count": null,
      "outputs": []
    },
    {
      "cell_type": "code",
      "metadata": {
        "id": "K7-PezxXQpRe",
        "colab_type": "code",
        "colab": {}
      },
      "source": [
        ""
      ],
      "execution_count": null,
      "outputs": []
    },
    {
      "cell_type": "code",
      "metadata": {
        "id": "5UKh7rAsQ7kg",
        "colab_type": "code",
        "colab": {
          "base_uri": "https://localhost:8080/",
          "height": 34
        },
        "outputId": "e0c162a1-de0d-47fa-b7bb-b0a06c132860"
      },
      "source": [
        "loans['pub_rec_bankruptcies'].unique()"
      ],
      "execution_count": null,
      "outputs": [
        {
          "output_type": "execute_result",
          "data": {
            "text/plain": [
              "array([0., 1., 2., 3., 4., 5., 6., 7., 8.])"
            ]
          },
          "metadata": {
            "tags": []
          },
          "execution_count": 12
        }
      ]
    },
    {
      "cell_type": "code",
      "metadata": {
        "id": "A8jc8ck8Torp",
        "colab_type": "code",
        "colab": {}
      },
      "source": [
        ""
      ],
      "execution_count": null,
      "outputs": []
    },
    {
      "cell_type": "code",
      "metadata": {
        "id": "AdVIt9ZEnUxU",
        "colab_type": "code",
        "colab": {}
      },
      "source": [
        ""
      ],
      "execution_count": null,
      "outputs": []
    },
    {
      "cell_type": "code",
      "metadata": {
        "id": "RxpiJKk4cQXS",
        "colab_type": "code",
        "colab": {}
      },
      "source": [
        "# Duumy variable for the status (i.e target) \n",
        "loans=pd.get_dummies(data=loans,columns=['loan_status'],drop_first=True)"
      ],
      "execution_count": null,
      "outputs": []
    },
    {
      "cell_type": "code",
      "metadata": {
        "id": "bSxIqHPBhkEu",
        "colab_type": "code",
        "colab": {}
      },
      "source": [
        "\n",
        "years={'10+ years':10, '4 years':4, '< 1 year':0, '6 years':6, '9 years':9,\n",
        "       '2 years':2, '3 years':3, '8 years':8, '7 years':7, '5 years':5, '1 year':1, '0':0}\n",
        "loans['emp_y']=loans['emp_length'].map(years)"
      ],
      "execution_count": null,
      "outputs": []
    },
    {
      "cell_type": "code",
      "metadata": {
        "id": "Uu9RaFNQSyAs",
        "colab_type": "code",
        "colab": {
          "base_uri": "https://localhost:8080/",
          "height": 170
        },
        "outputId": "20bf6c19-31a4-4130-f3b0-ac343256ab53"
      },
      "source": [
        "loans['emp_y'].describe()"
      ],
      "execution_count": null,
      "outputs": [
        {
          "output_type": "execute_result",
          "data": {
            "text/plain": [
              "count    377729.000000\n",
              "mean          5.938578\n",
              "std           3.645623\n",
              "min           0.000000\n",
              "25%           3.000000\n",
              "50%           6.000000\n",
              "75%          10.000000\n",
              "max          10.000000\n",
              "Name: emp_y, dtype: float64"
            ]
          },
          "metadata": {
            "tags": []
          },
          "execution_count": 15
        }
      ]
    },
    {
      "cell_type": "code",
      "metadata": {
        "id": "yiJzCHVTTFDu",
        "colab_type": "code",
        "colab": {}
      },
      "source": [
        "# fill the missing data with the mean (6)  \n",
        "loans['emp_y'].fillna(value=6,inplace=True)"
      ],
      "execution_count": null,
      "outputs": []
    },
    {
      "cell_type": "code",
      "metadata": {
        "id": "QYLSVWmhjaDF",
        "colab_type": "code",
        "colab": {
          "base_uri": "https://localhost:8080/",
          "height": 510
        },
        "outputId": "dddb0b9b-9960-4c2a-8d5b-4cf66d8f779e"
      },
      "source": [
        "#check for missing values in loans_adj\n",
        "loans.isnull().sum()"
      ],
      "execution_count": null,
      "outputs": [
        {
          "output_type": "execute_result",
          "data": {
            "text/plain": [
              "loan_amnt                     0\n",
              "term                          0\n",
              "int_rate                      0\n",
              "installment                   0\n",
              "grade                         0\n",
              "sub_grade                     0\n",
              "emp_title                 22927\n",
              "emp_length                18301\n",
              "home_ownership                0\n",
              "annual_inc                    0\n",
              "verification_status           0\n",
              "issue_d                       0\n",
              "purpose                       0\n",
              "title                      1755\n",
              "dti                           0\n",
              "earliest_cr_line              0\n",
              "open_acc                      0\n",
              "pub_rec                       0\n",
              "revol_bal                     0\n",
              "revol_util                    0\n",
              "total_acc                     0\n",
              "initial_list_status           0\n",
              "application_type              0\n",
              "mort_acc                      0\n",
              "pub_rec_bankruptcies        535\n",
              "address                       0\n",
              "loan_status_Fully Paid        0\n",
              "emp_y                         0\n",
              "dtype: int64"
            ]
          },
          "metadata": {
            "tags": []
          },
          "execution_count": 17
        }
      ]
    },
    {
      "cell_type": "code",
      "metadata": {
        "id": "IuDL_lyux7Dv",
        "colab_type": "code",
        "colab": {}
      },
      "source": [
        ""
      ],
      "execution_count": null,
      "outputs": []
    },
    {
      "cell_type": "code",
      "metadata": {
        "id": "x_iYVLnIx-r0",
        "colab_type": "code",
        "colab": {}
      },
      "source": [
        ""
      ],
      "execution_count": null,
      "outputs": []
    },
    {
      "cell_type": "code",
      "metadata": {
        "id": "chz5ukZeefjo",
        "colab_type": "code",
        "colab": {
          "base_uri": "https://localhost:8080/",
          "height": 702
        },
        "outputId": "d365ae7d-a3cb-4488-ede8-3a6a326c3723"
      },
      "source": [
        "loans.head(10)"
      ],
      "execution_count": null,
      "outputs": [
        {
          "output_type": "execute_result",
          "data": {
            "text/html": [
              "<div>\n",
              "<style scoped>\n",
              "    .dataframe tbody tr th:only-of-type {\n",
              "        vertical-align: middle;\n",
              "    }\n",
              "\n",
              "    .dataframe tbody tr th {\n",
              "        vertical-align: top;\n",
              "    }\n",
              "\n",
              "    .dataframe thead th {\n",
              "        text-align: right;\n",
              "    }\n",
              "</style>\n",
              "<table border=\"1\" class=\"dataframe\">\n",
              "  <thead>\n",
              "    <tr style=\"text-align: right;\">\n",
              "      <th></th>\n",
              "      <th>loan_amnt</th>\n",
              "      <th>term</th>\n",
              "      <th>int_rate</th>\n",
              "      <th>installment</th>\n",
              "      <th>grade</th>\n",
              "      <th>sub_grade</th>\n",
              "      <th>emp_title</th>\n",
              "      <th>emp_length</th>\n",
              "      <th>home_ownership</th>\n",
              "      <th>annual_inc</th>\n",
              "      <th>verification_status</th>\n",
              "      <th>issue_d</th>\n",
              "      <th>purpose</th>\n",
              "      <th>title</th>\n",
              "      <th>dti</th>\n",
              "      <th>earliest_cr_line</th>\n",
              "      <th>open_acc</th>\n",
              "      <th>pub_rec</th>\n",
              "      <th>revol_bal</th>\n",
              "      <th>revol_util</th>\n",
              "      <th>total_acc</th>\n",
              "      <th>initial_list_status</th>\n",
              "      <th>application_type</th>\n",
              "      <th>mort_acc</th>\n",
              "      <th>pub_rec_bankruptcies</th>\n",
              "      <th>address</th>\n",
              "      <th>loan_status_Fully Paid</th>\n",
              "      <th>emp_y</th>\n",
              "    </tr>\n",
              "  </thead>\n",
              "  <tbody>\n",
              "    <tr>\n",
              "      <th>0</th>\n",
              "      <td>10000.0</td>\n",
              "      <td>36 months</td>\n",
              "      <td>11.44</td>\n",
              "      <td>329.48</td>\n",
              "      <td>B</td>\n",
              "      <td>B4</td>\n",
              "      <td>Marketing</td>\n",
              "      <td>10+ years</td>\n",
              "      <td>RENT</td>\n",
              "      <td>117000.0</td>\n",
              "      <td>Not Verified</td>\n",
              "      <td>Jan-2015</td>\n",
              "      <td>vacation</td>\n",
              "      <td>Vacation</td>\n",
              "      <td>26.24</td>\n",
              "      <td>Jun-1990</td>\n",
              "      <td>16.0</td>\n",
              "      <td>0.0</td>\n",
              "      <td>36369.0</td>\n",
              "      <td>41.8</td>\n",
              "      <td>25.0</td>\n",
              "      <td>w</td>\n",
              "      <td>INDIVIDUAL</td>\n",
              "      <td>0.0</td>\n",
              "      <td>0.0</td>\n",
              "      <td>0174 Michelle Gateway\\r\\nMendozaberg, OK 22690</td>\n",
              "      <td>1</td>\n",
              "      <td>10.0</td>\n",
              "    </tr>\n",
              "    <tr>\n",
              "      <th>1</th>\n",
              "      <td>8000.0</td>\n",
              "      <td>36 months</td>\n",
              "      <td>11.99</td>\n",
              "      <td>265.68</td>\n",
              "      <td>B</td>\n",
              "      <td>B5</td>\n",
              "      <td>Credit analyst</td>\n",
              "      <td>4 years</td>\n",
              "      <td>MORTGAGE</td>\n",
              "      <td>65000.0</td>\n",
              "      <td>Not Verified</td>\n",
              "      <td>Jan-2015</td>\n",
              "      <td>debt_consolidation</td>\n",
              "      <td>Debt consolidation</td>\n",
              "      <td>22.05</td>\n",
              "      <td>Jul-2004</td>\n",
              "      <td>17.0</td>\n",
              "      <td>0.0</td>\n",
              "      <td>20131.0</td>\n",
              "      <td>53.3</td>\n",
              "      <td>27.0</td>\n",
              "      <td>f</td>\n",
              "      <td>INDIVIDUAL</td>\n",
              "      <td>3.0</td>\n",
              "      <td>0.0</td>\n",
              "      <td>1076 Carney Fort Apt. 347\\r\\nLoganmouth, SD 05113</td>\n",
              "      <td>1</td>\n",
              "      <td>4.0</td>\n",
              "    </tr>\n",
              "    <tr>\n",
              "      <th>2</th>\n",
              "      <td>15600.0</td>\n",
              "      <td>36 months</td>\n",
              "      <td>10.49</td>\n",
              "      <td>506.97</td>\n",
              "      <td>B</td>\n",
              "      <td>B3</td>\n",
              "      <td>Statistician</td>\n",
              "      <td>&lt; 1 year</td>\n",
              "      <td>RENT</td>\n",
              "      <td>43057.0</td>\n",
              "      <td>Source Verified</td>\n",
              "      <td>Jan-2015</td>\n",
              "      <td>credit_card</td>\n",
              "      <td>Credit card refinancing</td>\n",
              "      <td>12.79</td>\n",
              "      <td>Aug-2007</td>\n",
              "      <td>13.0</td>\n",
              "      <td>0.0</td>\n",
              "      <td>11987.0</td>\n",
              "      <td>92.2</td>\n",
              "      <td>26.0</td>\n",
              "      <td>f</td>\n",
              "      <td>INDIVIDUAL</td>\n",
              "      <td>0.0</td>\n",
              "      <td>0.0</td>\n",
              "      <td>87025 Mark Dale Apt. 269\\r\\nNew Sabrina, WV 05113</td>\n",
              "      <td>1</td>\n",
              "      <td>0.0</td>\n",
              "    </tr>\n",
              "    <tr>\n",
              "      <th>3</th>\n",
              "      <td>7200.0</td>\n",
              "      <td>36 months</td>\n",
              "      <td>6.49</td>\n",
              "      <td>220.65</td>\n",
              "      <td>A</td>\n",
              "      <td>A2</td>\n",
              "      <td>Client Advocate</td>\n",
              "      <td>6 years</td>\n",
              "      <td>RENT</td>\n",
              "      <td>54000.0</td>\n",
              "      <td>Not Verified</td>\n",
              "      <td>Nov-2014</td>\n",
              "      <td>credit_card</td>\n",
              "      <td>Credit card refinancing</td>\n",
              "      <td>2.60</td>\n",
              "      <td>Sep-2006</td>\n",
              "      <td>6.0</td>\n",
              "      <td>0.0</td>\n",
              "      <td>5472.0</td>\n",
              "      <td>21.5</td>\n",
              "      <td>13.0</td>\n",
              "      <td>f</td>\n",
              "      <td>INDIVIDUAL</td>\n",
              "      <td>0.0</td>\n",
              "      <td>0.0</td>\n",
              "      <td>823 Reid Ford\\r\\nDelacruzside, MA 00813</td>\n",
              "      <td>1</td>\n",
              "      <td>6.0</td>\n",
              "    </tr>\n",
              "    <tr>\n",
              "      <th>4</th>\n",
              "      <td>24375.0</td>\n",
              "      <td>60 months</td>\n",
              "      <td>17.27</td>\n",
              "      <td>609.33</td>\n",
              "      <td>C</td>\n",
              "      <td>C5</td>\n",
              "      <td>Destiny Management Inc.</td>\n",
              "      <td>9 years</td>\n",
              "      <td>MORTGAGE</td>\n",
              "      <td>55000.0</td>\n",
              "      <td>Verified</td>\n",
              "      <td>Apr-2013</td>\n",
              "      <td>credit_card</td>\n",
              "      <td>Credit Card Refinance</td>\n",
              "      <td>33.95</td>\n",
              "      <td>Mar-1999</td>\n",
              "      <td>13.0</td>\n",
              "      <td>0.0</td>\n",
              "      <td>24584.0</td>\n",
              "      <td>69.8</td>\n",
              "      <td>43.0</td>\n",
              "      <td>f</td>\n",
              "      <td>INDIVIDUAL</td>\n",
              "      <td>1.0</td>\n",
              "      <td>0.0</td>\n",
              "      <td>679 Luna Roads\\r\\nGreggshire, VA 11650</td>\n",
              "      <td>0</td>\n",
              "      <td>9.0</td>\n",
              "    </tr>\n",
              "    <tr>\n",
              "      <th>5</th>\n",
              "      <td>20000.0</td>\n",
              "      <td>36 months</td>\n",
              "      <td>13.33</td>\n",
              "      <td>677.07</td>\n",
              "      <td>C</td>\n",
              "      <td>C3</td>\n",
              "      <td>HR Specialist</td>\n",
              "      <td>10+ years</td>\n",
              "      <td>MORTGAGE</td>\n",
              "      <td>86788.0</td>\n",
              "      <td>Verified</td>\n",
              "      <td>Sep-2015</td>\n",
              "      <td>debt_consolidation</td>\n",
              "      <td>Debt consolidation</td>\n",
              "      <td>16.31</td>\n",
              "      <td>Jan-2005</td>\n",
              "      <td>8.0</td>\n",
              "      <td>0.0</td>\n",
              "      <td>25757.0</td>\n",
              "      <td>100.6</td>\n",
              "      <td>23.0</td>\n",
              "      <td>f</td>\n",
              "      <td>INDIVIDUAL</td>\n",
              "      <td>4.0</td>\n",
              "      <td>0.0</td>\n",
              "      <td>1726 Cooper Passage Suite 129\\r\\nNorth Deniseb...</td>\n",
              "      <td>1</td>\n",
              "      <td>10.0</td>\n",
              "    </tr>\n",
              "    <tr>\n",
              "      <th>6</th>\n",
              "      <td>18000.0</td>\n",
              "      <td>36 months</td>\n",
              "      <td>5.32</td>\n",
              "      <td>542.07</td>\n",
              "      <td>A</td>\n",
              "      <td>A1</td>\n",
              "      <td>Software Development Engineer</td>\n",
              "      <td>2 years</td>\n",
              "      <td>MORTGAGE</td>\n",
              "      <td>125000.0</td>\n",
              "      <td>Source Verified</td>\n",
              "      <td>Sep-2015</td>\n",
              "      <td>home_improvement</td>\n",
              "      <td>Home improvement</td>\n",
              "      <td>1.36</td>\n",
              "      <td>Aug-2005</td>\n",
              "      <td>8.0</td>\n",
              "      <td>0.0</td>\n",
              "      <td>4178.0</td>\n",
              "      <td>4.9</td>\n",
              "      <td>25.0</td>\n",
              "      <td>f</td>\n",
              "      <td>INDIVIDUAL</td>\n",
              "      <td>3.0</td>\n",
              "      <td>0.0</td>\n",
              "      <td>1008 Erika Vista Suite 748\\r\\nEast Stephanie, ...</td>\n",
              "      <td>1</td>\n",
              "      <td>2.0</td>\n",
              "    </tr>\n",
              "    <tr>\n",
              "      <th>7</th>\n",
              "      <td>13000.0</td>\n",
              "      <td>36 months</td>\n",
              "      <td>11.14</td>\n",
              "      <td>426.47</td>\n",
              "      <td>B</td>\n",
              "      <td>B2</td>\n",
              "      <td>Office Depot</td>\n",
              "      <td>10+ years</td>\n",
              "      <td>RENT</td>\n",
              "      <td>46000.0</td>\n",
              "      <td>Not Verified</td>\n",
              "      <td>Sep-2012</td>\n",
              "      <td>credit_card</td>\n",
              "      <td>No More Credit Cards</td>\n",
              "      <td>26.87</td>\n",
              "      <td>Sep-1994</td>\n",
              "      <td>11.0</td>\n",
              "      <td>0.0</td>\n",
              "      <td>13425.0</td>\n",
              "      <td>64.5</td>\n",
              "      <td>15.0</td>\n",
              "      <td>f</td>\n",
              "      <td>INDIVIDUAL</td>\n",
              "      <td>0.0</td>\n",
              "      <td>0.0</td>\n",
              "      <td>USCGC Nunez\\r\\nFPO AE 30723</td>\n",
              "      <td>1</td>\n",
              "      <td>10.0</td>\n",
              "    </tr>\n",
              "    <tr>\n",
              "      <th>8</th>\n",
              "      <td>18900.0</td>\n",
              "      <td>60 months</td>\n",
              "      <td>10.99</td>\n",
              "      <td>410.84</td>\n",
              "      <td>B</td>\n",
              "      <td>B3</td>\n",
              "      <td>Application Architect</td>\n",
              "      <td>10+ years</td>\n",
              "      <td>RENT</td>\n",
              "      <td>103000.0</td>\n",
              "      <td>Verified</td>\n",
              "      <td>Oct-2014</td>\n",
              "      <td>debt_consolidation</td>\n",
              "      <td>Debt consolidation</td>\n",
              "      <td>12.52</td>\n",
              "      <td>Jun-1994</td>\n",
              "      <td>13.0</td>\n",
              "      <td>0.0</td>\n",
              "      <td>18637.0</td>\n",
              "      <td>32.9</td>\n",
              "      <td>40.0</td>\n",
              "      <td>w</td>\n",
              "      <td>INDIVIDUAL</td>\n",
              "      <td>3.0</td>\n",
              "      <td>0.0</td>\n",
              "      <td>USCGC Tran\\r\\nFPO AP 22690</td>\n",
              "      <td>1</td>\n",
              "      <td>10.0</td>\n",
              "    </tr>\n",
              "    <tr>\n",
              "      <th>9</th>\n",
              "      <td>26300.0</td>\n",
              "      <td>36 months</td>\n",
              "      <td>16.29</td>\n",
              "      <td>928.40</td>\n",
              "      <td>C</td>\n",
              "      <td>C5</td>\n",
              "      <td>Regado Biosciences</td>\n",
              "      <td>3 years</td>\n",
              "      <td>MORTGAGE</td>\n",
              "      <td>115000.0</td>\n",
              "      <td>Verified</td>\n",
              "      <td>Apr-2012</td>\n",
              "      <td>debt_consolidation</td>\n",
              "      <td>Debt Consolidation</td>\n",
              "      <td>23.69</td>\n",
              "      <td>Dec-1997</td>\n",
              "      <td>13.0</td>\n",
              "      <td>0.0</td>\n",
              "      <td>22171.0</td>\n",
              "      <td>82.4</td>\n",
              "      <td>37.0</td>\n",
              "      <td>f</td>\n",
              "      <td>INDIVIDUAL</td>\n",
              "      <td>1.0</td>\n",
              "      <td>0.0</td>\n",
              "      <td>3390 Luis Rue\\r\\nMauricestad, VA 00813</td>\n",
              "      <td>1</td>\n",
              "      <td>3.0</td>\n",
              "    </tr>\n",
              "  </tbody>\n",
              "</table>\n",
              "</div>"
            ],
            "text/plain": [
              "   loan_amnt        term  ...  loan_status_Fully Paid  emp_y\n",
              "0    10000.0   36 months  ...                       1   10.0\n",
              "1     8000.0   36 months  ...                       1    4.0\n",
              "2    15600.0   36 months  ...                       1    0.0\n",
              "3     7200.0   36 months  ...                       1    6.0\n",
              "4    24375.0   60 months  ...                       0    9.0\n",
              "5    20000.0   36 months  ...                       1   10.0\n",
              "6    18000.0   36 months  ...                       1    2.0\n",
              "7    13000.0   36 months  ...                       1   10.0\n",
              "8    18900.0   60 months  ...                       1   10.0\n",
              "9    26300.0   36 months  ...                       1    3.0\n",
              "\n",
              "[10 rows x 28 columns]"
            ]
          },
          "metadata": {
            "tags": []
          },
          "execution_count": 18
        }
      ]
    },
    {
      "cell_type": "code",
      "metadata": {
        "id": "ARmEmpmme3JS",
        "colab_type": "code",
        "colab": {
          "base_uri": "https://localhost:8080/",
          "height": 255
        },
        "outputId": "48757aa1-e5fd-4f90-c20c-0c9ef403df9a"
      },
      "source": [
        "#loans_adj.corr()['loan_status_Fully Paid'].sort_values()"
      ],
      "execution_count": null,
      "outputs": [
        {
          "output_type": "execute_result",
          "data": {
            "text/plain": [
              "int_rate                 -0.247758\n",
              "revol_util               -0.082373\n",
              "dti                      -0.062413\n",
              "loan_amnt                -0.059836\n",
              "installment              -0.041082\n",
              "open_acc                 -0.028012\n",
              "pub_rec                  -0.019933\n",
              "pub_rec_bankruptcies     -0.009383\n",
              "revol_bal                 0.010892\n",
              "total_acc                 0.017893\n",
              "annual_inc                0.053432\n",
              "mort_acc                  0.073111\n",
              "loan_status_Fully Paid    1.000000\n",
              "Name: loan_status_Fully Paid, dtype: float64"
            ]
          },
          "metadata": {
            "tags": []
          },
          "execution_count": 22
        }
      ]
    },
    {
      "cell_type": "code",
      "metadata": {
        "id": "DjCGHWhLfde_",
        "colab_type": "code",
        "colab": {}
      },
      "source": [
        ""
      ],
      "execution_count": null,
      "outputs": []
    },
    {
      "cell_type": "code",
      "metadata": {
        "id": "t6LK109gf3cN",
        "colab_type": "code",
        "colab": {
          "base_uri": "https://localhost:8080/",
          "height": 297
        },
        "outputId": "99868a8b-0fb7-4f3b-c039-222b27d670ec"
      },
      "source": [
        "sns.scatterplot(x='int_rate',y='loan_amnt',data=loans,hue='loan_status')"
      ],
      "execution_count": null,
      "outputs": [
        {
          "output_type": "execute_result",
          "data": {
            "text/plain": [
              "<matplotlib.axes._subplots.AxesSubplot at 0x7f4ebd8e30b8>"
            ]
          },
          "metadata": {
            "tags": []
          },
          "execution_count": 24
        },
        {
          "output_type": "display_data",
          "data": {
            "image/png": "[encoded data removed]",
            "text/plain": [
              "<Figure size 432x288 with 1 Axes>"
            ]
          },
          "metadata": {
            "tags": []
          }
        }
      ]
    },
    {
      "cell_type": "code",
      "metadata": {
        "id": "72ROacTXgkC3",
        "colab_type": "code",
        "colab": {}
      },
      "source": [
        ""
      ],
      "execution_count": null,
      "outputs": []
    },
    {
      "cell_type": "code",
      "metadata": {
        "id": "TFe5Jb3hj0wM",
        "colab_type": "code",
        "colab": {}
      },
      "source": [
        ""
      ],
      "execution_count": null,
      "outputs": []
    },
    {
      "cell_type": "code",
      "metadata": {
        "id": "gl11r0OvkRwO",
        "colab_type": "code",
        "colab": {
          "base_uri": "https://localhost:8080/",
          "height": 34
        },
        "outputId": "8f79b938-d1da-48b7-fdcf-6b528b4b02c2"
      },
      "source": [
        "loans_adj['term'].unique()"
      ],
      "execution_count": null,
      "outputs": [
        {
          "output_type": "execute_result",
          "data": {
            "text/plain": [
              "array([' 36 months', ' 60 months'], dtype=object)"
            ]
          },
          "metadata": {
            "tags": []
          },
          "execution_count": 31
        }
      ]
    },
    {
      "cell_type": "code",
      "metadata": {
        "id": "bfg1aV2jklYb",
        "colab_type": "code",
        "colab": {}
      },
      "source": [
        "loans=pd.get_dummies(data=loans,columns=['term'],drop_first=True)"
      ],
      "execution_count": null,
      "outputs": []
    },
    {
      "cell_type": "code",
      "metadata": {
        "id": "smIUDUBTk2cl",
        "colab_type": "code",
        "colab": {
          "base_uri": "https://localhost:8080/",
          "height": 34
        },
        "outputId": "2b3e75a9-0677-45c7-d3f4-ac73b0ef7bbb"
      },
      "source": [
        "loans_adj['grade'].unique()"
      ],
      "execution_count": null,
      "outputs": [
        {
          "output_type": "execute_result",
          "data": {
            "text/plain": [
              "array(['B', 'A', 'C', 'E', 'D', 'F', 'G'], dtype=object)"
            ]
          },
          "metadata": {
            "tags": []
          },
          "execution_count": 33
        }
      ]
    },
    {
      "cell_type": "code",
      "metadata": {
        "id": "YHJD8kU3lLQ1",
        "colab_type": "code",
        "colab": {}
      },
      "source": [
        "grade={'B':2, 'A':1, 'C':3, 'E':5, 'D':4, 'F':6, 'G':7}\n",
        "loans['grade_n']=loans['grade'].map(grade)"
      ],
      "execution_count": null,
      "outputs": []
    },
    {
      "cell_type": "code",
      "metadata": {
        "id": "RDvlEVDTmKTg",
        "colab_type": "code",
        "colab": {
          "base_uri": "https://localhost:8080/",
          "height": 85
        },
        "outputId": "18c9ecc9-52d6-4be9-9be0-d7a4582590e6"
      },
      "source": [
        "loans_adj['sub_grade'].unique()"
      ],
      "execution_count": null,
      "outputs": [
        {
          "output_type": "execute_result",
          "data": {
            "text/plain": [
              "array(['B4', 'B5', 'B3', 'A2', 'C5', 'C3', 'A1', 'B2', 'C1', 'A5', 'E4',\n",
              "       'A4', 'A3', 'D1', 'C2', 'B1', 'D3', 'D5', 'D2', 'E1', 'E2', 'E5',\n",
              "       'F4', 'E3', 'D4', 'G1', 'F5', 'G2', 'C4', 'F1', 'F3', 'G5', 'G4',\n",
              "       'F2', 'G3'], dtype=object)"
            ]
          },
          "metadata": {
            "tags": []
          },
          "execution_count": 43
        }
      ]
    },
    {
      "cell_type": "code",
      "metadata": {
        "id": "UddqmudwmU2m",
        "colab_type": "code",
        "colab": {
          "base_uri": "https://localhost:8080/",
          "height": 34
        },
        "outputId": "0178f7fa-d6fd-43ba-843d-f97b9691ea72"
      },
      "source": [
        "loans['home_ownership'].unique()"
      ],
      "execution_count": null,
      "outputs": [
        {
          "output_type": "execute_result",
          "data": {
            "text/plain": [
              "array(['RENT', 'MORTGAGE', 'OWN', 'OTHER', 'NONE', 'ANY'], dtype=object)"
            ]
          },
          "metadata": {
            "tags": []
          },
          "execution_count": 23
        }
      ]
    },
    {
      "cell_type": "code",
      "metadata": {
        "id": "SzZRtTFkncm6",
        "colab_type": "code",
        "colab": {
          "base_uri": "https://localhost:8080/",
          "height": 306
        },
        "outputId": "657108bb-4336-4b73-b9d4-81e783f34001"
      },
      "source": [
        "# check the CORR of Loan Status to other parameters in order to optimize home_ownership\n",
        "loans.corr()['loan_status_Fully Paid'].sort_values()"
      ],
      "execution_count": null,
      "outputs": [
        {
          "output_type": "execute_result",
          "data": {
            "text/plain": [
              "grade_n                  -0.257286\n",
              "int_rate                 -0.247758\n",
              "term_ 60 months          -0.173246\n",
              "revol_util               -0.082341\n",
              "dti                      -0.062413\n",
              "loan_amnt                -0.059836\n",
              "installment              -0.041082\n",
              "open_acc                 -0.028012\n",
              "pub_rec                  -0.019933\n",
              "pub_rec_bankruptcies     -0.009383\n",
              "revol_bal                 0.010892\n",
              "emp_y                     0.013154\n",
              "total_acc                 0.017893\n",
              "annual_inc                0.053432\n",
              "mort_acc                  0.071276\n",
              "loan_status_Fully Paid    1.000000\n",
              "Name: loan_status_Fully Paid, dtype: float64"
            ]
          },
          "metadata": {
            "tags": []
          },
          "execution_count": 24
        }
      ]
    },
    {
      "cell_type": "code",
      "metadata": {
        "id": "WDaC2cEC0216",
        "colab_type": "code",
        "colab": {}
      },
      "source": [
        "# as grade is importent I will further use subgrade\n",
        "#dict_sub = {'A':'1','B':'2','C':'3','D':'4','E':'5','F':'6','G':'7'}\n",
        "#loans['sub_grade'][0]=loans['sub_grade'][0].map(dict_sb)\n"
      ],
      "execution_count": null,
      "outputs": []
    },
    {
      "cell_type": "code",
      "metadata": {
        "id": "yM7NDRF02jwl",
        "colab_type": "code",
        "colab": {
          "base_uri": "https://localhost:8080/",
          "height": 515
        },
        "outputId": "9341f887-9488-4c63-b241-a2ad30d3c079"
      },
      "source": [
        "plt.figure(figsize=(12,8))\n",
        "sns.boxplot(x='home_ownership',y='grade_n',data=loans,hue='loan_status_Fully Paid')"
      ],
      "execution_count": null,
      "outputs": [
        {
          "output_type": "execute_result",
          "data": {
            "text/plain": [
              "<matplotlib.axes._subplots.AxesSubplot at 0x7f5785e99710>"
            ]
          },
          "metadata": {
            "tags": []
          },
          "execution_count": 27
        },
        {
          "output_type": "display_data",
          "data": {
            "image/png": "[encoded data removed]",
            "text/plain": [
              "<Figure size 864x576 with 1 Axes>"
            ]
          },
          "metadata": {
            "tags": []
          }
        }
      ]
    },
    {
      "cell_type": "code",
      "metadata": {
        "id": "qJTyIbI34EfG",
        "colab_type": "code",
        "colab": {}
      },
      "source": [
        "def home_own (home):\n",
        "  if home == 'RENT' or home == 'OWN':\n",
        "    return True\n",
        "  return False"
      ],
      "execution_count": null,
      "outputs": []
    },
    {
      "cell_type": "code",
      "metadata": {
        "id": "ggzaJgTc44bs",
        "colab_type": "code",
        "colab": {
          "base_uri": "https://localhost:8080/",
          "height": 34
        },
        "outputId": "7699c996-297c-4fe7-c998-c5dc90d441d8"
      },
      "source": [
        "home_own('OTHER')"
      ],
      "execution_count": null,
      "outputs": [
        {
          "output_type": "execute_result",
          "data": {
            "text/plain": [
              "False"
            ]
          },
          "metadata": {
            "tags": []
          },
          "execution_count": 33
        }
      ]
    },
    {
      "cell_type": "code",
      "metadata": {
        "id": "Ah79q3FV7qsy",
        "colab_type": "code",
        "colab": {}
      },
      "source": [
        "loans['home_own_status']=loans['home_ownership'].apply(home_own)"
      ],
      "execution_count": null,
      "outputs": []
    },
    {
      "cell_type": "code",
      "metadata": {
        "id": "mihxzpkM8Ejh",
        "colab_type": "code",
        "colab": {
          "base_uri": "https://localhost:8080/",
          "height": 428
        },
        "outputId": "066a172c-3e37-4843-a8f6-bdb997d7db72"
      },
      "source": [
        "loans.head()"
      ],
      "execution_count": null,
      "outputs": [
        {
          "output_type": "execute_result",
          "data": {
            "text/html": [
              "<div>\n",
              "<style scoped>\n",
              "    .dataframe tbody tr th:only-of-type {\n",
              "        vertical-align: middle;\n",
              "    }\n",
              "\n",
              "    .dataframe tbody tr th {\n",
              "        vertical-align: top;\n",
              "    }\n",
              "\n",
              "    .dataframe thead th {\n",
              "        text-align: right;\n",
              "    }\n",
              "</style>\n",
              "<table border=\"1\" class=\"dataframe\">\n",
              "  <thead>\n",
              "    <tr style=\"text-align: right;\">\n",
              "      <th></th>\n",
              "      <th>loan_amnt</th>\n",
              "      <th>int_rate</th>\n",
              "      <th>installment</th>\n",
              "      <th>grade</th>\n",
              "      <th>sub_grade</th>\n",
              "      <th>emp_title</th>\n",
              "      <th>emp_length</th>\n",
              "      <th>home_ownership</th>\n",
              "      <th>annual_inc</th>\n",
              "      <th>verification_status</th>\n",
              "      <th>issue_d</th>\n",
              "      <th>purpose</th>\n",
              "      <th>title</th>\n",
              "      <th>dti</th>\n",
              "      <th>earliest_cr_line</th>\n",
              "      <th>open_acc</th>\n",
              "      <th>pub_rec</th>\n",
              "      <th>revol_bal</th>\n",
              "      <th>revol_util</th>\n",
              "      <th>total_acc</th>\n",
              "      <th>initial_list_status</th>\n",
              "      <th>application_type</th>\n",
              "      <th>mort_acc</th>\n",
              "      <th>pub_rec_bankruptcies</th>\n",
              "      <th>address</th>\n",
              "      <th>loan_status_Fully Paid</th>\n",
              "      <th>emp_y</th>\n",
              "      <th>term_ 60 months</th>\n",
              "      <th>grade_n</th>\n",
              "      <th>home_own_status</th>\n",
              "    </tr>\n",
              "  </thead>\n",
              "  <tbody>\n",
              "    <tr>\n",
              "      <th>0</th>\n",
              "      <td>10000.0</td>\n",
              "      <td>11.44</td>\n",
              "      <td>329.48</td>\n",
              "      <td>B</td>\n",
              "      <td>B4</td>\n",
              "      <td>Marketing</td>\n",
              "      <td>10+ years</td>\n",
              "      <td>RENT</td>\n",
              "      <td>117000.0</td>\n",
              "      <td>Not Verified</td>\n",
              "      <td>Jan-2015</td>\n",
              "      <td>vacation</td>\n",
              "      <td>Vacation</td>\n",
              "      <td>26.24</td>\n",
              "      <td>Jun-1990</td>\n",
              "      <td>16.0</td>\n",
              "      <td>0.0</td>\n",
              "      <td>36369.0</td>\n",
              "      <td>41.8</td>\n",
              "      <td>25.0</td>\n",
              "      <td>w</td>\n",
              "      <td>INDIVIDUAL</td>\n",
              "      <td>0.0</td>\n",
              "      <td>0.0</td>\n",
              "      <td>0174 Michelle Gateway\\r\\nMendozaberg, OK 22690</td>\n",
              "      <td>1</td>\n",
              "      <td>10.0</td>\n",
              "      <td>0</td>\n",
              "      <td>2</td>\n",
              "      <td>True</td>\n",
              "    </tr>\n",
              "    <tr>\n",
              "      <th>1</th>\n",
              "      <td>8000.0</td>\n",
              "      <td>11.99</td>\n",
              "      <td>265.68</td>\n",
              "      <td>B</td>\n",
              "      <td>B5</td>\n",
              "      <td>Credit analyst</td>\n",
              "      <td>4 years</td>\n",
              "      <td>MORTGAGE</td>\n",
              "      <td>65000.0</td>\n",
              "      <td>Not Verified</td>\n",
              "      <td>Jan-2015</td>\n",
              "      <td>debt_consolidation</td>\n",
              "      <td>Debt consolidation</td>\n",
              "      <td>22.05</td>\n",
              "      <td>Jul-2004</td>\n",
              "      <td>17.0</td>\n",
              "      <td>0.0</td>\n",
              "      <td>20131.0</td>\n",
              "      <td>53.3</td>\n",
              "      <td>27.0</td>\n",
              "      <td>f</td>\n",
              "      <td>INDIVIDUAL</td>\n",
              "      <td>3.0</td>\n",
              "      <td>0.0</td>\n",
              "      <td>1076 Carney Fort Apt. 347\\r\\nLoganmouth, SD 05113</td>\n",
              "      <td>1</td>\n",
              "      <td>4.0</td>\n",
              "      <td>0</td>\n",
              "      <td>2</td>\n",
              "      <td>False</td>\n",
              "    </tr>\n",
              "    <tr>\n",
              "      <th>2</th>\n",
              "      <td>15600.0</td>\n",
              "      <td>10.49</td>\n",
              "      <td>506.97</td>\n",
              "      <td>B</td>\n",
              "      <td>B3</td>\n",
              "      <td>Statistician</td>\n",
              "      <td>&lt; 1 year</td>\n",
              "      <td>RENT</td>\n",
              "      <td>43057.0</td>\n",
              "      <td>Source Verified</td>\n",
              "      <td>Jan-2015</td>\n",
              "      <td>credit_card</td>\n",
              "      <td>Credit card refinancing</td>\n",
              "      <td>12.79</td>\n",
              "      <td>Aug-2007</td>\n",
              "      <td>13.0</td>\n",
              "      <td>0.0</td>\n",
              "      <td>11987.0</td>\n",
              "      <td>92.2</td>\n",
              "      <td>26.0</td>\n",
              "      <td>f</td>\n",
              "      <td>INDIVIDUAL</td>\n",
              "      <td>0.0</td>\n",
              "      <td>0.0</td>\n",
              "      <td>87025 Mark Dale Apt. 269\\r\\nNew Sabrina, WV 05113</td>\n",
              "      <td>1</td>\n",
              "      <td>0.0</td>\n",
              "      <td>0</td>\n",
              "      <td>2</td>\n",
              "      <td>True</td>\n",
              "    </tr>\n",
              "    <tr>\n",
              "      <th>3</th>\n",
              "      <td>7200.0</td>\n",
              "      <td>6.49</td>\n",
              "      <td>220.65</td>\n",
              "      <td>A</td>\n",
              "      <td>A2</td>\n",
              "      <td>Client Advocate</td>\n",
              "      <td>6 years</td>\n",
              "      <td>RENT</td>\n",
              "      <td>54000.0</td>\n",
              "      <td>Not Verified</td>\n",
              "      <td>Nov-2014</td>\n",
              "      <td>credit_card</td>\n",
              "      <td>Credit card refinancing</td>\n",
              "      <td>2.60</td>\n",
              "      <td>Sep-2006</td>\n",
              "      <td>6.0</td>\n",
              "      <td>0.0</td>\n",
              "      <td>5472.0</td>\n",
              "      <td>21.5</td>\n",
              "      <td>13.0</td>\n",
              "      <td>f</td>\n",
              "      <td>INDIVIDUAL</td>\n",
              "      <td>0.0</td>\n",
              "      <td>0.0</td>\n",
              "      <td>823 Reid Ford\\r\\nDelacruzside, MA 00813</td>\n",
              "      <td>1</td>\n",
              "      <td>6.0</td>\n",
              "      <td>0</td>\n",
              "      <td>1</td>\n",
              "      <td>True</td>\n",
              "    </tr>\n",
              "    <tr>\n",
              "      <th>4</th>\n",
              "      <td>24375.0</td>\n",
              "      <td>17.27</td>\n",
              "      <td>609.33</td>\n",
              "      <td>C</td>\n",
              "      <td>C5</td>\n",
              "      <td>Destiny Management Inc.</td>\n",
              "      <td>9 years</td>\n",
              "      <td>MORTGAGE</td>\n",
              "      <td>55000.0</td>\n",
              "      <td>Verified</td>\n",
              "      <td>Apr-2013</td>\n",
              "      <td>credit_card</td>\n",
              "      <td>Credit Card Refinance</td>\n",
              "      <td>33.95</td>\n",
              "      <td>Mar-1999</td>\n",
              "      <td>13.0</td>\n",
              "      <td>0.0</td>\n",
              "      <td>24584.0</td>\n",
              "      <td>69.8</td>\n",
              "      <td>43.0</td>\n",
              "      <td>f</td>\n",
              "      <td>INDIVIDUAL</td>\n",
              "      <td>1.0</td>\n",
              "      <td>0.0</td>\n",
              "      <td>679 Luna Roads\\r\\nGreggshire, VA 11650</td>\n",
              "      <td>0</td>\n",
              "      <td>9.0</td>\n",
              "      <td>1</td>\n",
              "      <td>3</td>\n",
              "      <td>False</td>\n",
              "    </tr>\n",
              "  </tbody>\n",
              "</table>\n",
              "</div>"
            ],
            "text/plain": [
              "   loan_amnt  int_rate  installment  ... term_ 60 months grade_n home_own_status\n",
              "0    10000.0     11.44       329.48  ...               0       2            True\n",
              "1     8000.0     11.99       265.68  ...               0       2           False\n",
              "2    15600.0     10.49       506.97  ...               0       2            True\n",
              "3     7200.0      6.49       220.65  ...               0       1            True\n",
              "4    24375.0     17.27       609.33  ...               1       3           False\n",
              "\n",
              "[5 rows x 30 columns]"
            ]
          },
          "metadata": {
            "tags": []
          },
          "execution_count": 35
        }
      ]
    },
    {
      "cell_type": "code",
      "metadata": {
        "id": "V4qBaKdj8HNK",
        "colab_type": "code",
        "colab": {
          "base_uri": "https://localhost:8080/",
          "height": 85
        },
        "outputId": "c085e046-7992-447c-81ca-08c12947c5ea"
      },
      "source": [
        "loans['purpose'].unique()"
      ],
      "execution_count": null,
      "outputs": [
        {
          "output_type": "execute_result",
          "data": {
            "text/plain": [
              "array(['vacation', 'debt_consolidation', 'credit_card',\n",
              "       'home_improvement', 'small_business', 'major_purchase', 'other',\n",
              "       'medical', 'wedding', 'car', 'moving', 'house', 'educational',\n",
              "       'renewable_energy'], dtype=object)"
            ]
          },
          "metadata": {
            "tags": []
          },
          "execution_count": 39
        }
      ]
    },
    {
      "cell_type": "code",
      "metadata": {
        "id": "0HxvBYE88hFP",
        "colab_type": "code",
        "colab": {
          "base_uri": "https://localhost:8080/",
          "height": 623
        },
        "outputId": "b248c7e2-ae55-4b80-afa2-1e8be02ec198"
      },
      "source": [
        "plt.figure(figsize=(15,10))\n",
        "sns.boxplot(x='purpose',y='grade_n',data=loans,hue='loan_status_Fully Paid')"
      ],
      "execution_count": null,
      "outputs": [
        {
          "output_type": "execute_result",
          "data": {
            "text/plain": [
              "<matplotlib.axes._subplots.AxesSubplot at 0x7f5783cd38d0>"
            ]
          },
          "metadata": {
            "tags": []
          },
          "execution_count": 41
        },
        {
          "output_type": "display_data",
          "data": {
            "image/png": "[encoded data removed]",
            "text/plain": [
              "<Figure size 1080x720 with 1 Axes>"
            ]
          },
          "metadata": {
            "tags": []
          }
        }
      ]
    },
    {
      "cell_type": "code",
      "metadata": {
        "id": "O5w9EvQA80G_",
        "colab_type": "code",
        "colab": {
          "base_uri": "https://localhost:8080/",
          "height": 612
        },
        "outputId": "915378f1-2b47-4b08-d4df-b5a040086795"
      },
      "source": [
        "loans.info()"
      ],
      "execution_count": null,
      "outputs": [
        {
          "output_type": "stream",
          "text": [
            "<class 'pandas.core.frame.DataFrame'>\n",
            "RangeIndex: 396030 entries, 0 to 396029\n",
            "Data columns (total 30 columns):\n",
            "loan_amnt                 396030 non-null float64\n",
            "int_rate                  396030 non-null float64\n",
            "installment               396030 non-null float64\n",
            "grade                     396030 non-null object\n",
            "sub_grade                 396030 non-null object\n",
            "emp_title                 373103 non-null object\n",
            "emp_length                377729 non-null object\n",
            "home_ownership            396030 non-null object\n",
            "annual_inc                396030 non-null float64\n",
            "verification_status       396030 non-null object\n",
            "issue_d                   396030 non-null object\n",
            "purpose                   396030 non-null object\n",
            "title                     394275 non-null object\n",
            "dti                       396030 non-null float64\n",
            "earliest_cr_line          396030 non-null object\n",
            "open_acc                  396030 non-null float64\n",
            "pub_rec                   396030 non-null float64\n",
            "revol_bal                 396030 non-null float64\n",
            "revol_util                396030 non-null float64\n",
            "total_acc                 396030 non-null float64\n",
            "initial_list_status       396030 non-null object\n",
            "application_type          396030 non-null object\n",
            "mort_acc                  396030 non-null float64\n",
            "pub_rec_bankruptcies      395495 non-null float64\n",
            "address                   396030 non-null object\n",
            "loan_status_Fully Paid    396030 non-null uint8\n",
            "emp_y                     396030 non-null float64\n",
            "term_ 60 months           396030 non-null uint8\n",
            "grade_n                   396030 non-null int64\n",
            "home_own_status           396030 non-null bool\n",
            "dtypes: bool(1), float64(13), int64(1), object(13), uint8(2)\n",
            "memory usage: 82.7+ MB\n"
          ],
          "name": "stdout"
        }
      ]
    },
    {
      "cell_type": "code",
      "metadata": {
        "id": "4rr8YOH5-FGf",
        "colab_type": "code",
        "colab": {
          "base_uri": "https://localhost:8080/",
          "height": 34
        },
        "outputId": "a022599d-4303-4f6d-cd82-ee9458e07544"
      },
      "source": [
        "loans['verification_status'].unique()"
      ],
      "execution_count": null,
      "outputs": [
        {
          "output_type": "execute_result",
          "data": {
            "text/plain": [
              "array(['Not Verified', 'Source Verified', 'Verified'], dtype=object)"
            ]
          },
          "metadata": {
            "tags": []
          },
          "execution_count": 43
        }
      ]
    },
    {
      "cell_type": "code",
      "metadata": {
        "id": "Vy2USHmY-h9h",
        "colab_type": "code",
        "colab": {}
      },
      "source": [
        "def verification (ver):\n",
        "  if ver == 'Not Verified':\n",
        "    return True\n",
        "  return False"
      ],
      "execution_count": null,
      "outputs": []
    },
    {
      "cell_type": "code",
      "metadata": {
        "id": "V6hkxFPJ-4Dr",
        "colab_type": "code",
        "colab": {
          "base_uri": "https://localhost:8080/",
          "height": 34
        },
        "outputId": "f75e62b4-1a9d-4170-bc9d-9c267c93e554"
      },
      "source": [
        "verification('Verified')"
      ],
      "execution_count": null,
      "outputs": [
        {
          "output_type": "execute_result",
          "data": {
            "text/plain": [
              "False"
            ]
          },
          "metadata": {
            "tags": []
          },
          "execution_count": 45
        }
      ]
    },
    {
      "cell_type": "code",
      "metadata": {
        "id": "raxDJSru-8na",
        "colab_type": "code",
        "colab": {}
      },
      "source": [
        "loans['verification']=loans['verification_status'].apply(verification)"
      ],
      "execution_count": null,
      "outputs": []
    },
    {
      "cell_type": "code",
      "metadata": {
        "id": "d5mHbcUU_NDj",
        "colab_type": "code",
        "colab": {
          "base_uri": "https://localhost:8080/",
          "height": 34
        },
        "outputId": "b2b4dc5f-e6b2-4e6b-a511-3f0ce7fb3cbd"
      },
      "source": [
        "int(loans['issue_d'][6][-4:])"
      ],
      "execution_count": null,
      "outputs": [
        {
          "output_type": "execute_result",
          "data": {
            "text/plain": [
              "2015"
            ]
          },
          "metadata": {
            "tags": []
          },
          "execution_count": 54
        }
      ]
    },
    {
      "cell_type": "code",
      "metadata": {
        "id": "AspQ9kbl_apR",
        "colab_type": "code",
        "colab": {}
      },
      "source": [
        "def str_year (year):\n",
        "  return int(year[-4:])"
      ],
      "execution_count": null,
      "outputs": []
    },
    {
      "cell_type": "code",
      "metadata": {
        "id": "i5SEp_tEAlcg",
        "colab_type": "code",
        "colab": {
          "base_uri": "https://localhost:8080/",
          "height": 34
        },
        "outputId": "587b6df3-cf20-4a91-b5b1-7a03f27265e8"
      },
      "source": [
        "str_year(loans['earliest_cr_line'][3])"
      ],
      "execution_count": null,
      "outputs": [
        {
          "output_type": "execute_result",
          "data": {
            "text/plain": [
              "2006"
            ]
          },
          "metadata": {
            "tags": []
          },
          "execution_count": 57
        }
      ]
    },
    {
      "cell_type": "code",
      "metadata": {
        "id": "laso2rGsBs7m",
        "colab_type": "code",
        "colab": {}
      },
      "source": [
        "loans['issue_d_n']=loans['issue_d'].apply(str_year)\n",
        "loans['earliest_cr_line_n']=loans['earliest_cr_line'].apply(str_year)"
      ],
      "execution_count": null,
      "outputs": []
    },
    {
      "cell_type": "code",
      "metadata": {
        "id": "Abu14vrZCUdJ",
        "colab_type": "code",
        "colab": {
          "base_uri": "https://localhost:8080/",
          "height": 428
        },
        "outputId": "719ec94d-8537-4346-cdfd-e3fd40f7c759"
      },
      "source": [
        "loans.head()"
      ],
      "execution_count": null,
      "outputs": [
        {
          "output_type": "execute_result",
          "data": {
            "text/html": [
              "<div>\n",
              "<style scoped>\n",
              "    .dataframe tbody tr th:only-of-type {\n",
              "        vertical-align: middle;\n",
              "    }\n",
              "\n",
              "    .dataframe tbody tr th {\n",
              "        vertical-align: top;\n",
              "    }\n",
              "\n",
              "    .dataframe thead th {\n",
              "        text-align: right;\n",
              "    }\n",
              "</style>\n",
              "<table border=\"1\" class=\"dataframe\">\n",
              "  <thead>\n",
              "    <tr style=\"text-align: right;\">\n",
              "      <th></th>\n",
              "      <th>loan_amnt</th>\n",
              "      <th>int_rate</th>\n",
              "      <th>installment</th>\n",
              "      <th>grade</th>\n",
              "      <th>sub_grade</th>\n",
              "      <th>emp_title</th>\n",
              "      <th>emp_length</th>\n",
              "      <th>home_ownership</th>\n",
              "      <th>annual_inc</th>\n",
              "      <th>verification_status</th>\n",
              "      <th>issue_d</th>\n",
              "      <th>purpose</th>\n",
              "      <th>title</th>\n",
              "      <th>dti</th>\n",
              "      <th>earliest_cr_line</th>\n",
              "      <th>open_acc</th>\n",
              "      <th>pub_rec</th>\n",
              "      <th>revol_bal</th>\n",
              "      <th>revol_util</th>\n",
              "      <th>total_acc</th>\n",
              "      <th>initial_list_status</th>\n",
              "      <th>application_type</th>\n",
              "      <th>mort_acc</th>\n",
              "      <th>pub_rec_bankruptcies</th>\n",
              "      <th>address</th>\n",
              "      <th>loan_status_Fully Paid</th>\n",
              "      <th>emp_y</th>\n",
              "      <th>term_ 60 months</th>\n",
              "      <th>grade_n</th>\n",
              "      <th>home_own_status</th>\n",
              "      <th>verification</th>\n",
              "      <th>issue_d_n</th>\n",
              "      <th>earliest_cr_line_n</th>\n",
              "    </tr>\n",
              "  </thead>\n",
              "  <tbody>\n",
              "    <tr>\n",
              "      <th>0</th>\n",
              "      <td>10000.0</td>\n",
              "      <td>11.44</td>\n",
              "      <td>329.48</td>\n",
              "      <td>B</td>\n",
              "      <td>B4</td>\n",
              "      <td>Marketing</td>\n",
              "      <td>10+ years</td>\n",
              "      <td>RENT</td>\n",
              "      <td>117000.0</td>\n",
              "      <td>Not Verified</td>\n",
              "      <td>Jan-2015</td>\n",
              "      <td>vacation</td>\n",
              "      <td>Vacation</td>\n",
              "      <td>26.24</td>\n",
              "      <td>Jun-1990</td>\n",
              "      <td>16.0</td>\n",
              "      <td>0.0</td>\n",
              "      <td>36369.0</td>\n",
              "      <td>41.8</td>\n",
              "      <td>25.0</td>\n",
              "      <td>w</td>\n",
              "      <td>INDIVIDUAL</td>\n",
              "      <td>0.0</td>\n",
              "      <td>0.0</td>\n",
              "      <td>0174 Michelle Gateway\\r\\nMendozaberg, OK 22690</td>\n",
              "      <td>1</td>\n",
              "      <td>10.0</td>\n",
              "      <td>0</td>\n",
              "      <td>2</td>\n",
              "      <td>True</td>\n",
              "      <td>True</td>\n",
              "      <td>2015</td>\n",
              "      <td>1990</td>\n",
              "    </tr>\n",
              "    <tr>\n",
              "      <th>1</th>\n",
              "      <td>8000.0</td>\n",
              "      <td>11.99</td>\n",
              "      <td>265.68</td>\n",
              "      <td>B</td>\n",
              "      <td>B5</td>\n",
              "      <td>Credit analyst</td>\n",
              "      <td>4 years</td>\n",
              "      <td>MORTGAGE</td>\n",
              "      <td>65000.0</td>\n",
              "      <td>Not Verified</td>\n",
              "      <td>Jan-2015</td>\n",
              "      <td>debt_consolidation</td>\n",
              "      <td>Debt consolidation</td>\n",
              "      <td>22.05</td>\n",
              "      <td>Jul-2004</td>\n",
              "      <td>17.0</td>\n",
              "      <td>0.0</td>\n",
              "      <td>20131.0</td>\n",
              "      <td>53.3</td>\n",
              "      <td>27.0</td>\n",
              "      <td>f</td>\n",
              "      <td>INDIVIDUAL</td>\n",
              "      <td>3.0</td>\n",
              "      <td>0.0</td>\n",
              "      <td>1076 Carney Fort Apt. 347\\r\\nLoganmouth, SD 05113</td>\n",
              "      <td>1</td>\n",
              "      <td>4.0</td>\n",
              "      <td>0</td>\n",
              "      <td>2</td>\n",
              "      <td>False</td>\n",
              "      <td>True</td>\n",
              "      <td>2015</td>\n",
              "      <td>2004</td>\n",
              "    </tr>\n",
              "    <tr>\n",
              "      <th>2</th>\n",
              "      <td>15600.0</td>\n",
              "      <td>10.49</td>\n",
              "      <td>506.97</td>\n",
              "      <td>B</td>\n",
              "      <td>B3</td>\n",
              "      <td>Statistician</td>\n",
              "      <td>&lt; 1 year</td>\n",
              "      <td>RENT</td>\n",
              "      <td>43057.0</td>\n",
              "      <td>Source Verified</td>\n",
              "      <td>Jan-2015</td>\n",
              "      <td>credit_card</td>\n",
              "      <td>Credit card refinancing</td>\n",
              "      <td>12.79</td>\n",
              "      <td>Aug-2007</td>\n",
              "      <td>13.0</td>\n",
              "      <td>0.0</td>\n",
              "      <td>11987.0</td>\n",
              "      <td>92.2</td>\n",
              "      <td>26.0</td>\n",
              "      <td>f</td>\n",
              "      <td>INDIVIDUAL</td>\n",
              "      <td>0.0</td>\n",
              "      <td>0.0</td>\n",
              "      <td>87025 Mark Dale Apt. 269\\r\\nNew Sabrina, WV 05113</td>\n",
              "      <td>1</td>\n",
              "      <td>0.0</td>\n",
              "      <td>0</td>\n",
              "      <td>2</td>\n",
              "      <td>True</td>\n",
              "      <td>False</td>\n",
              "      <td>2015</td>\n",
              "      <td>2007</td>\n",
              "    </tr>\n",
              "    <tr>\n",
              "      <th>3</th>\n",
              "      <td>7200.0</td>\n",
              "      <td>6.49</td>\n",
              "      <td>220.65</td>\n",
              "      <td>A</td>\n",
              "      <td>A2</td>\n",
              "      <td>Client Advocate</td>\n",
              "      <td>6 years</td>\n",
              "      <td>RENT</td>\n",
              "      <td>54000.0</td>\n",
              "      <td>Not Verified</td>\n",
              "      <td>Nov-2014</td>\n",
              "      <td>credit_card</td>\n",
              "      <td>Credit card refinancing</td>\n",
              "      <td>2.60</td>\n",
              "      <td>Sep-2006</td>\n",
              "      <td>6.0</td>\n",
              "      <td>0.0</td>\n",
              "      <td>5472.0</td>\n",
              "      <td>21.5</td>\n",
              "      <td>13.0</td>\n",
              "      <td>f</td>\n",
              "      <td>INDIVIDUAL</td>\n",
              "      <td>0.0</td>\n",
              "      <td>0.0</td>\n",
              "      <td>823 Reid Ford\\r\\nDelacruzside, MA 00813</td>\n",
              "      <td>1</td>\n",
              "      <td>6.0</td>\n",
              "      <td>0</td>\n",
              "      <td>1</td>\n",
              "      <td>True</td>\n",
              "      <td>True</td>\n",
              "      <td>2014</td>\n",
              "      <td>2006</td>\n",
              "    </tr>\n",
              "    <tr>\n",
              "      <th>4</th>\n",
              "      <td>24375.0</td>\n",
              "      <td>17.27</td>\n",
              "      <td>609.33</td>\n",
              "      <td>C</td>\n",
              "      <td>C5</td>\n",
              "      <td>Destiny Management Inc.</td>\n",
              "      <td>9 years</td>\n",
              "      <td>MORTGAGE</td>\n",
              "      <td>55000.0</td>\n",
              "      <td>Verified</td>\n",
              "      <td>Apr-2013</td>\n",
              "      <td>credit_card</td>\n",
              "      <td>Credit Card Refinance</td>\n",
              "      <td>33.95</td>\n",
              "      <td>Mar-1999</td>\n",
              "      <td>13.0</td>\n",
              "      <td>0.0</td>\n",
              "      <td>24584.0</td>\n",
              "      <td>69.8</td>\n",
              "      <td>43.0</td>\n",
              "      <td>f</td>\n",
              "      <td>INDIVIDUAL</td>\n",
              "      <td>1.0</td>\n",
              "      <td>0.0</td>\n",
              "      <td>679 Luna Roads\\r\\nGreggshire, VA 11650</td>\n",
              "      <td>0</td>\n",
              "      <td>9.0</td>\n",
              "      <td>1</td>\n",
              "      <td>3</td>\n",
              "      <td>False</td>\n",
              "      <td>False</td>\n",
              "      <td>2013</td>\n",
              "      <td>1999</td>\n",
              "    </tr>\n",
              "  </tbody>\n",
              "</table>\n",
              "</div>"
            ],
            "text/plain": [
              "   loan_amnt  int_rate  ...  issue_d_n earliest_cr_line_n\n",
              "0    10000.0     11.44  ...       2015               1990\n",
              "1     8000.0     11.99  ...       2015               2004\n",
              "2    15600.0     10.49  ...       2015               2007\n",
              "3     7200.0      6.49  ...       2014               2006\n",
              "4    24375.0     17.27  ...       2013               1999\n",
              "\n",
              "[5 rows x 33 columns]"
            ]
          },
          "metadata": {
            "tags": []
          },
          "execution_count": 59
        }
      ]
    },
    {
      "cell_type": "code",
      "metadata": {
        "id": "jxT028I5CaOr",
        "colab_type": "code",
        "colab": {
          "base_uri": "https://localhost:8080/",
          "height": 34
        },
        "outputId": "30630d3b-3125-43da-806a-5967db19f74b"
      },
      "source": [
        "loans['initial_list_status'].unique()"
      ],
      "execution_count": null,
      "outputs": [
        {
          "output_type": "execute_result",
          "data": {
            "text/plain": [
              "array(['w', 'f'], dtype=object)"
            ]
          },
          "metadata": {
            "tags": []
          },
          "execution_count": 60
        }
      ]
    },
    {
      "cell_type": "code",
      "metadata": {
        "id": "iAx-i5xiDCjQ",
        "colab_type": "code",
        "colab": {
          "base_uri": "https://localhost:8080/",
          "height": 34
        },
        "outputId": "5df36b74-641e-4fec-bfe3-fb8aaec2fd6a"
      },
      "source": [
        "loans['application_type'].unique() "
      ],
      "execution_count": null,
      "outputs": [
        {
          "output_type": "execute_result",
          "data": {
            "text/plain": [
              "array(['INDIVIDUAL', 'JOINT', 'DIRECT_PAY'], dtype=object)"
            ]
          },
          "metadata": {
            "tags": []
          },
          "execution_count": 61
        }
      ]
    },
    {
      "cell_type": "code",
      "metadata": {
        "id": "Bk4rP3scDKzS",
        "colab_type": "code",
        "colab": {
          "base_uri": "https://localhost:8080/",
          "height": 624
        },
        "outputId": "33f3eb9a-2b08-4b0b-e929-9fcbca9bf11a"
      },
      "source": [
        "plt.figure(figsize=(15,10))\n",
        "sns.boxplot(x='application_type',y='grade_n',data=loans,hue='loan_status_Fully Paid')"
      ],
      "execution_count": null,
      "outputs": [
        {
          "output_type": "execute_result",
          "data": {
            "text/plain": [
              "<matplotlib.axes._subplots.AxesSubplot at 0x7f5785e990b8>"
            ]
          },
          "metadata": {
            "tags": []
          },
          "execution_count": 62
        },
        {
          "output_type": "display_data",
          "data": {
            "image/png": "[encoded data removed]",
            "text/plain": [
              "<Figure size 1080x720 with 1 Axes>"
            ]
          },
          "metadata": {
            "tags": []
          }
        }
      ]
    },
    {
      "cell_type": "code",
      "metadata": {
        "id": "et_w8ogKDYFa",
        "colab_type": "code",
        "colab": {}
      },
      "source": [
        "loans=pd.get_dummies(data=loans,columns=['initial_list_status'],drop_first=True)"
      ],
      "execution_count": null,
      "outputs": []
    },
    {
      "cell_type": "code",
      "metadata": {
        "id": "OuGjDGOcD4x_",
        "colab_type": "code",
        "colab": {}
      },
      "source": [
        "def indi (ver):\n",
        "  if ver == 'INDIVIDUAL':\n",
        "    return True\n",
        "  return False"
      ],
      "execution_count": null,
      "outputs": []
    },
    {
      "cell_type": "code",
      "metadata": {
        "id": "sSQDvMlFEII_",
        "colab_type": "code",
        "colab": {}
      },
      "source": [
        "loans['application_type_a']=loans['application_type'].apply(indi)"
      ],
      "execution_count": null,
      "outputs": []
    },
    {
      "cell_type": "code",
      "metadata": {
        "id": "manMK1JdEW7l",
        "colab_type": "code",
        "colab": {
          "base_uri": "https://localhost:8080/",
          "height": 428
        },
        "outputId": "00897436-8ea9-40db-fd85-c4e2c9f7ecf8"
      },
      "source": [
        "loans.head()"
      ],
      "execution_count": null,
      "outputs": [
        {
          "output_type": "execute_result",
          "data": {
            "text/html": [
              "<div>\n",
              "<style scoped>\n",
              "    .dataframe tbody tr th:only-of-type {\n",
              "        vertical-align: middle;\n",
              "    }\n",
              "\n",
              "    .dataframe tbody tr th {\n",
              "        vertical-align: top;\n",
              "    }\n",
              "\n",
              "    .dataframe thead th {\n",
              "        text-align: right;\n",
              "    }\n",
              "</style>\n",
              "<table border=\"1\" class=\"dataframe\">\n",
              "  <thead>\n",
              "    <tr style=\"text-align: right;\">\n",
              "      <th></th>\n",
              "      <th>loan_amnt</th>\n",
              "      <th>int_rate</th>\n",
              "      <th>installment</th>\n",
              "      <th>grade</th>\n",
              "      <th>sub_grade</th>\n",
              "      <th>emp_title</th>\n",
              "      <th>emp_length</th>\n",
              "      <th>home_ownership</th>\n",
              "      <th>annual_inc</th>\n",
              "      <th>verification_status</th>\n",
              "      <th>issue_d</th>\n",
              "      <th>purpose</th>\n",
              "      <th>title</th>\n",
              "      <th>dti</th>\n",
              "      <th>earliest_cr_line</th>\n",
              "      <th>open_acc</th>\n",
              "      <th>pub_rec</th>\n",
              "      <th>revol_bal</th>\n",
              "      <th>revol_util</th>\n",
              "      <th>total_acc</th>\n",
              "      <th>application_type</th>\n",
              "      <th>mort_acc</th>\n",
              "      <th>pub_rec_bankruptcies</th>\n",
              "      <th>address</th>\n",
              "      <th>loan_status_Fully Paid</th>\n",
              "      <th>emp_y</th>\n",
              "      <th>term_ 60 months</th>\n",
              "      <th>grade_n</th>\n",
              "      <th>home_own_status</th>\n",
              "      <th>verification</th>\n",
              "      <th>issue_d_n</th>\n",
              "      <th>earliest_cr_line_n</th>\n",
              "      <th>initial_list_status_w</th>\n",
              "      <th>application_type_a</th>\n",
              "    </tr>\n",
              "  </thead>\n",
              "  <tbody>\n",
              "    <tr>\n",
              "      <th>0</th>\n",
              "      <td>10000.0</td>\n",
              "      <td>11.44</td>\n",
              "      <td>329.48</td>\n",
              "      <td>B</td>\n",
              "      <td>B4</td>\n",
              "      <td>Marketing</td>\n",
              "      <td>10+ years</td>\n",
              "      <td>RENT</td>\n",
              "      <td>117000.0</td>\n",
              "      <td>Not Verified</td>\n",
              "      <td>Jan-2015</td>\n",
              "      <td>vacation</td>\n",
              "      <td>Vacation</td>\n",
              "      <td>26.24</td>\n",
              "      <td>Jun-1990</td>\n",
              "      <td>16.0</td>\n",
              "      <td>0.0</td>\n",
              "      <td>36369.0</td>\n",
              "      <td>41.8</td>\n",
              "      <td>25.0</td>\n",
              "      <td>INDIVIDUAL</td>\n",
              "      <td>0.0</td>\n",
              "      <td>0.0</td>\n",
              "      <td>0174 Michelle Gateway\\r\\nMendozaberg, OK 22690</td>\n",
              "      <td>1</td>\n",
              "      <td>10.0</td>\n",
              "      <td>0</td>\n",
              "      <td>2</td>\n",
              "      <td>True</td>\n",
              "      <td>True</td>\n",
              "      <td>2015</td>\n",
              "      <td>1990</td>\n",
              "      <td>1</td>\n",
              "      <td>True</td>\n",
              "    </tr>\n",
              "    <tr>\n",
              "      <th>1</th>\n",
              "      <td>8000.0</td>\n",
              "      <td>11.99</td>\n",
              "      <td>265.68</td>\n",
              "      <td>B</td>\n",
              "      <td>B5</td>\n",
              "      <td>Credit analyst</td>\n",
              "      <td>4 years</td>\n",
              "      <td>MORTGAGE</td>\n",
              "      <td>65000.0</td>\n",
              "      <td>Not Verified</td>\n",
              "      <td>Jan-2015</td>\n",
              "      <td>debt_consolidation</td>\n",
              "      <td>Debt consolidation</td>\n",
              "      <td>22.05</td>\n",
              "      <td>Jul-2004</td>\n",
              "      <td>17.0</td>\n",
              "      <td>0.0</td>\n",
              "      <td>20131.0</td>\n",
              "      <td>53.3</td>\n",
              "      <td>27.0</td>\n",
              "      <td>INDIVIDUAL</td>\n",
              "      <td>3.0</td>\n",
              "      <td>0.0</td>\n",
              "      <td>1076 Carney Fort Apt. 347\\r\\nLoganmouth, SD 05113</td>\n",
              "      <td>1</td>\n",
              "      <td>4.0</td>\n",
              "      <td>0</td>\n",
              "      <td>2</td>\n",
              "      <td>False</td>\n",
              "      <td>True</td>\n",
              "      <td>2015</td>\n",
              "      <td>2004</td>\n",
              "      <td>0</td>\n",
              "      <td>True</td>\n",
              "    </tr>\n",
              "    <tr>\n",
              "      <th>2</th>\n",
              "      <td>15600.0</td>\n",
              "      <td>10.49</td>\n",
              "      <td>506.97</td>\n",
              "      <td>B</td>\n",
              "      <td>B3</td>\n",
              "      <td>Statistician</td>\n",
              "      <td>&lt; 1 year</td>\n",
              "      <td>RENT</td>\n",
              "      <td>43057.0</td>\n",
              "      <td>Source Verified</td>\n",
              "      <td>Jan-2015</td>\n",
              "      <td>credit_card</td>\n",
              "      <td>Credit card refinancing</td>\n",
              "      <td>12.79</td>\n",
              "      <td>Aug-2007</td>\n",
              "      <td>13.0</td>\n",
              "      <td>0.0</td>\n",
              "      <td>11987.0</td>\n",
              "      <td>92.2</td>\n",
              "      <td>26.0</td>\n",
              "      <td>INDIVIDUAL</td>\n",
              "      <td>0.0</td>\n",
              "      <td>0.0</td>\n",
              "      <td>87025 Mark Dale Apt. 269\\r\\nNew Sabrina, WV 05113</td>\n",
              "      <td>1</td>\n",
              "      <td>0.0</td>\n",
              "      <td>0</td>\n",
              "      <td>2</td>\n",
              "      <td>True</td>\n",
              "      <td>False</td>\n",
              "      <td>2015</td>\n",
              "      <td>2007</td>\n",
              "      <td>0</td>\n",
              "      <td>True</td>\n",
              "    </tr>\n",
              "    <tr>\n",
              "      <th>3</th>\n",
              "      <td>7200.0</td>\n",
              "      <td>6.49</td>\n",
              "      <td>220.65</td>\n",
              "      <td>A</td>\n",
              "      <td>A2</td>\n",
              "      <td>Client Advocate</td>\n",
              "      <td>6 years</td>\n",
              "      <td>RENT</td>\n",
              "      <td>54000.0</td>\n",
              "      <td>Not Verified</td>\n",
              "      <td>Nov-2014</td>\n",
              "      <td>credit_card</td>\n",
              "      <td>Credit card refinancing</td>\n",
              "      <td>2.60</td>\n",
              "      <td>Sep-2006</td>\n",
              "      <td>6.0</td>\n",
              "      <td>0.0</td>\n",
              "      <td>5472.0</td>\n",
              "      <td>21.5</td>\n",
              "      <td>13.0</td>\n",
              "      <td>INDIVIDUAL</td>\n",
              "      <td>0.0</td>\n",
              "      <td>0.0</td>\n",
              "      <td>823 Reid Ford\\r\\nDelacruzside, MA 00813</td>\n",
              "      <td>1</td>\n",
              "      <td>6.0</td>\n",
              "      <td>0</td>\n",
              "      <td>1</td>\n",
              "      <td>True</td>\n",
              "      <td>True</td>\n",
              "      <td>2014</td>\n",
              "      <td>2006</td>\n",
              "      <td>0</td>\n",
              "      <td>True</td>\n",
              "    </tr>\n",
              "    <tr>\n",
              "      <th>4</th>\n",
              "      <td>24375.0</td>\n",
              "      <td>17.27</td>\n",
              "      <td>609.33</td>\n",
              "      <td>C</td>\n",
              "      <td>C5</td>\n",
              "      <td>Destiny Management Inc.</td>\n",
              "      <td>9 years</td>\n",
              "      <td>MORTGAGE</td>\n",
              "      <td>55000.0</td>\n",
              "      <td>Verified</td>\n",
              "      <td>Apr-2013</td>\n",
              "      <td>credit_card</td>\n",
              "      <td>Credit Card Refinance</td>\n",
              "      <td>33.95</td>\n",
              "      <td>Mar-1999</td>\n",
              "      <td>13.0</td>\n",
              "      <td>0.0</td>\n",
              "      <td>24584.0</td>\n",
              "      <td>69.8</td>\n",
              "      <td>43.0</td>\n",
              "      <td>INDIVIDUAL</td>\n",
              "      <td>1.0</td>\n",
              "      <td>0.0</td>\n",
              "      <td>679 Luna Roads\\r\\nGreggshire, VA 11650</td>\n",
              "      <td>0</td>\n",
              "      <td>9.0</td>\n",
              "      <td>1</td>\n",
              "      <td>3</td>\n",
              "      <td>False</td>\n",
              "      <td>False</td>\n",
              "      <td>2013</td>\n",
              "      <td>1999</td>\n",
              "      <td>0</td>\n",
              "      <td>True</td>\n",
              "    </tr>\n",
              "  </tbody>\n",
              "</table>\n",
              "</div>"
            ],
            "text/plain": [
              "   loan_amnt  int_rate  ...  initial_list_status_w application_type_a\n",
              "0    10000.0     11.44  ...                      1               True\n",
              "1     8000.0     11.99  ...                      0               True\n",
              "2    15600.0     10.49  ...                      0               True\n",
              "3     7200.0      6.49  ...                      0               True\n",
              "4    24375.0     17.27  ...                      0               True\n",
              "\n",
              "[5 rows x 34 columns]"
            ]
          },
          "metadata": {
            "tags": []
          },
          "execution_count": 66
        }
      ]
    },
    {
      "cell_type": "code",
      "metadata": {
        "id": "82CTDqkkEZpl",
        "colab_type": "code",
        "colab": {
          "base_uri": "https://localhost:8080/",
          "height": 568
        },
        "outputId": "7fccb437-b039-4226-fe4e-efd05e34f549"
      },
      "source": [
        "loans.groupby('purpose').sum()"
      ],
      "execution_count": null,
      "outputs": [
        {
          "output_type": "execute_result",
          "data": {
            "text/html": [
              "<div>\n",
              "<style scoped>\n",
              "    .dataframe tbody tr th:only-of-type {\n",
              "        vertical-align: middle;\n",
              "    }\n",
              "\n",
              "    .dataframe tbody tr th {\n",
              "        vertical-align: top;\n",
              "    }\n",
              "\n",
              "    .dataframe thead th {\n",
              "        text-align: right;\n",
              "    }\n",
              "</style>\n",
              "<table border=\"1\" class=\"dataframe\">\n",
              "  <thead>\n",
              "    <tr style=\"text-align: right;\">\n",
              "      <th></th>\n",
              "      <th>loan_amnt</th>\n",
              "      <th>int_rate</th>\n",
              "      <th>installment</th>\n",
              "      <th>annual_inc</th>\n",
              "      <th>dti</th>\n",
              "      <th>open_acc</th>\n",
              "      <th>pub_rec</th>\n",
              "      <th>revol_bal</th>\n",
              "      <th>revol_util</th>\n",
              "      <th>total_acc</th>\n",
              "      <th>mort_acc</th>\n",
              "      <th>pub_rec_bankruptcies</th>\n",
              "      <th>loan_status_Fully Paid</th>\n",
              "      <th>emp_y</th>\n",
              "      <th>term_ 60 months</th>\n",
              "      <th>grade_n</th>\n",
              "      <th>home_own_status</th>\n",
              "      <th>verification</th>\n",
              "      <th>issue_d_n</th>\n",
              "      <th>earliest_cr_line_n</th>\n",
              "      <th>initial_list_status_w</th>\n",
              "      <th>application_type_a</th>\n",
              "    </tr>\n",
              "    <tr>\n",
              "      <th>purpose</th>\n",
              "      <th></th>\n",
              "      <th></th>\n",
              "      <th></th>\n",
              "      <th></th>\n",
              "      <th></th>\n",
              "      <th></th>\n",
              "      <th></th>\n",
              "      <th></th>\n",
              "      <th></th>\n",
              "      <th></th>\n",
              "      <th></th>\n",
              "      <th></th>\n",
              "      <th></th>\n",
              "      <th></th>\n",
              "      <th></th>\n",
              "      <th></th>\n",
              "      <th></th>\n",
              "      <th></th>\n",
              "      <th></th>\n",
              "      <th></th>\n",
              "      <th></th>\n",
              "      <th></th>\n",
              "    </tr>\n",
              "  </thead>\n",
              "  <tbody>\n",
              "    <tr>\n",
              "      <th>car</th>\n",
              "      <td>3.861595e+07</td>\n",
              "      <td>5.573840e+04</td>\n",
              "      <td>1.173199e+06</td>\n",
              "      <td>3.086615e+08</td>\n",
              "      <td>64126.12</td>\n",
              "      <td>45156.0</td>\n",
              "      <td>734.0</td>\n",
              "      <td>5.032106e+07</td>\n",
              "      <td>1.893122e+05</td>\n",
              "      <td>103623.0</td>\n",
              "      <td>8152.0</td>\n",
              "      <td>486.0</td>\n",
              "      <td>4064.0</td>\n",
              "      <td>24469.0</td>\n",
              "      <td>919.0</td>\n",
              "      <td>11048</td>\n",
              "      <td>2651.0</td>\n",
              "      <td>2222.0</td>\n",
              "      <td>9454653</td>\n",
              "      <td>9386505</td>\n",
              "      <td>1367.0</td>\n",
              "      <td>4694.0</td>\n",
              "    </tr>\n",
              "    <tr>\n",
              "      <th>credit_card</th>\n",
              "      <td>1.202306e+09</td>\n",
              "      <td>1.026149e+06</td>\n",
              "      <td>3.672392e+07</td>\n",
              "      <td>6.139908e+09</td>\n",
              "      <td>1470491.85</td>\n",
              "      <td>962858.0</td>\n",
              "      <td>13036.0</td>\n",
              "      <td>1.555724e+09</td>\n",
              "      <td>4.824662e+06</td>\n",
              "      <td>2114392.0</td>\n",
              "      <td>150631.0</td>\n",
              "      <td>9325.0</td>\n",
              "      <td>69145.0</td>\n",
              "      <td>483985.0</td>\n",
              "      <td>16274.0</td>\n",
              "      <td>201284</td>\n",
              "      <td>42354.0</td>\n",
              "      <td>28629.0</td>\n",
              "      <td>167173840</td>\n",
              "      <td>165844611</td>\n",
              "      <td>35170.0</td>\n",
              "      <td>82877.0</td>\n",
              "    </tr>\n",
              "    <tr>\n",
              "      <th>debt_consolidation</th>\n",
              "      <td>3.489117e+09</td>\n",
              "      <td>3.268240e+06</td>\n",
              "      <td>1.065371e+08</td>\n",
              "      <td>1.711120e+10</td>\n",
              "      <td>4246024.29</td>\n",
              "      <td>2708843.0</td>\n",
              "      <td>42505.0</td>\n",
              "      <td>3.725090e+09</td>\n",
              "      <td>1.293234e+07</td>\n",
              "      <td>6080211.0</td>\n",
              "      <td>426533.0</td>\n",
              "      <td>29097.0</td>\n",
              "      <td>185867.0</td>\n",
              "      <td>1415452.0</td>\n",
              "      <td>61527.0</td>\n",
              "      <td>681615</td>\n",
              "      <td>117342.0</td>\n",
              "      <td>69515.0</td>\n",
              "      <td>472228385</td>\n",
              "      <td>468514575</td>\n",
              "      <td>95492.0</td>\n",
              "      <td>234034.0</td>\n",
              "    </tr>\n",
              "    <tr>\n",
              "      <th>educational</th>\n",
              "      <td>1.752925e+06</td>\n",
              "      <td>3.004160e+03</td>\n",
              "      <td>5.648032e+04</td>\n",
              "      <td>1.354344e+07</td>\n",
              "      <td>2917.83</td>\n",
              "      <td>2313.0</td>\n",
              "      <td>11.0</td>\n",
              "      <td>2.500173e+06</td>\n",
              "      <td>1.013408e+04</td>\n",
              "      <td>4775.0</td>\n",
              "      <td>512.0</td>\n",
              "      <td>7.0</td>\n",
              "      <td>215.0</td>\n",
              "      <td>924.0</td>\n",
              "      <td>11.0</td>\n",
              "      <td>627</td>\n",
              "      <td>181.0</td>\n",
              "      <td>174.0</td>\n",
              "      <td>516349</td>\n",
              "      <td>513348</td>\n",
              "      <td>0.0</td>\n",
              "      <td>257.0</td>\n",
              "    </tr>\n",
              "    <tr>\n",
              "      <th>home_improvement</th>\n",
              "      <td>3.391606e+08</td>\n",
              "      <td>3.159250e+05</td>\n",
              "      <td>1.018422e+07</td>\n",
              "      <td>2.193251e+09</td>\n",
              "      <td>350703.38</td>\n",
              "      <td>263190.0</td>\n",
              "      <td>5704.0</td>\n",
              "      <td>3.522449e+08</td>\n",
              "      <td>1.052700e+06</td>\n",
              "      <td>632016.0</td>\n",
              "      <td>59724.0</td>\n",
              "      <td>3765.0</td>\n",
              "      <td>19943.0</td>\n",
              "      <td>153955.0</td>\n",
              "      <td>6237.0</td>\n",
              "      <td>65170</td>\n",
              "      <td>5340.0</td>\n",
              "      <td>7660.0</td>\n",
              "      <td>48388690</td>\n",
              "      <td>47987421</td>\n",
              "      <td>10020.0</td>\n",
              "      <td>23990.0</td>\n",
              "    </tr>\n",
              "    <tr>\n",
              "      <th>house</th>\n",
              "      <td>3.388482e+07</td>\n",
              "      <td>3.437495e+04</td>\n",
              "      <td>1.057400e+06</td>\n",
              "      <td>1.789227e+08</td>\n",
              "      <td>30463.90</td>\n",
              "      <td>22822.0</td>\n",
              "      <td>372.0</td>\n",
              "      <td>2.468123e+07</td>\n",
              "      <td>8.629380e+04</td>\n",
              "      <td>52490.0</td>\n",
              "      <td>3855.0</td>\n",
              "      <td>252.0</td>\n",
              "      <td>1767.0</td>\n",
              "      <td>11652.0</td>\n",
              "      <td>600.0</td>\n",
              "      <td>7545</td>\n",
              "      <td>1408.0</td>\n",
              "      <td>557.0</td>\n",
              "      <td>4431431</td>\n",
              "      <td>4399999</td>\n",
              "      <td>680.0</td>\n",
              "      <td>2198.0</td>\n",
              "    </tr>\n",
              "    <tr>\n",
              "      <th>major_purchase</th>\n",
              "      <td>9.606522e+07</td>\n",
              "      <td>1.112493e+05</td>\n",
              "      <td>2.918855e+06</td>\n",
              "      <td>6.645357e+08</td>\n",
              "      <td>120168.84</td>\n",
              "      <td>86390.0</td>\n",
              "      <td>1393.0</td>\n",
              "      <td>9.396127e+07</td>\n",
              "      <td>3.472130e+05</td>\n",
              "      <td>198618.0</td>\n",
              "      <td>14615.0</td>\n",
              "      <td>885.0</td>\n",
              "      <td>7342.0</td>\n",
              "      <td>47541.0</td>\n",
              "      <td>1752.0</td>\n",
              "      <td>22705</td>\n",
              "      <td>4960.0</td>\n",
              "      <td>3525.0</td>\n",
              "      <td>17696165</td>\n",
              "      <td>17568890</td>\n",
              "      <td>3080.0</td>\n",
              "      <td>8782.0</td>\n",
              "    </tr>\n",
              "    <tr>\n",
              "      <th>medical</th>\n",
              "      <td>3.757452e+07</td>\n",
              "      <td>6.227989e+04</td>\n",
              "      <td>1.183891e+06</td>\n",
              "      <td>3.005232e+08</td>\n",
              "      <td>69156.04</td>\n",
              "      <td>44215.0</td>\n",
              "      <td>798.0</td>\n",
              "      <td>5.362276e+07</td>\n",
              "      <td>2.030432e+05</td>\n",
              "      <td>102472.0</td>\n",
              "      <td>7215.0</td>\n",
              "      <td>541.0</td>\n",
              "      <td>3285.0</td>\n",
              "      <td>24454.0</td>\n",
              "      <td>678.0</td>\n",
              "      <td>13438</td>\n",
              "      <td>2284.0</td>\n",
              "      <td>1553.0</td>\n",
              "      <td>8448743</td>\n",
              "      <td>8381397</td>\n",
              "      <td>1520.0</td>\n",
              "      <td>4192.0</td>\n",
              "    </tr>\n",
              "    <tr>\n",
              "      <th>moving</th>\n",
              "      <td>2.247350e+07</td>\n",
              "      <td>4.471158e+04</td>\n",
              "      <td>7.328606e+05</td>\n",
              "      <td>1.948614e+08</td>\n",
              "      <td>44619.66</td>\n",
              "      <td>28722.0</td>\n",
              "      <td>427.0</td>\n",
              "      <td>2.993960e+07</td>\n",
              "      <td>1.408764e+05</td>\n",
              "      <td>63296.0</td>\n",
              "      <td>3295.0</td>\n",
              "      <td>277.0</td>\n",
              "      <td>2184.0</td>\n",
              "      <td>12521.0</td>\n",
              "      <td>343.0</td>\n",
              "      <td>9832</td>\n",
              "      <td>2328.0</td>\n",
              "      <td>1017.0</td>\n",
              "      <td>5746288</td>\n",
              "      <td>5707412</td>\n",
              "      <td>928.0</td>\n",
              "      <td>2852.0</td>\n",
              "    </tr>\n",
              "    <tr>\n",
              "      <th>other</th>\n",
              "      <td>2.039809e+08</td>\n",
              "      <td>3.228682e+05</td>\n",
              "      <td>6.495298e+06</td>\n",
              "      <td>1.478075e+09</td>\n",
              "      <td>338250.94</td>\n",
              "      <td>213476.0</td>\n",
              "      <td>3868.0</td>\n",
              "      <td>2.577262e+08</td>\n",
              "      <td>1.045562e+06</td>\n",
              "      <td>482974.0</td>\n",
              "      <td>33493.0</td>\n",
              "      <td>2484.0</td>\n",
              "      <td>16690.0</td>\n",
              "      <td>122679.0</td>\n",
              "      <td>3743.0</td>\n",
              "      <td>70099</td>\n",
              "      <td>12721.0</td>\n",
              "      <td>7422.0</td>\n",
              "      <td>42653978</td>\n",
              "      <td>42335170</td>\n",
              "      <td>7276.0</td>\n",
              "      <td>21156.0</td>\n",
              "    </tr>\n",
              "    <tr>\n",
              "      <th>renewable_energy</th>\n",
              "      <td>3.076750e+06</td>\n",
              "      <td>4.928550e+03</td>\n",
              "      <td>9.842977e+04</td>\n",
              "      <td>2.418016e+07</td>\n",
              "      <td>4838.12</td>\n",
              "      <td>3324.0</td>\n",
              "      <td>74.0</td>\n",
              "      <td>4.282152e+06</td>\n",
              "      <td>1.634650e+04</td>\n",
              "      <td>7591.0</td>\n",
              "      <td>576.0</td>\n",
              "      <td>43.0</td>\n",
              "      <td>252.0</td>\n",
              "      <td>1951.0</td>\n",
              "      <td>52.0</td>\n",
              "      <td>1077</td>\n",
              "      <td>178.0</td>\n",
              "      <td>103.0</td>\n",
              "      <td>662311</td>\n",
              "      <td>657367</td>\n",
              "      <td>85.0</td>\n",
              "      <td>329.0</td>\n",
              "    </tr>\n",
              "    <tr>\n",
              "      <th>small_business</th>\n",
              "      <td>8.772265e+07</td>\n",
              "      <td>9.097501e+04</td>\n",
              "      <td>2.774401e+06</td>\n",
              "      <td>4.901371e+08</td>\n",
              "      <td>75536.27</td>\n",
              "      <td>56045.0</td>\n",
              "      <td>1106.0</td>\n",
              "      <td>7.960660e+07</td>\n",
              "      <td>2.521935e+05</td>\n",
              "      <td>128719.0</td>\n",
              "      <td>10512.0</td>\n",
              "      <td>573.0</td>\n",
              "      <td>4022.0</td>\n",
              "      <td>30037.0</td>\n",
              "      <td>1441.0</td>\n",
              "      <td>20376</td>\n",
              "      <td>3021.0</td>\n",
              "      <td>967.0</td>\n",
              "      <td>11474528</td>\n",
              "      <td>11390732</td>\n",
              "      <td>1334.0</td>\n",
              "      <td>5698.0</td>\n",
              "    </tr>\n",
              "    <tr>\n",
              "      <th>vacation</th>\n",
              "      <td>1.525205e+07</td>\n",
              "      <td>3.579427e+04</td>\n",
              "      <td>5.004889e+05</td>\n",
              "      <td>1.642966e+08</td>\n",
              "      <td>40311.57</td>\n",
              "      <td>24846.0</td>\n",
              "      <td>450.0</td>\n",
              "      <td>2.684832e+07</td>\n",
              "      <td>1.175278e+05</td>\n",
              "      <td>57600.0</td>\n",
              "      <td>3731.0</td>\n",
              "      <td>315.0</td>\n",
              "      <td>1988.0</td>\n",
              "      <td>15341.0</td>\n",
              "      <td>175.0</td>\n",
              "      <td>7663</td>\n",
              "      <td>1505.0</td>\n",
              "      <td>974.0</td>\n",
              "      <td>4937295</td>\n",
              "      <td>4901067</td>\n",
              "      <td>865.0</td>\n",
              "      <td>2448.0</td>\n",
              "    </tr>\n",
              "    <tr>\n",
              "      <th>wedding</th>\n",
              "      <td>1.854002e+07</td>\n",
              "      <td>2.537386e+04</td>\n",
              "      <td>5.888913e+05</td>\n",
              "      <td>1.245844e+08</td>\n",
              "      <td>25199.98</td>\n",
              "      <td>17356.0</td>\n",
              "      <td>91.0</td>\n",
              "      <td>1.836485e+07</td>\n",
              "      <td>8.493770e+04</td>\n",
              "      <td>36224.0</td>\n",
              "      <td>2581.0</td>\n",
              "      <td>61.0</td>\n",
              "      <td>1593.0</td>\n",
              "      <td>8018.0</td>\n",
              "      <td>273.0</td>\n",
              "      <td>5251</td>\n",
              "      <td>1263.0</td>\n",
              "      <td>764.0</td>\n",
              "      <td>3644866</td>\n",
              "      <td>3623078</td>\n",
              "      <td>147.0</td>\n",
              "      <td>1812.0</td>\n",
              "    </tr>\n",
              "  </tbody>\n",
              "</table>\n",
              "</div>"
            ],
            "text/plain": [
              "                       loan_amnt  ...  application_type_a\n",
              "purpose                           ...                    \n",
              "car                 3.861595e+07  ...              4694.0\n",
              "credit_card         1.202306e+09  ...             82877.0\n",
              "debt_consolidation  3.489117e+09  ...            234034.0\n",
              "educational         1.752925e+06  ...               257.0\n",
              "home_improvement    3.391606e+08  ...             23990.0\n",
              "house               3.388482e+07  ...              2198.0\n",
              "major_purchase      9.606522e+07  ...              8782.0\n",
              "medical             3.757452e+07  ...              4192.0\n",
              "moving              2.247350e+07  ...              2852.0\n",
              "other               2.039809e+08  ...             21156.0\n",
              "renewable_energy    3.076750e+06  ...               329.0\n",
              "small_business      8.772265e+07  ...              5698.0\n",
              "vacation            1.525205e+07  ...              2448.0\n",
              "wedding             1.854002e+07  ...              1812.0\n",
              "\n",
              "[14 rows x 22 columns]"
            ]
          },
          "metadata": {
            "tags": []
          },
          "execution_count": 67
        }
      ]
    },
    {
      "cell_type": "code",
      "metadata": {
        "id": "yumFlySnE3ts",
        "colab_type": "code",
        "colab": {
          "base_uri": "https://localhost:8080/",
          "height": 85
        },
        "outputId": "6179a6a9-cfa8-40a1-c1d9-c67c7834a134"
      },
      "source": [
        "loans['purpose'].unique()"
      ],
      "execution_count": null,
      "outputs": [
        {
          "output_type": "execute_result",
          "data": {
            "text/plain": [
              "array(['vacation', 'debt_consolidation', 'credit_card',\n",
              "       'home_improvement', 'small_business', 'major_purchase', 'other',\n",
              "       'medical', 'wedding', 'car', 'moving', 'house', 'educational',\n",
              "       'renewable_energy'], dtype=object)"
            ]
          },
          "metadata": {
            "tags": []
          },
          "execution_count": 68
        }
      ]
    },
    {
      "cell_type": "code",
      "metadata": {
        "id": "WiTKpxw5FjyY",
        "colab_type": "code",
        "colab": {}
      },
      "source": [
        "# group 'debt_consolidation', 'credit_card' vs all others\n",
        "def purpose (pur):\n",
        "  if pur == 'debt_consolidation' or pur == 'credit_card':\n",
        "    return True\n",
        "  return False"
      ],
      "execution_count": null,
      "outputs": []
    },
    {
      "cell_type": "code",
      "metadata": {
        "id": "gaLupxT4GAuJ",
        "colab_type": "code",
        "colab": {}
      },
      "source": [
        "loans['purpose_a']=loans['purpose'].apply(purpose)"
      ],
      "execution_count": null,
      "outputs": []
    },
    {
      "cell_type": "code",
      "metadata": {
        "id": "_HNVpQ_dGPpJ",
        "colab_type": "code",
        "colab": {
          "base_uri": "https://localhost:8080/",
          "height": 428
        },
        "outputId": "5537b640-113e-4f96-c61c-313264de37c5"
      },
      "source": [
        "loans.head()"
      ],
      "execution_count": null,
      "outputs": [
        {
          "output_type": "execute_result",
          "data": {
            "text/html": [
              "<div>\n",
              "<style scoped>\n",
              "    .dataframe tbody tr th:only-of-type {\n",
              "        vertical-align: middle;\n",
              "    }\n",
              "\n",
              "    .dataframe tbody tr th {\n",
              "        vertical-align: top;\n",
              "    }\n",
              "\n",
              "    .dataframe thead th {\n",
              "        text-align: right;\n",
              "    }\n",
              "</style>\n",
              "<table border=\"1\" class=\"dataframe\">\n",
              "  <thead>\n",
              "    <tr style=\"text-align: right;\">\n",
              "      <th></th>\n",
              "      <th>loan_amnt</th>\n",
              "      <th>int_rate</th>\n",
              "      <th>installment</th>\n",
              "      <th>grade</th>\n",
              "      <th>sub_grade</th>\n",
              "      <th>emp_title</th>\n",
              "      <th>emp_length</th>\n",
              "      <th>home_ownership</th>\n",
              "      <th>annual_inc</th>\n",
              "      <th>verification_status</th>\n",
              "      <th>issue_d</th>\n",
              "      <th>purpose</th>\n",
              "      <th>title</th>\n",
              "      <th>dti</th>\n",
              "      <th>earliest_cr_line</th>\n",
              "      <th>open_acc</th>\n",
              "      <th>pub_rec</th>\n",
              "      <th>revol_bal</th>\n",
              "      <th>revol_util</th>\n",
              "      <th>total_acc</th>\n",
              "      <th>application_type</th>\n",
              "      <th>mort_acc</th>\n",
              "      <th>pub_rec_bankruptcies</th>\n",
              "      <th>address</th>\n",
              "      <th>loan_status_Fully Paid</th>\n",
              "      <th>emp_y</th>\n",
              "      <th>term_ 60 months</th>\n",
              "      <th>grade_n</th>\n",
              "      <th>home_own_status</th>\n",
              "      <th>verification</th>\n",
              "      <th>issue_d_n</th>\n",
              "      <th>earliest_cr_line_n</th>\n",
              "      <th>initial_list_status_w</th>\n",
              "      <th>application_type_a</th>\n",
              "      <th>purpose_a</th>\n",
              "    </tr>\n",
              "  </thead>\n",
              "  <tbody>\n",
              "    <tr>\n",
              "      <th>0</th>\n",
              "      <td>10000.0</td>\n",
              "      <td>11.44</td>\n",
              "      <td>329.48</td>\n",
              "      <td>B</td>\n",
              "      <td>B4</td>\n",
              "      <td>Marketing</td>\n",
              "      <td>10+ years</td>\n",
              "      <td>RENT</td>\n",
              "      <td>117000.0</td>\n",
              "      <td>Not Verified</td>\n",
              "      <td>Jan-2015</td>\n",
              "      <td>vacation</td>\n",
              "      <td>Vacation</td>\n",
              "      <td>26.24</td>\n",
              "      <td>Jun-1990</td>\n",
              "      <td>16.0</td>\n",
              "      <td>0.0</td>\n",
              "      <td>36369.0</td>\n",
              "      <td>41.8</td>\n",
              "      <td>25.0</td>\n",
              "      <td>INDIVIDUAL</td>\n",
              "      <td>0.0</td>\n",
              "      <td>0.0</td>\n",
              "      <td>0174 Michelle Gateway\\r\\nMendozaberg, OK 22690</td>\n",
              "      <td>1</td>\n",
              "      <td>10.0</td>\n",
              "      <td>0</td>\n",
              "      <td>2</td>\n",
              "      <td>True</td>\n",
              "      <td>True</td>\n",
              "      <td>2015</td>\n",
              "      <td>1990</td>\n",
              "      <td>1</td>\n",
              "      <td>True</td>\n",
              "      <td>False</td>\n",
              "    </tr>\n",
              "    <tr>\n",
              "      <th>1</th>\n",
              "      <td>8000.0</td>\n",
              "      <td>11.99</td>\n",
              "      <td>265.68</td>\n",
              "      <td>B</td>\n",
              "      <td>B5</td>\n",
              "      <td>Credit analyst</td>\n",
              "      <td>4 years</td>\n",
              "      <td>MORTGAGE</td>\n",
              "      <td>65000.0</td>\n",
              "      <td>Not Verified</td>\n",
              "      <td>Jan-2015</td>\n",
              "      <td>debt_consolidation</td>\n",
              "      <td>Debt consolidation</td>\n",
              "      <td>22.05</td>\n",
              "      <td>Jul-2004</td>\n",
              "      <td>17.0</td>\n",
              "      <td>0.0</td>\n",
              "      <td>20131.0</td>\n",
              "      <td>53.3</td>\n",
              "      <td>27.0</td>\n",
              "      <td>INDIVIDUAL</td>\n",
              "      <td>3.0</td>\n",
              "      <td>0.0</td>\n",
              "      <td>1076 Carney Fort Apt. 347\\r\\nLoganmouth, SD 05113</td>\n",
              "      <td>1</td>\n",
              "      <td>4.0</td>\n",
              "      <td>0</td>\n",
              "      <td>2</td>\n",
              "      <td>False</td>\n",
              "      <td>True</td>\n",
              "      <td>2015</td>\n",
              "      <td>2004</td>\n",
              "      <td>0</td>\n",
              "      <td>True</td>\n",
              "      <td>True</td>\n",
              "    </tr>\n",
              "    <tr>\n",
              "      <th>2</th>\n",
              "      <td>15600.0</td>\n",
              "      <td>10.49</td>\n",
              "      <td>506.97</td>\n",
              "      <td>B</td>\n",
              "      <td>B3</td>\n",
              "      <td>Statistician</td>\n",
              "      <td>&lt; 1 year</td>\n",
              "      <td>RENT</td>\n",
              "      <td>43057.0</td>\n",
              "      <td>Source Verified</td>\n",
              "      <td>Jan-2015</td>\n",
              "      <td>credit_card</td>\n",
              "      <td>Credit card refinancing</td>\n",
              "      <td>12.79</td>\n",
              "      <td>Aug-2007</td>\n",
              "      <td>13.0</td>\n",
              "      <td>0.0</td>\n",
              "      <td>11987.0</td>\n",
              "      <td>92.2</td>\n",
              "      <td>26.0</td>\n",
              "      <td>INDIVIDUAL</td>\n",
              "      <td>0.0</td>\n",
              "      <td>0.0</td>\n",
              "      <td>87025 Mark Dale Apt. 269\\r\\nNew Sabrina, WV 05113</td>\n",
              "      <td>1</td>\n",
              "      <td>0.0</td>\n",
              "      <td>0</td>\n",
              "      <td>2</td>\n",
              "      <td>True</td>\n",
              "      <td>False</td>\n",
              "      <td>2015</td>\n",
              "      <td>2007</td>\n",
              "      <td>0</td>\n",
              "      <td>True</td>\n",
              "      <td>True</td>\n",
              "    </tr>\n",
              "    <tr>\n",
              "      <th>3</th>\n",
              "      <td>7200.0</td>\n",
              "      <td>6.49</td>\n",
              "      <td>220.65</td>\n",
              "      <td>A</td>\n",
              "      <td>A2</td>\n",
              "      <td>Client Advocate</td>\n",
              "      <td>6 years</td>\n",
              "      <td>RENT</td>\n",
              "      <td>54000.0</td>\n",
              "      <td>Not Verified</td>\n",
              "      <td>Nov-2014</td>\n",
              "      <td>credit_card</td>\n",
              "      <td>Credit card refinancing</td>\n",
              "      <td>2.60</td>\n",
              "      <td>Sep-2006</td>\n",
              "      <td>6.0</td>\n",
              "      <td>0.0</td>\n",
              "      <td>5472.0</td>\n",
              "      <td>21.5</td>\n",
              "      <td>13.0</td>\n",
              "      <td>INDIVIDUAL</td>\n",
              "      <td>0.0</td>\n",
              "      <td>0.0</td>\n",
              "      <td>823 Reid Ford\\r\\nDelacruzside, MA 00813</td>\n",
              "      <td>1</td>\n",
              "      <td>6.0</td>\n",
              "      <td>0</td>\n",
              "      <td>1</td>\n",
              "      <td>True</td>\n",
              "      <td>True</td>\n",
              "      <td>2014</td>\n",
              "      <td>2006</td>\n",
              "      <td>0</td>\n",
              "      <td>True</td>\n",
              "      <td>True</td>\n",
              "    </tr>\n",
              "    <tr>\n",
              "      <th>4</th>\n",
              "      <td>24375.0</td>\n",
              "      <td>17.27</td>\n",
              "      <td>609.33</td>\n",
              "      <td>C</td>\n",
              "      <td>C5</td>\n",
              "      <td>Destiny Management Inc.</td>\n",
              "      <td>9 years</td>\n",
              "      <td>MORTGAGE</td>\n",
              "      <td>55000.0</td>\n",
              "      <td>Verified</td>\n",
              "      <td>Apr-2013</td>\n",
              "      <td>credit_card</td>\n",
              "      <td>Credit Card Refinance</td>\n",
              "      <td>33.95</td>\n",
              "      <td>Mar-1999</td>\n",
              "      <td>13.0</td>\n",
              "      <td>0.0</td>\n",
              "      <td>24584.0</td>\n",
              "      <td>69.8</td>\n",
              "      <td>43.0</td>\n",
              "      <td>INDIVIDUAL</td>\n",
              "      <td>1.0</td>\n",
              "      <td>0.0</td>\n",
              "      <td>679 Luna Roads\\r\\nGreggshire, VA 11650</td>\n",
              "      <td>0</td>\n",
              "      <td>9.0</td>\n",
              "      <td>1</td>\n",
              "      <td>3</td>\n",
              "      <td>False</td>\n",
              "      <td>False</td>\n",
              "      <td>2013</td>\n",
              "      <td>1999</td>\n",
              "      <td>0</td>\n",
              "      <td>True</td>\n",
              "      <td>True</td>\n",
              "    </tr>\n",
              "  </tbody>\n",
              "</table>\n",
              "</div>"
            ],
            "text/plain": [
              "   loan_amnt  int_rate  ...  application_type_a purpose_a\n",
              "0    10000.0     11.44  ...                True     False\n",
              "1     8000.0     11.99  ...                True      True\n",
              "2    15600.0     10.49  ...                True      True\n",
              "3     7200.0      6.49  ...                True      True\n",
              "4    24375.0     17.27  ...                True      True\n",
              "\n",
              "[5 rows x 35 columns]"
            ]
          },
          "metadata": {
            "tags": []
          },
          "execution_count": 71
        }
      ]
    },
    {
      "cell_type": "code",
      "metadata": {
        "id": "Y63ENnsLGTY0",
        "colab_type": "code",
        "colab": {
          "base_uri": "https://localhost:8080/",
          "height": 187
        },
        "outputId": "ec5e9e25-c6bf-4bd6-e96c-47aee639d816"
      },
      "source": [
        "loans.columns"
      ],
      "execution_count": null,
      "outputs": [
        {
          "output_type": "execute_result",
          "data": {
            "text/plain": [
              "Index(['loan_amnt', 'int_rate', 'installment', 'grade', 'sub_grade',\n",
              "       'emp_title', 'emp_length', 'home_ownership', 'annual_inc',\n",
              "       'verification_status', 'issue_d', 'purpose', 'title', 'dti',\n",
              "       'earliest_cr_line', 'open_acc', 'pub_rec', 'revol_bal', 'revol_util',\n",
              "       'total_acc', 'application_type', 'mort_acc', 'pub_rec_bankruptcies',\n",
              "       'address', 'loan_status_Fully Paid', 'emp_y', 'term_ 60 months',\n",
              "       'grade_n', 'home_own_status', 'verification', 'issue_d_n',\n",
              "       'earliest_cr_line_n', 'initial_list_status_w', 'application_type_a',\n",
              "       'purpose_a'],\n",
              "      dtype='object')"
            ]
          },
          "metadata": {
            "tags": []
          },
          "execution_count": 73
        }
      ]
    },
    {
      "cell_type": "code",
      "metadata": {
        "id": "NhedZgCnGb4h",
        "colab_type": "code",
        "colab": {}
      },
      "source": [
        "c_drop=['grade', 'sub_grade','emp_title', 'emp_length', 'home_ownership',\n",
        "       'verification_status', 'issue_d', 'purpose', 'title', \n",
        "       'earliest_cr_line', \n",
        "        'application_type',\n",
        "       'address']"
      ],
      "execution_count": null,
      "outputs": []
    },
    {
      "cell_type": "code",
      "metadata": {
        "id": "wQcwUeW9HXjk",
        "colab_type": "code",
        "colab": {}
      },
      "source": [
        "loans_final=loans.drop(labels=c_drop,axis=1)"
      ],
      "execution_count": null,
      "outputs": []
    },
    {
      "cell_type": "code",
      "metadata": {
        "id": "PXjC85-mN7oa",
        "colab_type": "code",
        "colab": {
          "base_uri": "https://localhost:8080/",
          "height": 425
        },
        "outputId": "35245928-004e-489a-9c19-a90afa413d03"
      },
      "source": [
        "loans_final.corr()['loan_status_Fully Paid'].sort_values()"
      ],
      "execution_count": null,
      "outputs": [
        {
          "output_type": "execute_result",
          "data": {
            "text/plain": [
              "grade_n                  -0.257286\n",
              "int_rate                 -0.247758\n",
              "term_ 60 months          -0.173246\n",
              "revol_util               -0.082341\n",
              "home_own_status          -0.067096\n",
              "dti                      -0.062413\n",
              "issue_d_n                -0.060502\n",
              "loan_amnt                -0.059836\n",
              "installment              -0.041082\n",
              "earliest_cr_line_n       -0.038928\n",
              "open_acc                 -0.028012\n",
              "pub_rec                  -0.019933\n",
              "initial_list_status_w    -0.009489\n",
              "pub_rec_bankruptcies     -0.009383\n",
              "purpose_a                -0.003795\n",
              "application_type_a        0.002486\n",
              "revol_bal                 0.010892\n",
              "emp_y                     0.013154\n",
              "total_acc                 0.017893\n",
              "annual_inc                0.053432\n",
              "mort_acc                  0.071276\n",
              "verification              0.085163\n",
              "loan_status_Fully Paid    1.000000\n",
              "Name: loan_status_Fully Paid, dtype: float64"
            ]
          },
          "metadata": {
            "tags": []
          },
          "execution_count": 105
        }
      ]
    },
    {
      "cell_type": "code",
      "metadata": {
        "id": "DMklqhpsHkYU",
        "colab_type": "code",
        "colab": {
          "base_uri": "https://localhost:8080/",
          "height": 136
        },
        "outputId": "4b619868-c842-4577-e370-caca918dd0ef"
      },
      "source": [
        "loans_final.columns"
      ],
      "execution_count": null,
      "outputs": [
        {
          "output_type": "execute_result",
          "data": {
            "text/plain": [
              "Index(['loan_amnt', 'int_rate', 'installment', 'annual_inc', 'dti', 'open_acc',\n",
              "       'pub_rec', 'revol_bal', 'revol_util', 'total_acc', 'mort_acc',\n",
              "       'pub_rec_bankruptcies', 'loan_status_Fully Paid', 'emp_y',\n",
              "       'term_ 60 months', 'grade_n', 'home_own_status', 'verification',\n",
              "       'issue_d_n', 'earliest_cr_line_n', 'initial_list_status_w',\n",
              "       'application_type_a', 'purpose_a'],\n",
              "      dtype='object')"
            ]
          },
          "metadata": {
            "tags": []
          },
          "execution_count": 106
        }
      ]
    },
    {
      "cell_type": "code",
      "metadata": {
        "id": "HTNuqoo9Osmj",
        "colab_type": "code",
        "colab": {}
      },
      "source": [
        "c_drop2=['initial_list_status_w','pub_rec_bankruptcies','purpose_a','application_type_a','revol_bal']"
      ],
      "execution_count": null,
      "outputs": []
    },
    {
      "cell_type": "code",
      "metadata": {
        "id": "9myFc13xPRB5",
        "colab_type": "code",
        "colab": {}
      },
      "source": [
        "loans_final2=loans_final.drop(labels=c_drop2,axis=1)"
      ],
      "execution_count": null,
      "outputs": []
    },
    {
      "cell_type": "markdown",
      "metadata": {
        "id": "5Q6iITB9I5Bd",
        "colab_type": "text"
      },
      "source": [
        "Train Test Split"
      ]
    },
    {
      "cell_type": "code",
      "metadata": {
        "id": "eWHag98tHu9T",
        "colab_type": "code",
        "colab": {}
      },
      "source": [
        "X = loans_final2.drop('loan_status_Fully Paid',axis=1).values\n",
        "y = loans_final2['loan_status_Fully Paid'].values"
      ],
      "execution_count": null,
      "outputs": []
    },
    {
      "cell_type": "code",
      "metadata": {
        "id": "TzDgHvslJP6D",
        "colab_type": "code",
        "colab": {
          "base_uri": "https://localhost:8080/",
          "height": 493
        },
        "outputId": "17df7170-7ddd-4e6e-8513-a3141afa5d16"
      },
      "source": [
        "loans_final.info()"
      ],
      "execution_count": null,
      "outputs": [
        {
          "output_type": "stream",
          "text": [
            "<class 'pandas.core.frame.DataFrame'>\n",
            "RangeIndex: 396030 entries, 0 to 396029\n",
            "Data columns (total 23 columns):\n",
            "loan_amnt                 396030 non-null float64\n",
            "int_rate                  396030 non-null float64\n",
            "installment               396030 non-null float64\n",
            "annual_inc                396030 non-null float64\n",
            "dti                       396030 non-null float64\n",
            "open_acc                  396030 non-null float64\n",
            "pub_rec                   396030 non-null float64\n",
            "revol_bal                 396030 non-null float64\n",
            "revol_util                396030 non-null float64\n",
            "total_acc                 396030 non-null float64\n",
            "mort_acc                  396030 non-null float64\n",
            "pub_rec_bankruptcies      395495 non-null float64\n",
            "loan_status_Fully Paid    396030 non-null uint8\n",
            "emp_y                     396030 non-null float64\n",
            "term_ 60 months           396030 non-null uint8\n",
            "grade_n                   396030 non-null int64\n",
            "home_own_status           396030 non-null bool\n",
            "verification              396030 non-null bool\n",
            "issue_d_n                 396030 non-null int64\n",
            "earliest_cr_line_n        396030 non-null int64\n",
            "initial_list_status_w     396030 non-null uint8\n",
            "application_type_a        396030 non-null bool\n",
            "purpose_a                 396030 non-null bool\n",
            "dtypes: bool(4), float64(13), int64(3), uint8(3)\n",
            "memory usage: 51.0 MB\n"
          ],
          "name": "stdout"
        }
      ]
    },
    {
      "cell_type": "code",
      "metadata": {
        "id": "vjWCw_nyJXmS",
        "colab_type": "code",
        "colab": {}
      },
      "source": [
        "from sklearn.model_selection import train_test_split"
      ],
      "execution_count": null,
      "outputs": []
    },
    {
      "cell_type": "code",
      "metadata": {
        "id": "0DD1C78iJwep",
        "colab_type": "code",
        "colab": {}
      },
      "source": [
        "X_train, X_test, y_train, y_test = train_test_split(X,y,test_size=0.3,random_state=101)"
      ],
      "execution_count": null,
      "outputs": []
    },
    {
      "cell_type": "markdown",
      "metadata": {
        "id": "E6Bj6kLUJ9Pm",
        "colab_type": "text"
      },
      "source": [
        "Scaling Data"
      ]
    },
    {
      "cell_type": "code",
      "metadata": {
        "id": "BGjOgqf7J1zD",
        "colab_type": "code",
        "colab": {}
      },
      "source": [
        "from sklearn.preprocessing import MinMaxScaler"
      ],
      "execution_count": null,
      "outputs": []
    },
    {
      "cell_type": "code",
      "metadata": {
        "id": "QHdzTEqVKBFh",
        "colab_type": "code",
        "colab": {}
      },
      "source": [
        "scaler = MinMaxScaler()"
      ],
      "execution_count": null,
      "outputs": []
    },
    {
      "cell_type": "code",
      "metadata": {
        "id": "wGjV53jPKEBu",
        "colab_type": "code",
        "colab": {
          "base_uri": "https://localhost:8080/",
          "height": 34
        },
        "outputId": "c15ce11f-9a38-4fa9-8d62-4b68836b7d61"
      },
      "source": [
        "scaler.fit(X_train)"
      ],
      "execution_count": null,
      "outputs": [
        {
          "output_type": "execute_result",
          "data": {
            "text/plain": [
              "MinMaxScaler(copy=True, feature_range=(0, 1))"
            ]
          },
          "metadata": {
            "tags": []
          },
          "execution_count": 112
        }
      ]
    },
    {
      "cell_type": "code",
      "metadata": {
        "id": "-c3uozEiKG4Y",
        "colab_type": "code",
        "colab": {}
      },
      "source": [
        "X_train = scaler.transform(X_train)\n",
        "X_test = scaler.transform(X_test)"
      ],
      "execution_count": null,
      "outputs": []
    },
    {
      "cell_type": "markdown",
      "metadata": {
        "id": "uYmxvGEhKQaM",
        "colab_type": "text"
      },
      "source": [
        "Creating the Model"
      ]
    },
    {
      "cell_type": "code",
      "metadata": {
        "id": "7Q8j8ND6KK36",
        "colab_type": "code",
        "colab": {
          "base_uri": "https://localhost:8080/",
          "height": 34
        },
        "outputId": "dd88cf2c-f6d1-4938-b246-b2062cd66aa1"
      },
      "source": [
        "%tensorflow_version 2.x\n",
        "import tensorflow as tf\n",
        "from tensorflow.keras.models import Sequential\n",
        "from tensorflow.keras.layers import Dense, Activation,Dropout"
      ],
      "execution_count": null,
      "outputs": [
        {
          "output_type": "stream",
          "text": [
            "TensorFlow 2.x selected.\n"
          ],
          "name": "stdout"
        }
      ]
    },
    {
      "cell_type": "code",
      "metadata": {
        "id": "8MjUqUznKWV-",
        "colab_type": "code",
        "colab": {
          "base_uri": "https://localhost:8080/",
          "height": 34
        },
        "outputId": "fbea28c5-c621-4234-9523-edd225490ce6"
      },
      "source": [
        "X_train.shape"
      ],
      "execution_count": null,
      "outputs": [
        {
          "output_type": "execute_result",
          "data": {
            "text/plain": [
              "(277221, 17)"
            ]
          },
          "metadata": {
            "tags": []
          },
          "execution_count": 114
        }
      ]
    },
    {
      "cell_type": "code",
      "metadata": {
        "id": "WDVo4glCK8c2",
        "colab_type": "code",
        "colab": {}
      },
      "source": [
        "from tensorflow.keras.callbacks import EarlyStopping"
      ],
      "execution_count": null,
      "outputs": []
    },
    {
      "cell_type": "code",
      "metadata": {
        "id": "QVj43sYKLBIF",
        "colab_type": "code",
        "colab": {}
      },
      "source": [
        "early_stop = EarlyStopping(monitor='val_loss', mode='min', verbose=1, patience=25)"
      ],
      "execution_count": null,
      "outputs": []
    },
    {
      "cell_type": "code",
      "metadata": {
        "id": "tXMNxjccKd2e",
        "colab_type": "code",
        "colab": {}
      },
      "source": [
        "model = Sequential()\n",
        "\n",
        "# https://stats.stackexchange.com/questions/181/how-to-choose-the-number-of-hidden-layers-and-nodes-in-a-feedforward-neural-netw\n",
        "\n",
        "model.add(Dense(units=17,activation='relu'))\n",
        "\n",
        "model.add(Dense(units=8,activation='relu'))\n",
        "\n",
        "model.add(Dense(units=1,activation='sigmoid'))\n",
        "\n",
        "# For a binary classification problem\n",
        "model.compile(loss='binary_crossentropy', optimizer='adam')"
      ],
      "execution_count": null,
      "outputs": []
    },
    {
      "cell_type": "markdown",
      "metadata": {
        "id": "PDMtzGMdKtHg",
        "colab_type": "text"
      },
      "source": [
        "Training the Model"
      ]
    },
    {
      "cell_type": "code",
      "metadata": {
        "id": "PqpYDRd3KoQa",
        "colab_type": "code",
        "colab": {
          "base_uri": "https://localhost:8080/",
          "height": 1000
        },
        "outputId": "9db4508e-8372-4079-d4f2-95e279945ce5"
      },
      "source": [
        "model.fit(x=X_train, \n",
        "          y=y_train, \n",
        "          batch_size=128,epochs=600,\n",
        "          validation_data=(X_test, y_test), verbose=1,\n",
        "          callbacks=[early_stop]\n",
        "          )"
      ],
      "execution_count": null,
      "outputs": [
        {
          "output_type": "stream",
          "text": [
            "Train on 277221 samples, validate on 118809 samples\n",
            "Epoch 1/600\n",
            "277221/277221 [==============================] - 5s 18us/sample - loss: 0.4763 - val_loss: 0.4571\n",
            "Epoch 2/600\n",
            "277221/277221 [==============================] - 5s 16us/sample - loss: 0.4559 - val_loss: 0.4556\n",
            "Epoch 3/600\n",
            "277221/277221 [==============================] - 5s 16us/sample - loss: 0.4543 - val_loss: 0.4543\n",
            "Epoch 4/600\n",
            "277221/277221 [==============================] - 5s 17us/sample - loss: 0.4531 - val_loss: 0.4543\n",
            "Epoch 5/600\n",
            "277221/277221 [==============================] - 5s 16us/sample - loss: 0.4524 - val_loss: 0.4523\n",
            "Epoch 6/600\n",
            "277221/277221 [==============================] - 5s 16us/sample - loss: 0.4519 - val_loss: 0.4542\n",
            "Epoch 7/600\n",
            "277221/277221 [==============================] - 5s 17us/sample - loss: 0.4513 - val_loss: 0.4522\n",
            "Epoch 8/600\n",
            "277221/277221 [==============================] - 5s 16us/sample - loss: 0.4510 - val_loss: 0.4524\n",
            "Epoch 9/600\n",
            "277221/277221 [==============================] - 5s 17us/sample - loss: 0.4506 - val_loss: 0.4511\n",
            "Epoch 10/600\n",
            "277221/277221 [==============================] - 5s 16us/sample - loss: 0.4503 - val_loss: 0.4510\n",
            "Epoch 11/600\n",
            "277221/277221 [==============================] - 5s 17us/sample - loss: 0.4501 - val_loss: 0.4505\n",
            "Epoch 12/600\n",
            "277221/277221 [==============================] - 5s 17us/sample - loss: 0.4496 - val_loss: 0.4501\n",
            "Epoch 13/600\n",
            "277221/277221 [==============================] - 5s 17us/sample - loss: 0.4494 - val_loss: 0.4513\n",
            "Epoch 14/600\n",
            "277221/277221 [==============================] - 5s 16us/sample - loss: 0.4492 - val_loss: 0.4494\n",
            "Epoch 15/600\n",
            "277221/277221 [==============================] - 5s 16us/sample - loss: 0.4490 - val_loss: 0.4490\n",
            "Epoch 16/600\n",
            "277221/277221 [==============================] - 5s 17us/sample - loss: 0.4486 - val_loss: 0.4501\n",
            "Epoch 17/600\n",
            "277221/277221 [==============================] - 5s 18us/sample - loss: 0.4484 - val_loss: 0.4484\n",
            "Epoch 18/600\n",
            "277221/277221 [==============================] - 5s 17us/sample - loss: 0.4480 - val_loss: 0.4484\n",
            "Epoch 19/600\n",
            "277221/277221 [==============================] - 5s 16us/sample - loss: 0.4478 - val_loss: 0.4479\n",
            "Epoch 20/600\n",
            "277221/277221 [==============================] - 5s 16us/sample - loss: 0.4475 - val_loss: 0.4480\n",
            "Epoch 21/600\n",
            "277221/277221 [==============================] - 5s 17us/sample - loss: 0.4473 - val_loss: 0.4478\n",
            "Epoch 22/600\n",
            "277221/277221 [==============================] - 5s 17us/sample - loss: 0.4472 - val_loss: 0.4474\n",
            "Epoch 23/600\n",
            "277221/277221 [==============================] - 5s 16us/sample - loss: 0.4469 - val_loss: 0.4475\n",
            "Epoch 24/600\n",
            "277221/277221 [==============================] - 5s 16us/sample - loss: 0.4467 - val_loss: 0.4480\n",
            "Epoch 25/600\n",
            "277221/277221 [==============================] - 5s 17us/sample - loss: 0.4467 - val_loss: 0.4470\n",
            "Epoch 26/600\n",
            "277221/277221 [==============================] - 5s 16us/sample - loss: 0.4465 - val_loss: 0.4478\n",
            "Epoch 27/600\n",
            "277221/277221 [==============================] - 5s 17us/sample - loss: 0.4463 - val_loss: 0.4470\n",
            "Epoch 28/600\n",
            "277221/277221 [==============================] - 5s 16us/sample - loss: 0.4461 - val_loss: 0.4465\n",
            "Epoch 29/600\n",
            "277221/277221 [==============================] - 5s 16us/sample - loss: 0.4461 - val_loss: 0.4480\n",
            "Epoch 30/600\n",
            "277221/277221 [==============================] - 5s 17us/sample - loss: 0.4459 - val_loss: 0.4461\n",
            "Epoch 31/600\n",
            "277221/277221 [==============================] - 5s 17us/sample - loss: 0.4460 - val_loss: 0.4479\n",
            "Epoch 32/600\n",
            "277221/277221 [==============================] - 5s 17us/sample - loss: 0.4458 - val_loss: 0.4464\n",
            "Epoch 33/600\n",
            "277221/277221 [==============================] - 5s 17us/sample - loss: 0.4457 - val_loss: 0.4464\n",
            "Epoch 34/600\n",
            "277221/277221 [==============================] - 5s 16us/sample - loss: 0.4455 - val_loss: 0.4476\n",
            "Epoch 35/600\n",
            "277221/277221 [==============================] - 4s 16us/sample - loss: 0.4454 - val_loss: 0.4476\n",
            "Epoch 36/600\n",
            "277221/277221 [==============================] - 5s 16us/sample - loss: 0.4455 - val_loss: 0.4457\n",
            "Epoch 37/600\n",
            "277221/277221 [==============================] - 5s 16us/sample - loss: 0.4454 - val_loss: 0.4476\n",
            "Epoch 38/600\n",
            "277221/277221 [==============================] - 5s 17us/sample - loss: 0.4453 - val_loss: 0.4468\n",
            "Epoch 39/600\n",
            "277221/277221 [==============================] - 5s 17us/sample - loss: 0.4454 - val_loss: 0.4463\n",
            "Epoch 40/600\n",
            "277221/277221 [==============================] - 5s 16us/sample - loss: 0.4453 - val_loss: 0.4457\n",
            "Epoch 41/600\n",
            "277221/277221 [==============================] - 4s 16us/sample - loss: 0.4452 - val_loss: 0.4505\n",
            "Epoch 42/600\n",
            "277221/277221 [==============================] - 5s 17us/sample - loss: 0.4452 - val_loss: 0.4463\n",
            "Epoch 43/600\n",
            "277221/277221 [==============================] - 5s 16us/sample - loss: 0.4450 - val_loss: 0.4458\n",
            "Epoch 44/600\n",
            "277221/277221 [==============================] - 5s 17us/sample - loss: 0.4451 - val_loss: 0.4462\n",
            "Epoch 45/600\n",
            "277221/277221 [==============================] - 5s 17us/sample - loss: 0.4450 - val_loss: 0.4461\n",
            "Epoch 46/600\n",
            "277221/277221 [==============================] - 5s 17us/sample - loss: 0.4449 - val_loss: 0.4458\n",
            "Epoch 47/600\n",
            "277221/277221 [==============================] - 5s 17us/sample - loss: 0.4449 - val_loss: 0.4455\n",
            "Epoch 48/600\n",
            "277221/277221 [==============================] - 5s 17us/sample - loss: 0.4448 - val_loss: 0.4467\n",
            "Epoch 49/600\n",
            "277221/277221 [==============================] - 5s 16us/sample - loss: 0.4448 - val_loss: 0.4460\n",
            "Epoch 50/600\n",
            "277221/277221 [==============================] - 5s 16us/sample - loss: 0.4449 - val_loss: 0.4456\n",
            "Epoch 51/600\n",
            "277221/277221 [==============================] - 5s 17us/sample - loss: 0.4448 - val_loss: 0.4456\n",
            "Epoch 52/600\n",
            "277221/277221 [==============================] - 5s 17us/sample - loss: 0.4448 - val_loss: 0.4452\n",
            "Epoch 53/600\n",
            "277221/277221 [==============================] - 4s 16us/sample - loss: 0.4447 - val_loss: 0.4453\n",
            "Epoch 54/600\n",
            "277221/277221 [==============================] - 5s 16us/sample - loss: 0.4447 - val_loss: 0.4457\n",
            "Epoch 55/600\n",
            "277221/277221 [==============================] - 4s 16us/sample - loss: 0.4449 - val_loss: 0.4463\n",
            "Epoch 56/600\n",
            "277221/277221 [==============================] - 5s 17us/sample - loss: 0.4446 - val_loss: 0.4460\n",
            "Epoch 57/600\n",
            "277221/277221 [==============================] - 5s 17us/sample - loss: 0.4445 - val_loss: 0.4464\n",
            "Epoch 58/600\n",
            "277221/277221 [==============================] - 5s 17us/sample - loss: 0.4445 - val_loss: 0.4454\n",
            "Epoch 59/600\n",
            "277221/277221 [==============================] - 5s 17us/sample - loss: 0.4445 - val_loss: 0.4463\n",
            "Epoch 60/600\n",
            "277221/277221 [==============================] - 5s 16us/sample - loss: 0.4445 - val_loss: 0.4456\n",
            "Epoch 61/600\n",
            "277221/277221 [==============================] - 4s 16us/sample - loss: 0.4445 - val_loss: 0.4469\n",
            "Epoch 62/600\n",
            "277221/277221 [==============================] - 5s 16us/sample - loss: 0.4445 - val_loss: 0.4465\n",
            "Epoch 63/600\n",
            "277221/277221 [==============================] - 5s 16us/sample - loss: 0.4445 - val_loss: 0.4456\n",
            "Epoch 64/600\n",
            "277221/277221 [==============================] - 5s 17us/sample - loss: 0.4443 - val_loss: 0.4462\n",
            "Epoch 65/600\n",
            "277221/277221 [==============================] - 5s 16us/sample - loss: 0.4444 - val_loss: 0.4459\n",
            "Epoch 66/600\n",
            "277221/277221 [==============================] - 5s 16us/sample - loss: 0.4444 - val_loss: 0.4470\n",
            "Epoch 67/600\n",
            "277221/277221 [==============================] - 5s 17us/sample - loss: 0.4444 - val_loss: 0.4450\n",
            "Epoch 68/600\n",
            "277221/277221 [==============================] - 5s 17us/sample - loss: 0.4443 - val_loss: 0.4453\n",
            "Epoch 69/600\n",
            "277221/277221 [==============================] - 5s 17us/sample - loss: 0.4443 - val_loss: 0.4456\n",
            "Epoch 70/600\n",
            "277221/277221 [==============================] - 5s 17us/sample - loss: 0.4442 - val_loss: 0.4452\n",
            "Epoch 71/600\n",
            "277221/277221 [==============================] - 5s 17us/sample - loss: 0.4442 - val_loss: 0.4457\n",
            "Epoch 72/600\n",
            "277221/277221 [==============================] - 5s 16us/sample - loss: 0.4442 - val_loss: 0.4467\n",
            "Epoch 73/600\n",
            "277221/277221 [==============================] - 5s 16us/sample - loss: 0.4443 - val_loss: 0.4452\n",
            "Epoch 74/600\n",
            "277221/277221 [==============================] - 5s 17us/sample - loss: 0.4442 - val_loss: 0.4468\n",
            "Epoch 75/600\n",
            "277221/277221 [==============================] - 4s 16us/sample - loss: 0.4442 - val_loss: 0.4452\n",
            "Epoch 76/600\n",
            "277221/277221 [==============================] - 5s 17us/sample - loss: 0.4442 - val_loss: 0.4467\n",
            "Epoch 77/600\n",
            "277221/277221 [==============================] - 5s 17us/sample - loss: 0.4441 - val_loss: 0.4494\n",
            "Epoch 78/600\n",
            "277221/277221 [==============================] - 5s 17us/sample - loss: 0.4440 - val_loss: 0.4453\n",
            "Epoch 79/600\n",
            "277221/277221 [==============================] - 5s 16us/sample - loss: 0.4440 - val_loss: 0.4450\n",
            "Epoch 80/600\n",
            "277221/277221 [==============================] - 5s 16us/sample - loss: 0.4440 - val_loss: 0.4460\n",
            "Epoch 81/600\n",
            "277221/277221 [==============================] - 5s 16us/sample - loss: 0.4439 - val_loss: 0.4470\n",
            "Epoch 82/600\n",
            "277221/277221 [==============================] - 5s 16us/sample - loss: 0.4441 - val_loss: 0.4452\n",
            "Epoch 83/600\n",
            "277221/277221 [==============================] - 5s 17us/sample - loss: 0.4440 - val_loss: 0.4449\n",
            "Epoch 84/600\n",
            "277221/277221 [==============================] - 5s 17us/sample - loss: 0.4439 - val_loss: 0.4454\n",
            "Epoch 85/600\n",
            "277221/277221 [==============================] - 5s 17us/sample - loss: 0.4439 - val_loss: 0.4451\n",
            "Epoch 86/600\n",
            "277221/277221 [==============================] - 5s 17us/sample - loss: 0.4440 - val_loss: 0.4459\n",
            "Epoch 87/600\n",
            "277221/277221 [==============================] - 5s 16us/sample - loss: 0.4439 - val_loss: 0.4459\n",
            "Epoch 88/600\n",
            "277221/277221 [==============================] - 5s 17us/sample - loss: 0.4439 - val_loss: 0.4453\n",
            "Epoch 89/600\n",
            "277221/277221 [==============================] - 5s 16us/sample - loss: 0.4439 - val_loss: 0.4448\n",
            "Epoch 90/600\n",
            "277221/277221 [==============================] - 4s 16us/sample - loss: 0.4439 - val_loss: 0.4457\n",
            "Epoch 91/600\n",
            "277221/277221 [==============================] - 4s 16us/sample - loss: 0.4438 - val_loss: 0.4449\n",
            "Epoch 92/600\n",
            "277221/277221 [==============================] - 4s 16us/sample - loss: 0.4439 - val_loss: 0.4451\n",
            "Epoch 93/600\n",
            "277221/277221 [==============================] - 4s 16us/sample - loss: 0.4438 - val_loss: 0.4449\n",
            "Epoch 94/600\n",
            "277221/277221 [==============================] - 4s 16us/sample - loss: 0.4438 - val_loss: 0.4468\n",
            "Epoch 95/600\n",
            "277221/277221 [==============================] - 4s 16us/sample - loss: 0.4438 - val_loss: 0.4455\n",
            "Epoch 96/600\n",
            "277221/277221 [==============================] - 4s 16us/sample - loss: 0.4437 - val_loss: 0.4457\n",
            "Epoch 97/600\n",
            "277221/277221 [==============================] - 4s 16us/sample - loss: 0.4436 - val_loss: 0.4457\n",
            "Epoch 98/600\n",
            "277221/277221 [==============================] - 4s 16us/sample - loss: 0.4438 - val_loss: 0.4449\n",
            "Epoch 99/600\n",
            "277221/277221 [==============================] - 4s 16us/sample - loss: 0.4438 - val_loss: 0.4464\n",
            "Epoch 100/600\n",
            "277221/277221 [==============================] - 4s 16us/sample - loss: 0.4437 - val_loss: 0.4448\n",
            "Epoch 101/600\n",
            "277221/277221 [==============================] - 4s 16us/sample - loss: 0.4438 - val_loss: 0.4452\n",
            "Epoch 102/600\n",
            "277221/277221 [==============================] - 4s 16us/sample - loss: 0.4436 - val_loss: 0.4453\n",
            "Epoch 103/600\n",
            "277221/277221 [==============================] - 4s 16us/sample - loss: 0.4437 - val_loss: 0.4446\n",
            "Epoch 104/600\n",
            "277221/277221 [==============================] - 4s 16us/sample - loss: 0.4437 - val_loss: 0.4469\n",
            "Epoch 105/600\n",
            "277221/277221 [==============================] - 4s 16us/sample - loss: 0.4437 - val_loss: 0.4447\n",
            "Epoch 106/600\n",
            "277221/277221 [==============================] - 4s 16us/sample - loss: 0.4436 - val_loss: 0.4450\n",
            "Epoch 107/600\n",
            "277221/277221 [==============================] - 4s 16us/sample - loss: 0.4437 - val_loss: 0.4464\n",
            "Epoch 108/600\n",
            "277221/277221 [==============================] - 6s 20us/sample - loss: 0.4436 - val_loss: 0.4450\n",
            "Epoch 109/600\n",
            "277221/277221 [==============================] - 5s 17us/sample - loss: 0.4436 - val_loss: 0.4453\n",
            "Epoch 110/600\n",
            "277221/277221 [==============================] - 5s 17us/sample - loss: 0.4435 - val_loss: 0.4453\n",
            "Epoch 111/600\n",
            "277221/277221 [==============================] - 5s 17us/sample - loss: 0.4436 - val_loss: 0.4456\n",
            "Epoch 112/600\n",
            "277221/277221 [==============================] - 5s 17us/sample - loss: 0.4436 - val_loss: 0.4456\n",
            "Epoch 113/600\n",
            "277221/277221 [==============================] - 5s 17us/sample - loss: 0.4436 - val_loss: 0.4451\n",
            "Epoch 114/600\n",
            "277221/277221 [==============================] - 5s 17us/sample - loss: 0.4434 - val_loss: 0.4456\n",
            "Epoch 115/600\n",
            "277221/277221 [==============================] - 5s 17us/sample - loss: 0.4435 - val_loss: 0.4456\n",
            "Epoch 116/600\n",
            "277221/277221 [==============================] - 5s 17us/sample - loss: 0.4435 - val_loss: 0.4482\n",
            "Epoch 117/600\n",
            "277221/277221 [==============================] - 5s 17us/sample - loss: 0.4436 - val_loss: 0.4451\n",
            "Epoch 118/600\n",
            "277221/277221 [==============================] - 5s 17us/sample - loss: 0.4435 - val_loss: 0.4480\n",
            "Epoch 119/600\n",
            "277221/277221 [==============================] - 5s 17us/sample - loss: 0.4435 - val_loss: 0.4453\n",
            "Epoch 120/600\n",
            "277221/277221 [==============================] - 5s 17us/sample - loss: 0.4436 - val_loss: 0.4452\n",
            "Epoch 121/600\n",
            "277221/277221 [==============================] - 5s 17us/sample - loss: 0.4435 - val_loss: 0.4451\n",
            "Epoch 122/600\n",
            "277221/277221 [==============================] - 5s 17us/sample - loss: 0.4436 - val_loss: 0.4453\n",
            "Epoch 123/600\n",
            "277221/277221 [==============================] - 5s 17us/sample - loss: 0.4435 - val_loss: 0.4460\n",
            "Epoch 124/600\n",
            "277221/277221 [==============================] - 5s 17us/sample - loss: 0.4434 - val_loss: 0.4453\n",
            "Epoch 125/600\n",
            "277221/277221 [==============================] - 5s 17us/sample - loss: 0.4434 - val_loss: 0.4459\n",
            "Epoch 126/600\n",
            "277221/277221 [==============================] - 5s 17us/sample - loss: 0.4435 - val_loss: 0.4453\n",
            "Epoch 127/600\n",
            "277221/277221 [==============================] - 5s 17us/sample - loss: 0.4434 - val_loss: 0.4448\n",
            "Epoch 128/600\n",
            "277221/277221 [==============================] - 5s 17us/sample - loss: 0.4434 - val_loss: 0.4447\n",
            "Epoch 00128: early stopping\n"
          ],
          "name": "stdout"
        },
        {
          "output_type": "execute_result",
          "data": {
            "text/plain": [
              "<tensorflow.python.keras.callbacks.History at 0x7f577bcf77f0>"
            ]
          },
          "metadata": {
            "tags": []
          },
          "execution_count": 117
        }
      ]
    },
    {
      "cell_type": "code",
      "metadata": {
        "id": "-8B2BTd6LQGS",
        "colab_type": "code",
        "colab": {
          "base_uri": "https://localhost:8080/",
          "height": 282
        },
        "outputId": "be92f2aa-580a-4b71-9fea-d7e1503dc512"
      },
      "source": [
        "model_loss = pd.DataFrame(model.history.history)\n",
        "model_loss.plot()"
      ],
      "execution_count": null,
      "outputs": [
        {
          "output_type": "execute_result",
          "data": {
            "text/plain": [
              "<matplotlib.axes._subplots.AxesSubplot at 0x7f57833f4be0>"
            ]
          },
          "metadata": {
            "tags": []
          },
          "execution_count": 118
        },
        {
          "output_type": "display_data",
          "data": {
            "image/png": "[encoded data removed]",
            "text/plain": [
              "<Figure size 432x288 with 1 Axes>"
            ]
          },
          "metadata": {
            "tags": []
          }
        }
      ]
    },
    {
      "cell_type": "code",
      "metadata": {
        "id": "9NjBS_51MeXe",
        "colab_type": "code",
        "colab": {}
      },
      "source": [
        "predictions = model.predict_classes(X_test)"
      ],
      "execution_count": null,
      "outputs": []
    },
    {
      "cell_type": "code",
      "metadata": {
        "id": "ye50JWJkMkh1",
        "colab_type": "code",
        "colab": {}
      },
      "source": [
        "from sklearn.metrics import classification_report,confusion_matrix"
      ],
      "execution_count": null,
      "outputs": []
    },
    {
      "cell_type": "code",
      "metadata": {
        "id": "8beeZvvIMrKq",
        "colab_type": "code",
        "colab": {
          "base_uri": "https://localhost:8080/",
          "height": 170
        },
        "outputId": "7737eebf-a0cd-4eab-9ca7-cb5cc86e5059"
      },
      "source": [
        "print(classification_report(y_test,predictions))"
      ],
      "execution_count": null,
      "outputs": [
        {
          "output_type": "stream",
          "text": [
            "              precision    recall  f1-score   support\n",
            "\n",
            "           0       0.55      0.09      0.16     23260\n",
            "           1       0.82      0.98      0.89     95549\n",
            "\n",
            "    accuracy                           0.81    118809\n",
            "   macro avg       0.68      0.54      0.53    118809\n",
            "weighted avg       0.76      0.81      0.75    118809\n",
            "\n"
          ],
          "name": "stdout"
        }
      ]
    },
    {
      "cell_type": "code",
      "metadata": {
        "id": "tC5Fa-fZMvIo",
        "colab_type": "code",
        "colab": {
          "base_uri": "https://localhost:8080/",
          "height": 51
        },
        "outputId": "4b0766e2-1f81-426d-c8e2-07c688bb4545"
      },
      "source": [
        "print(confusion_matrix(y_test,predictions))"
      ],
      "execution_count": null,
      "outputs": [
        {
          "output_type": "stream",
          "text": [
            "[[ 2208 21052]\n",
            " [ 1836 93713]]\n"
          ],
          "name": "stdout"
        }
      ]
    },
    {
      "cell_type": "code",
      "metadata": {
        "id": "P8cB_430Mz6E",
        "colab_type": "code",
        "colab": {
          "base_uri": "https://localhost:8080/",
          "height": 340
        },
        "outputId": "731436a7-9bde-4867-ceee-91802d41818d"
      },
      "source": [
        "loans_final2.corr()['loan_status_Fully Paid'].sort_values()"
      ],
      "execution_count": null,
      "outputs": [
        {
          "output_type": "execute_result",
          "data": {
            "text/plain": [
              "grade_n                  -0.257286\n",
              "int_rate                 -0.247758\n",
              "term_ 60 months          -0.173246\n",
              "revol_util               -0.082341\n",
              "home_own_status          -0.067096\n",
              "dti                      -0.062413\n",
              "issue_d_n                -0.060502\n",
              "loan_amnt                -0.059836\n",
              "installment              -0.041082\n",
              "earliest_cr_line_n       -0.038928\n",
              "open_acc                 -0.028012\n",
              "pub_rec                  -0.019933\n",
              "emp_y                     0.013154\n",
              "total_acc                 0.017893\n",
              "annual_inc                0.053432\n",
              "mort_acc                  0.071276\n",
              "verification              0.085163\n",
              "loan_status_Fully Paid    1.000000\n",
              "Name: loan_status_Fully Paid, dtype: float64"
            ]
          },
          "metadata": {
            "tags": []
          },
          "execution_count": 131
        }
      ]
    },
    {
      "cell_type": "code",
      "metadata": {
        "id": "_KNAAVqUTXwn",
        "colab_type": "code",
        "colab": {}
      },
      "source": [
        "c_drop3=['pub_rec','emp_y','total_acc']"
      ],
      "execution_count": null,
      "outputs": []
    },
    {
      "cell_type": "code",
      "metadata": {
        "id": "kP4YUNmET4lv",
        "colab_type": "code",
        "colab": {}
      },
      "source": [
        "loans_final3=loans_final2.drop(labels=c_drop3,axis=1)"
      ],
      "execution_count": null,
      "outputs": []
    },
    {
      "cell_type": "code",
      "metadata": {
        "id": "lHnSZbD4ULCU",
        "colab_type": "code",
        "colab": {
          "base_uri": "https://localhost:8080/",
          "height": 289
        },
        "outputId": "e606f20d-7db0-4137-aa82-0aebe43ba5f7"
      },
      "source": [
        "loans_final3.corr()['loan_status_Fully Paid'].sort_values()"
      ],
      "execution_count": null,
      "outputs": [
        {
          "output_type": "execute_result",
          "data": {
            "text/plain": [
              "grade_n                  -0.257286\n",
              "int_rate                 -0.247758\n",
              "term_ 60 months          -0.173246\n",
              "revol_util               -0.082341\n",
              "home_own_status          -0.067096\n",
              "dti                      -0.062413\n",
              "issue_d_n                -0.060502\n",
              "loan_amnt                -0.059836\n",
              "installment              -0.041082\n",
              "earliest_cr_line_n       -0.038928\n",
              "open_acc                 -0.028012\n",
              "annual_inc                0.053432\n",
              "mort_acc                  0.071276\n",
              "verification              0.085163\n",
              "loan_status_Fully Paid    1.000000\n",
              "Name: loan_status_Fully Paid, dtype: float64"
            ]
          },
          "metadata": {
            "tags": []
          },
          "execution_count": 134
        }
      ]
    },
    {
      "cell_type": "code",
      "metadata": {
        "id": "OaQCoVSjUWVD",
        "colab_type": "code",
        "colab": {}
      },
      "source": [
        "X = loans_final4.drop('loan_status_Fully Paid',axis=1).values\n",
        "y = loans_final4['loan_status_Fully Paid'].values"
      ],
      "execution_count": null,
      "outputs": []
    },
    {
      "cell_type": "code",
      "metadata": {
        "id": "ylxUO4rNU3N7",
        "colab_type": "code",
        "colab": {}
      },
      "source": [
        "X_train, X_test, y_train, y_test = train_test_split(X,y,test_size=0.3,random_state=101)"
      ],
      "execution_count": null,
      "outputs": []
    },
    {
      "cell_type": "code",
      "metadata": {
        "id": "WWW4KgJ9VxTB",
        "colab_type": "code",
        "colab": {
          "base_uri": "https://localhost:8080/",
          "height": 34
        },
        "outputId": "c179e9af-c464-4963-e7f5-ca5022f47375"
      },
      "source": [
        "scaler = MinMaxScaler()\n",
        "scaler.fit(X_train)\n",
        "X_train = scaler.transform(X_train)\n",
        "X_test = scaler.transform(X_test)\n",
        "X_train.shape"
      ],
      "execution_count": null,
      "outputs": [
        {
          "output_type": "execute_result",
          "data": {
            "text/plain": [
              "(277221, 13)"
            ]
          },
          "metadata": {
            "tags": []
          },
          "execution_count": 155
        }
      ]
    },
    {
      "cell_type": "code",
      "metadata": {
        "id": "0PcgYl-rV-B0",
        "colab_type": "code",
        "colab": {}
      },
      "source": [
        "model = Sequential()\n",
        "\n",
        "# https://stats.stackexchange.com/questions/181/how-to-choose-the-number-of-hidden-layers-and-nodes-in-a-feedforward-neural-netw\n",
        "\n",
        "model.add(Dense(units=14,activation='relu'))\n",
        "\n",
        "model.add(Dense(units=6,activation='relu'))\n",
        "\n",
        "model.add(Dense(units=1,activation='sigmoid'))\n",
        "\n",
        "# For a binary classification problem\n",
        "model.compile(loss='binary_crossentropy', optimizer='adam')"
      ],
      "execution_count": null,
      "outputs": []
    },
    {
      "cell_type": "code",
      "metadata": {
        "id": "Ixq7dU2_WDdH",
        "colab_type": "code",
        "colab": {
          "base_uri": "https://localhost:8080/",
          "height": 1000
        },
        "outputId": "95115413-8cdb-48e9-b423-8698880ac5e5"
      },
      "source": [
        "model.fit(x=X_train, \n",
        "          y=y_train, \n",
        "          batch_size=256,epochs=600,\n",
        "          validation_data=(X_test, y_test), verbose=1,\n",
        "          callbacks=[early_stop]\n",
        "          )"
      ],
      "execution_count": null,
      "outputs": [
        {
          "output_type": "stream",
          "text": [
            "Train on 277221 samples, validate on 118809 samples\n",
            "Epoch 1/600\n",
            "277221/277221 [==============================] - 3s 10us/sample - loss: 0.4781 - val_loss: 0.4610\n",
            "Epoch 2/600\n",
            "277221/277221 [==============================] - 2s 9us/sample - loss: 0.4584 - val_loss: 0.4579\n",
            "Epoch 3/600\n",
            "277221/277221 [==============================] - 2s 9us/sample - loss: 0.4565 - val_loss: 0.4567\n",
            "Epoch 4/600\n",
            "277221/277221 [==============================] - 2s 9us/sample - loss: 0.4557 - val_loss: 0.4565\n",
            "Epoch 5/600\n",
            "277221/277221 [==============================] - 3s 9us/sample - loss: 0.4550 - val_loss: 0.4555\n",
            "Epoch 6/600\n",
            "277221/277221 [==============================] - 2s 9us/sample - loss: 0.4547 - val_loss: 0.4554\n",
            "Epoch 7/600\n",
            "277221/277221 [==============================] - 2s 9us/sample - loss: 0.4543 - val_loss: 0.4561\n",
            "Epoch 8/600\n",
            "277221/277221 [==============================] - 2s 9us/sample - loss: 0.4540 - val_loss: 0.4551\n",
            "Epoch 9/600\n",
            "277221/277221 [==============================] - 2s 9us/sample - loss: 0.4537 - val_loss: 0.4545\n",
            "Epoch 10/600\n",
            "277221/277221 [==============================] - 2s 9us/sample - loss: 0.4534 - val_loss: 0.4548\n",
            "Epoch 11/600\n",
            "277221/277221 [==============================] - 3s 9us/sample - loss: 0.4531 - val_loss: 0.4548\n",
            "Epoch 12/600\n",
            "277221/277221 [==============================] - 2s 9us/sample - loss: 0.4528 - val_loss: 0.4540\n",
            "Epoch 13/600\n",
            "277221/277221 [==============================] - 2s 9us/sample - loss: 0.4526 - val_loss: 0.4534\n",
            "Epoch 14/600\n",
            "277221/277221 [==============================] - 2s 9us/sample - loss: 0.4524 - val_loss: 0.4539\n",
            "Epoch 15/600\n",
            "277221/277221 [==============================] - 2s 9us/sample - loss: 0.4523 - val_loss: 0.4531\n",
            "Epoch 16/600\n",
            "277221/277221 [==============================] - 2s 9us/sample - loss: 0.4519 - val_loss: 0.4542\n",
            "Epoch 17/600\n",
            "277221/277221 [==============================] - 2s 9us/sample - loss: 0.4516 - val_loss: 0.4529\n",
            "Epoch 18/600\n",
            "277221/277221 [==============================] - 2s 9us/sample - loss: 0.4514 - val_loss: 0.4524\n",
            "Epoch 19/600\n",
            "277221/277221 [==============================] - 2s 9us/sample - loss: 0.4513 - val_loss: 0.4524\n",
            "Epoch 20/600\n",
            "277221/277221 [==============================] - 3s 9us/sample - loss: 0.4510 - val_loss: 0.4519\n",
            "Epoch 21/600\n",
            "277221/277221 [==============================] - 3s 9us/sample - loss: 0.4509 - val_loss: 0.4530\n",
            "Epoch 22/600\n",
            "277221/277221 [==============================] - 2s 9us/sample - loss: 0.4507 - val_loss: 0.4516\n",
            "Epoch 23/600\n",
            "277221/277221 [==============================] - 3s 9us/sample - loss: 0.4504 - val_loss: 0.4520\n",
            "Epoch 24/600\n",
            "277221/277221 [==============================] - 2s 9us/sample - loss: 0.4502 - val_loss: 0.4511\n",
            "Epoch 25/600\n",
            "277221/277221 [==============================] - 2s 9us/sample - loss: 0.4500 - val_loss: 0.4509\n",
            "Epoch 26/600\n",
            "277221/277221 [==============================] - 2s 9us/sample - loss: 0.4498 - val_loss: 0.4509\n",
            "Epoch 27/600\n",
            "277221/277221 [==============================] - 2s 9us/sample - loss: 0.4498 - val_loss: 0.4505\n",
            "Epoch 28/600\n",
            "277221/277221 [==============================] - 2s 9us/sample - loss: 0.4496 - val_loss: 0.4503\n",
            "Epoch 29/600\n",
            "277221/277221 [==============================] - 2s 9us/sample - loss: 0.4495 - val_loss: 0.4501\n",
            "Epoch 30/600\n",
            "277221/277221 [==============================] - 2s 9us/sample - loss: 0.4493 - val_loss: 0.4508\n",
            "Epoch 31/600\n",
            "277221/277221 [==============================] - 2s 9us/sample - loss: 0.4492 - val_loss: 0.4499\n",
            "Epoch 32/600\n",
            "277221/277221 [==============================] - 2s 9us/sample - loss: 0.4490 - val_loss: 0.4518\n",
            "Epoch 33/600\n",
            "277221/277221 [==============================] - 2s 9us/sample - loss: 0.4489 - val_loss: 0.4500\n",
            "Epoch 34/600\n",
            "277221/277221 [==============================] - 2s 9us/sample - loss: 0.4488 - val_loss: 0.4494\n",
            "Epoch 35/600\n",
            "277221/277221 [==============================] - 2s 9us/sample - loss: 0.4487 - val_loss: 0.4495\n",
            "Epoch 36/600\n",
            "277221/277221 [==============================] - 3s 9us/sample - loss: 0.4487 - val_loss: 0.4494\n",
            "Epoch 37/600\n",
            "277221/277221 [==============================] - 2s 9us/sample - loss: 0.4484 - val_loss: 0.4494\n",
            "Epoch 38/600\n",
            "277221/277221 [==============================] - 2s 9us/sample - loss: 0.4486 - val_loss: 0.4493\n",
            "Epoch 39/600\n",
            "277221/277221 [==============================] - 3s 9us/sample - loss: 0.4484 - val_loss: 0.4493\n",
            "Epoch 40/600\n",
            "277221/277221 [==============================] - 2s 9us/sample - loss: 0.4484 - val_loss: 0.4494\n",
            "Epoch 41/600\n",
            "277221/277221 [==============================] - 2s 9us/sample - loss: 0.4484 - val_loss: 0.4489\n",
            "Epoch 42/600\n",
            "277221/277221 [==============================] - 2s 9us/sample - loss: 0.4483 - val_loss: 0.4515\n",
            "Epoch 43/600\n",
            "277221/277221 [==============================] - 3s 9us/sample - loss: 0.4482 - val_loss: 0.4489\n",
            "Epoch 44/600\n",
            "277221/277221 [==============================] - 2s 9us/sample - loss: 0.4481 - val_loss: 0.4489\n",
            "Epoch 45/600\n",
            "277221/277221 [==============================] - 2s 9us/sample - loss: 0.4481 - val_loss: 0.4489\n",
            "Epoch 46/600\n",
            "277221/277221 [==============================] - 2s 9us/sample - loss: 0.4481 - val_loss: 0.4491\n",
            "Epoch 47/600\n",
            "277221/277221 [==============================] - 2s 9us/sample - loss: 0.4479 - val_loss: 0.4493\n",
            "Epoch 48/600\n",
            "277221/277221 [==============================] - 2s 9us/sample - loss: 0.4479 - val_loss: 0.4491\n",
            "Epoch 49/600\n",
            "277221/277221 [==============================] - 2s 9us/sample - loss: 0.4479 - val_loss: 0.4495\n",
            "Epoch 50/600\n",
            "277221/277221 [==============================] - 2s 9us/sample - loss: 0.4477 - val_loss: 0.4488\n",
            "Epoch 51/600\n",
            "277221/277221 [==============================] - 2s 9us/sample - loss: 0.4476 - val_loss: 0.4486\n",
            "Epoch 52/600\n",
            "277221/277221 [==============================] - 3s 9us/sample - loss: 0.4476 - val_loss: 0.4488\n",
            "Epoch 53/600\n",
            "277221/277221 [==============================] - 2s 9us/sample - loss: 0.4476 - val_loss: 0.4487\n",
            "Epoch 54/600\n",
            "277221/277221 [==============================] - 3s 9us/sample - loss: 0.4476 - val_loss: 0.4484\n",
            "Epoch 55/600\n",
            "277221/277221 [==============================] - 2s 9us/sample - loss: 0.4475 - val_loss: 0.4486\n",
            "Epoch 56/600\n",
            "277221/277221 [==============================] - 3s 9us/sample - loss: 0.4475 - val_loss: 0.4482\n",
            "Epoch 57/600\n",
            "277221/277221 [==============================] - 3s 9us/sample - loss: 0.4476 - val_loss: 0.4486\n",
            "Epoch 58/600\n",
            "277221/277221 [==============================] - 2s 9us/sample - loss: 0.4475 - val_loss: 0.4485\n",
            "Epoch 59/600\n",
            "277221/277221 [==============================] - 2s 9us/sample - loss: 0.4473 - val_loss: 0.4488\n",
            "Epoch 60/600\n",
            "277221/277221 [==============================] - 3s 9us/sample - loss: 0.4473 - val_loss: 0.4484\n",
            "Epoch 61/600\n",
            "277221/277221 [==============================] - 3s 9us/sample - loss: 0.4473 - val_loss: 0.4484\n",
            "Epoch 62/600\n",
            "277221/277221 [==============================] - 2s 9us/sample - loss: 0.4472 - val_loss: 0.4485\n",
            "Epoch 63/600\n",
            "277221/277221 [==============================] - 2s 9us/sample - loss: 0.4472 - val_loss: 0.4483\n",
            "Epoch 64/600\n",
            "277221/277221 [==============================] - 2s 9us/sample - loss: 0.4472 - val_loss: 0.4495\n",
            "Epoch 65/600\n",
            "277221/277221 [==============================] - 2s 9us/sample - loss: 0.4471 - val_loss: 0.4483\n",
            "Epoch 66/600\n",
            "277221/277221 [==============================] - 2s 9us/sample - loss: 0.4471 - val_loss: 0.4486\n",
            "Epoch 67/600\n",
            "277221/277221 [==============================] - 3s 9us/sample - loss: 0.4471 - val_loss: 0.4483\n",
            "Epoch 68/600\n",
            "277221/277221 [==============================] - 2s 9us/sample - loss: 0.4470 - val_loss: 0.4479\n",
            "Epoch 69/600\n",
            "277221/277221 [==============================] - 3s 9us/sample - loss: 0.4469 - val_loss: 0.4483\n",
            "Epoch 70/600\n",
            "277221/277221 [==============================] - 2s 9us/sample - loss: 0.4469 - val_loss: 0.4486\n",
            "Epoch 71/600\n",
            "277221/277221 [==============================] - 2s 9us/sample - loss: 0.4469 - val_loss: 0.4483\n",
            "Epoch 72/600\n",
            "277221/277221 [==============================] - 2s 9us/sample - loss: 0.4469 - val_loss: 0.4481\n",
            "Epoch 73/600\n",
            "277221/277221 [==============================] - 3s 9us/sample - loss: 0.4469 - val_loss: 0.4479\n",
            "Epoch 74/600\n",
            "277221/277221 [==============================] - 2s 9us/sample - loss: 0.4468 - val_loss: 0.4477\n",
            "Epoch 75/600\n",
            "277221/277221 [==============================] - 2s 9us/sample - loss: 0.4467 - val_loss: 0.4482\n",
            "Epoch 76/600\n",
            "277221/277221 [==============================] - 2s 9us/sample - loss: 0.4468 - val_loss: 0.4479\n",
            "Epoch 77/600\n",
            "277221/277221 [==============================] - 2s 9us/sample - loss: 0.4467 - val_loss: 0.4476\n",
            "Epoch 78/600\n",
            "277221/277221 [==============================] - 2s 9us/sample - loss: 0.4468 - val_loss: 0.4478\n",
            "Epoch 79/600\n",
            "277221/277221 [==============================] - 2s 9us/sample - loss: 0.4467 - val_loss: 0.4491\n",
            "Epoch 80/600\n",
            "277221/277221 [==============================] - 2s 9us/sample - loss: 0.4466 - val_loss: 0.4478\n",
            "Epoch 81/600\n",
            "277221/277221 [==============================] - 2s 9us/sample - loss: 0.4466 - val_loss: 0.4485\n",
            "Epoch 82/600\n",
            "277221/277221 [==============================] - 2s 9us/sample - loss: 0.4466 - val_loss: 0.4477\n",
            "Epoch 83/600\n",
            "277221/277221 [==============================] - 2s 9us/sample - loss: 0.4467 - val_loss: 0.4474\n",
            "Epoch 84/600\n",
            "277221/277221 [==============================] - 3s 9us/sample - loss: 0.4465 - val_loss: 0.4483\n",
            "Epoch 85/600\n",
            "277221/277221 [==============================] - 2s 9us/sample - loss: 0.4465 - val_loss: 0.4478\n",
            "Epoch 86/600\n",
            "277221/277221 [==============================] - 2s 9us/sample - loss: 0.4465 - val_loss: 0.4479\n",
            "Epoch 87/600\n",
            "277221/277221 [==============================] - 2s 9us/sample - loss: 0.4465 - val_loss: 0.4483\n",
            "Epoch 88/600\n",
            "277221/277221 [==============================] - 2s 9us/sample - loss: 0.4464 - val_loss: 0.4480\n",
            "Epoch 89/600\n",
            "277221/277221 [==============================] - 2s 9us/sample - loss: 0.4464 - val_loss: 0.4480\n",
            "Epoch 90/600\n",
            "277221/277221 [==============================] - 3s 9us/sample - loss: 0.4464 - val_loss: 0.4473\n",
            "Epoch 91/600\n",
            "277221/277221 [==============================] - 2s 9us/sample - loss: 0.4463 - val_loss: 0.4474\n",
            "Epoch 92/600\n",
            "277221/277221 [==============================] - 2s 9us/sample - loss: 0.4463 - val_loss: 0.4471\n",
            "Epoch 93/600\n",
            "277221/277221 [==============================] - 2s 9us/sample - loss: 0.4463 - val_loss: 0.4476\n",
            "Epoch 94/600\n",
            "277221/277221 [==============================] - 2s 9us/sample - loss: 0.4465 - val_loss: 0.4480\n",
            "Epoch 95/600\n",
            "277221/277221 [==============================] - 2s 9us/sample - loss: 0.4462 - val_loss: 0.4486\n",
            "Epoch 96/600\n",
            "277221/277221 [==============================] - 3s 9us/sample - loss: 0.4461 - val_loss: 0.4474\n",
            "Epoch 97/600\n",
            "277221/277221 [==============================] - 2s 9us/sample - loss: 0.4462 - val_loss: 0.4470\n",
            "Epoch 98/600\n",
            "277221/277221 [==============================] - 2s 9us/sample - loss: 0.4461 - val_loss: 0.4479\n",
            "Epoch 99/600\n",
            "277221/277221 [==============================] - 2s 9us/sample - loss: 0.4460 - val_loss: 0.4473\n",
            "Epoch 100/600\n",
            "277221/277221 [==============================] - 2s 9us/sample - loss: 0.4459 - val_loss: 0.4474\n",
            "Epoch 101/600\n",
            "277221/277221 [==============================] - 2s 9us/sample - loss: 0.4460 - val_loss: 0.4472\n",
            "Epoch 102/600\n",
            "277221/277221 [==============================] - 3s 10us/sample - loss: 0.4460 - val_loss: 0.4472\n",
            "Epoch 103/600\n",
            "277221/277221 [==============================] - 3s 9us/sample - loss: 0.4459 - val_loss: 0.4476\n",
            "Epoch 104/600\n",
            "277221/277221 [==============================] - 2s 9us/sample - loss: 0.4458 - val_loss: 0.4472\n",
            "Epoch 105/600\n",
            "277221/277221 [==============================] - 2s 9us/sample - loss: 0.4460 - val_loss: 0.4467\n",
            "Epoch 106/600\n",
            "277221/277221 [==============================] - 2s 9us/sample - loss: 0.4457 - val_loss: 0.4468\n",
            "Epoch 107/600\n",
            "277221/277221 [==============================] - 3s 9us/sample - loss: 0.4457 - val_loss: 0.4469\n",
            "Epoch 108/600\n",
            "277221/277221 [==============================] - 3s 9us/sample - loss: 0.4458 - val_loss: 0.4470\n",
            "Epoch 109/600\n",
            "277221/277221 [==============================] - 3s 9us/sample - loss: 0.4458 - val_loss: 0.4470\n",
            "Epoch 110/600\n",
            "277221/277221 [==============================] - 3s 10us/sample - loss: 0.4456 - val_loss: 0.4466\n",
            "Epoch 111/600\n",
            "277221/277221 [==============================] - 3s 9us/sample - loss: 0.4456 - val_loss: 0.4472\n",
            "Epoch 112/600\n",
            "277221/277221 [==============================] - 2s 9us/sample - loss: 0.4455 - val_loss: 0.4467\n",
            "Epoch 113/600\n",
            "277221/277221 [==============================] - 2s 9us/sample - loss: 0.4455 - val_loss: 0.4475\n",
            "Epoch 114/600\n",
            "277221/277221 [==============================] - 3s 9us/sample - loss: 0.4454 - val_loss: 0.4468\n",
            "Epoch 115/600\n",
            "277221/277221 [==============================] - 2s 9us/sample - loss: 0.4454 - val_loss: 0.4473\n",
            "Epoch 116/600\n",
            "277221/277221 [==============================] - 2s 9us/sample - loss: 0.4454 - val_loss: 0.4466\n",
            "Epoch 117/600\n",
            "277221/277221 [==============================] - 2s 9us/sample - loss: 0.4455 - val_loss: 0.4466\n",
            "Epoch 118/600\n",
            "277221/277221 [==============================] - 2s 9us/sample - loss: 0.4453 - val_loss: 0.4463\n",
            "Epoch 119/600\n",
            "277221/277221 [==============================] - 2s 9us/sample - loss: 0.4453 - val_loss: 0.4465\n",
            "Epoch 120/600\n",
            "277221/277221 [==============================] - 2s 9us/sample - loss: 0.4452 - val_loss: 0.4467\n",
            "Epoch 121/600\n",
            "277221/277221 [==============================] - 2s 9us/sample - loss: 0.4453 - val_loss: 0.4465\n",
            "Epoch 122/600\n",
            "277221/277221 [==============================] - 2s 9us/sample - loss: 0.4453 - val_loss: 0.4468\n",
            "Epoch 123/600\n",
            "277221/277221 [==============================] - 2s 9us/sample - loss: 0.4452 - val_loss: 0.4465\n",
            "Epoch 124/600\n",
            "277221/277221 [==============================] - 2s 9us/sample - loss: 0.4451 - val_loss: 0.4463\n",
            "Epoch 125/600\n",
            "277221/277221 [==============================] - 2s 9us/sample - loss: 0.4451 - val_loss: 0.4468\n",
            "Epoch 126/600\n",
            "277221/277221 [==============================] - 2s 9us/sample - loss: 0.4451 - val_loss: 0.4463\n",
            "Epoch 127/600\n",
            "277221/277221 [==============================] - 3s 9us/sample - loss: 0.4451 - val_loss: 0.4480\n",
            "Epoch 128/600\n",
            "277221/277221 [==============================] - 2s 9us/sample - loss: 0.4450 - val_loss: 0.4462\n",
            "Epoch 129/600\n",
            "277221/277221 [==============================] - 2s 9us/sample - loss: 0.4450 - val_loss: 0.4464\n",
            "Epoch 130/600\n",
            "277221/277221 [==============================] - 2s 9us/sample - loss: 0.4449 - val_loss: 0.4481\n",
            "Epoch 131/600\n",
            "277221/277221 [==============================] - 2s 9us/sample - loss: 0.4451 - val_loss: 0.4462\n",
            "Epoch 132/600\n",
            "277221/277221 [==============================] - 2s 9us/sample - loss: 0.4449 - val_loss: 0.4471\n",
            "Epoch 133/600\n",
            "277221/277221 [==============================] - 2s 9us/sample - loss: 0.4449 - val_loss: 0.4462\n",
            "Epoch 134/600\n",
            "277221/277221 [==============================] - 2s 9us/sample - loss: 0.4449 - val_loss: 0.4460\n",
            "Epoch 135/600\n",
            "277221/277221 [==============================] - 2s 9us/sample - loss: 0.4448 - val_loss: 0.4465\n",
            "Epoch 136/600\n",
            "277221/277221 [==============================] - 2s 9us/sample - loss: 0.4448 - val_loss: 0.4466\n",
            "Epoch 137/600\n",
            "277221/277221 [==============================] - 2s 9us/sample - loss: 0.4448 - val_loss: 0.4462\n",
            "Epoch 138/600\n",
            "277221/277221 [==============================] - 2s 9us/sample - loss: 0.4448 - val_loss: 0.4463\n",
            "Epoch 139/600\n",
            "277221/277221 [==============================] - 2s 9us/sample - loss: 0.4448 - val_loss: 0.4465\n",
            "Epoch 140/600\n",
            "277221/277221 [==============================] - 2s 9us/sample - loss: 0.4448 - val_loss: 0.4460\n",
            "Epoch 141/600\n",
            "277221/277221 [==============================] - 3s 9us/sample - loss: 0.4446 - val_loss: 0.4461\n",
            "Epoch 142/600\n",
            "277221/277221 [==============================] - 2s 9us/sample - loss: 0.4447 - val_loss: 0.4462\n",
            "Epoch 143/600\n",
            "277221/277221 [==============================] - 2s 9us/sample - loss: 0.4447 - val_loss: 0.4461\n",
            "Epoch 144/600\n",
            "277221/277221 [==============================] - 3s 9us/sample - loss: 0.4448 - val_loss: 0.4468\n",
            "Epoch 145/600\n",
            "277221/277221 [==============================] - 2s 9us/sample - loss: 0.4447 - val_loss: 0.4461\n",
            "Epoch 146/600\n",
            "277221/277221 [==============================] - 2s 9us/sample - loss: 0.4447 - val_loss: 0.4462\n",
            "Epoch 147/600\n",
            "277221/277221 [==============================] - 2s 9us/sample - loss: 0.4448 - val_loss: 0.4462\n",
            "Epoch 148/600\n",
            "277221/277221 [==============================] - 2s 9us/sample - loss: 0.4445 - val_loss: 0.4459\n",
            "Epoch 149/600\n",
            "277221/277221 [==============================] - 2s 9us/sample - loss: 0.4445 - val_loss: 0.4479\n",
            "Epoch 150/600\n",
            "277221/277221 [==============================] - 2s 9us/sample - loss: 0.4445 - val_loss: 0.4472\n",
            "Epoch 151/600\n",
            "277221/277221 [==============================] - 2s 9us/sample - loss: 0.4447 - val_loss: 0.4469\n",
            "Epoch 152/600\n",
            "277221/277221 [==============================] - 2s 9us/sample - loss: 0.4445 - val_loss: 0.4469\n",
            "Epoch 153/600\n",
            "277221/277221 [==============================] - 2s 9us/sample - loss: 0.4445 - val_loss: 0.4465\n",
            "Epoch 154/600\n",
            "277221/277221 [==============================] - 2s 9us/sample - loss: 0.4445 - val_loss: 0.4468\n",
            "Epoch 155/600\n",
            "277221/277221 [==============================] - 2s 9us/sample - loss: 0.4445 - val_loss: 0.4460\n",
            "Epoch 156/600\n",
            "277221/277221 [==============================] - 2s 9us/sample - loss: 0.4446 - val_loss: 0.4462\n",
            "Epoch 157/600\n",
            "277221/277221 [==============================] - 2s 9us/sample - loss: 0.4446 - val_loss: 0.4464\n",
            "Epoch 158/600\n",
            "277221/277221 [==============================] - 2s 9us/sample - loss: 0.4445 - val_loss: 0.4459\n",
            "Epoch 159/600\n",
            "277221/277221 [==============================] - 2s 9us/sample - loss: 0.4444 - val_loss: 0.4459\n",
            "Epoch 160/600\n",
            "277221/277221 [==============================] - 3s 9us/sample - loss: 0.4445 - val_loss: 0.4457\n",
            "Epoch 161/600\n",
            "277221/277221 [==============================] - 2s 9us/sample - loss: 0.4444 - val_loss: 0.4462\n",
            "Epoch 162/600\n",
            "277221/277221 [==============================] - 2s 9us/sample - loss: 0.4444 - val_loss: 0.4470\n",
            "Epoch 163/600\n",
            "277221/277221 [==============================] - 2s 9us/sample - loss: 0.4445 - val_loss: 0.4460\n",
            "Epoch 164/600\n",
            "277221/277221 [==============================] - 2s 9us/sample - loss: 0.4445 - val_loss: 0.4457\n",
            "Epoch 165/600\n",
            "277221/277221 [==============================] - 2s 9us/sample - loss: 0.4444 - val_loss: 0.4464\n",
            "Epoch 166/600\n",
            "277221/277221 [==============================] - 2s 9us/sample - loss: 0.4443 - val_loss: 0.4464\n",
            "Epoch 167/600\n",
            "277221/277221 [==============================] - 2s 9us/sample - loss: 0.4444 - val_loss: 0.4458\n",
            "Epoch 168/600\n",
            "277221/277221 [==============================] - 2s 9us/sample - loss: 0.4443 - val_loss: 0.4465\n",
            "Epoch 169/600\n",
            "277221/277221 [==============================] - 2s 9us/sample - loss: 0.4443 - val_loss: 0.4461\n",
            "Epoch 170/600\n",
            "277221/277221 [==============================] - 2s 9us/sample - loss: 0.4443 - val_loss: 0.4462\n",
            "Epoch 171/600\n",
            "277221/277221 [==============================] - 2s 9us/sample - loss: 0.4444 - val_loss: 0.4465\n",
            "Epoch 172/600\n",
            "277221/277221 [==============================] - 2s 9us/sample - loss: 0.4444 - val_loss: 0.4458\n",
            "Epoch 173/600\n",
            "277221/277221 [==============================] - 2s 9us/sample - loss: 0.4443 - val_loss: 0.4460\n",
            "Epoch 174/600\n",
            "277221/277221 [==============================] - 2s 9us/sample - loss: 0.4443 - val_loss: 0.4464\n",
            "Epoch 175/600\n",
            "277221/277221 [==============================] - 2s 9us/sample - loss: 0.4443 - val_loss: 0.4456\n",
            "Epoch 176/600\n",
            "277221/277221 [==============================] - 2s 9us/sample - loss: 0.4444 - val_loss: 0.4459\n",
            "Epoch 177/600\n",
            "277221/277221 [==============================] - 2s 9us/sample - loss: 0.4443 - val_loss: 0.4460\n",
            "Epoch 178/600\n",
            "277221/277221 [==============================] - 2s 9us/sample - loss: 0.4443 - val_loss: 0.4458\n",
            "Epoch 179/600\n",
            "277221/277221 [==============================] - 2s 9us/sample - loss: 0.4443 - val_loss: 0.4457\n",
            "Epoch 180/600\n",
            "277221/277221 [==============================] - 2s 9us/sample - loss: 0.4443 - val_loss: 0.4461\n",
            "Epoch 181/600\n",
            "277221/277221 [==============================] - 2s 9us/sample - loss: 0.4443 - val_loss: 0.4463\n",
            "Epoch 182/600\n",
            "277221/277221 [==============================] - 2s 9us/sample - loss: 0.4443 - val_loss: 0.4469\n",
            "Epoch 183/600\n",
            "277221/277221 [==============================] - 2s 9us/sample - loss: 0.4443 - val_loss: 0.4458\n",
            "Epoch 184/600\n",
            "277221/277221 [==============================] - 2s 9us/sample - loss: 0.4442 - val_loss: 0.4458\n",
            "Epoch 185/600\n",
            "277221/277221 [==============================] - 2s 9us/sample - loss: 0.4443 - val_loss: 0.4468\n",
            "Epoch 186/600\n",
            "277221/277221 [==============================] - 2s 9us/sample - loss: 0.4443 - val_loss: 0.4472\n",
            "Epoch 187/600\n",
            "277221/277221 [==============================] - 2s 9us/sample - loss: 0.4442 - val_loss: 0.4471\n",
            "Epoch 188/600\n",
            "277221/277221 [==============================] - 2s 9us/sample - loss: 0.4443 - val_loss: 0.4455\n",
            "Epoch 189/600\n",
            "277221/277221 [==============================] - 2s 9us/sample - loss: 0.4442 - val_loss: 0.4464\n",
            "Epoch 190/600\n",
            "277221/277221 [==============================] - 2s 9us/sample - loss: 0.4444 - val_loss: 0.4457\n",
            "Epoch 191/600\n",
            "277221/277221 [==============================] - 2s 9us/sample - loss: 0.4442 - val_loss: 0.4461\n",
            "Epoch 192/600\n",
            "277221/277221 [==============================] - 2s 9us/sample - loss: 0.4442 - val_loss: 0.4459\n",
            "Epoch 193/600\n",
            "277221/277221 [==============================] - 2s 9us/sample - loss: 0.4441 - val_loss: 0.4460\n",
            "Epoch 194/600\n",
            "277221/277221 [==============================] - 2s 9us/sample - loss: 0.4443 - val_loss: 0.4455\n",
            "Epoch 195/600\n",
            "277221/277221 [==============================] - 2s 9us/sample - loss: 0.4442 - val_loss: 0.4462\n",
            "Epoch 196/600\n",
            "277221/277221 [==============================] - 2s 9us/sample - loss: 0.4441 - val_loss: 0.4454\n",
            "Epoch 197/600\n",
            "277221/277221 [==============================] - 2s 9us/sample - loss: 0.4441 - val_loss: 0.4467\n",
            "Epoch 198/600\n",
            "277221/277221 [==============================] - 2s 9us/sample - loss: 0.4441 - val_loss: 0.4459\n",
            "Epoch 199/600\n",
            "277221/277221 [==============================] - 2s 9us/sample - loss: 0.4441 - val_loss: 0.4457\n",
            "Epoch 200/600\n",
            "277221/277221 [==============================] - 2s 9us/sample - loss: 0.4442 - val_loss: 0.4468\n",
            "Epoch 201/600\n",
            "277221/277221 [==============================] - 2s 9us/sample - loss: 0.4442 - val_loss: 0.4460\n",
            "Epoch 202/600\n",
            "277221/277221 [==============================] - 2s 9us/sample - loss: 0.4443 - val_loss: 0.4461\n",
            "Epoch 203/600\n",
            "277221/277221 [==============================] - 2s 9us/sample - loss: 0.4441 - val_loss: 0.4457\n",
            "Epoch 204/600\n",
            "277221/277221 [==============================] - 2s 9us/sample - loss: 0.4442 - val_loss: 0.4458\n",
            "Epoch 205/600\n",
            "277221/277221 [==============================] - 2s 9us/sample - loss: 0.4442 - val_loss: 0.4456\n",
            "Epoch 206/600\n",
            "277221/277221 [==============================] - 2s 9us/sample - loss: 0.4441 - val_loss: 0.4458\n",
            "Epoch 207/600\n",
            "277221/277221 [==============================] - 2s 9us/sample - loss: 0.4442 - val_loss: 0.4457\n",
            "Epoch 208/600\n",
            "277221/277221 [==============================] - 2s 9us/sample - loss: 0.4441 - val_loss: 0.4457\n",
            "Epoch 209/600\n",
            "277221/277221 [==============================] - 2s 9us/sample - loss: 0.4440 - val_loss: 0.4458\n",
            "Epoch 210/600\n",
            "277221/277221 [==============================] - 2s 9us/sample - loss: 0.4441 - val_loss: 0.4460\n",
            "Epoch 211/600\n",
            "277221/277221 [==============================] - 2s 9us/sample - loss: 0.4440 - val_loss: 0.4469\n",
            "Epoch 212/600\n",
            "277221/277221 [==============================] - 2s 9us/sample - loss: 0.4441 - val_loss: 0.4459\n",
            "Epoch 213/600\n",
            "277221/277221 [==============================] - 2s 9us/sample - loss: 0.4441 - val_loss: 0.4467\n",
            "Epoch 214/600\n",
            "277221/277221 [==============================] - 2s 9us/sample - loss: 0.4441 - val_loss: 0.4460\n",
            "Epoch 215/600\n",
            "277221/277221 [==============================] - 2s 9us/sample - loss: 0.4442 - val_loss: 0.4458\n",
            "Epoch 216/600\n",
            "277221/277221 [==============================] - 2s 9us/sample - loss: 0.4442 - val_loss: 0.4487\n",
            "Epoch 217/600\n",
            "277221/277221 [==============================] - 2s 9us/sample - loss: 0.4441 - val_loss: 0.4462\n",
            "Epoch 218/600\n",
            "277221/277221 [==============================] - 2s 9us/sample - loss: 0.4442 - val_loss: 0.4461\n",
            "Epoch 219/600\n",
            "277221/277221 [==============================] - 2s 9us/sample - loss: 0.4441 - val_loss: 0.4462\n",
            "Epoch 220/600\n",
            "277221/277221 [==============================] - 2s 9us/sample - loss: 0.4441 - val_loss: 0.4455\n",
            "Epoch 221/600\n",
            "277221/277221 [==============================] - 2s 9us/sample - loss: 0.4440 - val_loss: 0.4456\n",
            "Epoch 00221: early stopping\n"
          ],
          "name": "stdout"
        },
        {
          "output_type": "execute_result",
          "data": {
            "text/plain": [
              "<tensorflow.python.keras.callbacks.History at 0x7f56f82924a8>"
            ]
          },
          "metadata": {
            "tags": []
          },
          "execution_count": 157
        }
      ]
    },
    {
      "cell_type": "code",
      "metadata": {
        "id": "g_MIppnwYW5K",
        "colab_type": "code",
        "colab": {
          "base_uri": "https://localhost:8080/",
          "height": 282
        },
        "outputId": "5d15f126-e42b-4a31-c446-27db0054ae8c"
      },
      "source": [
        "model_loss = pd.DataFrame(model.history.history)\n",
        "model_loss.plot()"
      ],
      "execution_count": null,
      "outputs": [
        {
          "output_type": "execute_result",
          "data": {
            "text/plain": [
              "<matplotlib.axes._subplots.AxesSubplot at 0x7f56f82da940>"
            ]
          },
          "metadata": {
            "tags": []
          },
          "execution_count": 158
        },
        {
          "output_type": "display_data",
          "data": {
            "image/png": "[encoded data removed]",
            "text/plain": [
              "<Figure size 432x288 with 1 Axes>"
            ]
          },
          "metadata": {
            "tags": []
          }
        }
      ]
    },
    {
      "cell_type": "code",
      "metadata": {
        "id": "rBSgg5SBatwD",
        "colab_type": "code",
        "colab": {}
      },
      "source": [
        "predictions = model.predict_classes(X_test)"
      ],
      "execution_count": null,
      "outputs": []
    },
    {
      "cell_type": "code",
      "metadata": {
        "id": "PhQeyH9Ya3Iv",
        "colab_type": "code",
        "colab": {
          "base_uri": "https://localhost:8080/",
          "height": 170
        },
        "outputId": "6c293693-e126-4c78-f9a6-8d8aa26b8e30"
      },
      "source": [
        "print(classification_report(y_test,predictions))"
      ],
      "execution_count": null,
      "outputs": [
        {
          "output_type": "stream",
          "text": [
            "              precision    recall  f1-score   support\n",
            "\n",
            "           0       0.56      0.06      0.12     23260\n",
            "           1       0.81      0.99      0.89     95549\n",
            "\n",
            "    accuracy                           0.81    118809\n",
            "   macro avg       0.69      0.53      0.50    118809\n",
            "weighted avg       0.76      0.81      0.74    118809\n",
            "\n"
          ],
          "name": "stdout"
        }
      ]
    },
    {
      "cell_type": "code",
      "metadata": {
        "id": "RV0plZ1Ra9K6",
        "colab_type": "code",
        "colab": {
          "base_uri": "https://localhost:8080/",
          "height": 51
        },
        "outputId": "f265c0cc-4a83-4041-cd94-ebf1ebae81c1"
      },
      "source": [
        "print(confusion_matrix(y_test,predictions))"
      ],
      "execution_count": null,
      "outputs": [
        {
          "output_type": "stream",
          "text": [
            "[[ 1497 21763]\n",
            " [ 1182 94367]]\n"
          ],
          "name": "stdout"
        }
      ]
    },
    {
      "cell_type": "code",
      "metadata": {
        "id": "j0vAryjWbEHi",
        "colab_type": "code",
        "colab": {}
      },
      "source": [
        "grade={1:0, 2:0, 3:0, 4:0, 5:0, 6:1, 7:1}\n",
        "loans_final3['grade']=loans_final3['grade_n'].map(grade)"
      ],
      "execution_count": null,
      "outputs": []
    },
    {
      "cell_type": "code",
      "metadata": {
        "id": "dVUxAWr5mq0w",
        "colab_type": "code",
        "colab": {
          "base_uri": "https://localhost:8080/",
          "height": 258
        },
        "outputId": "2b3eb50d-39b5-4e34-c319-754a530827fa"
      },
      "source": [
        "loans_final3.head()"
      ],
      "execution_count": null,
      "outputs": [
        {
          "output_type": "execute_result",
          "data": {
            "text/html": [
              "<div>\n",
              "<style scoped>\n",
              "    .dataframe tbody tr th:only-of-type {\n",
              "        vertical-align: middle;\n",
              "    }\n",
              "\n",
              "    .dataframe tbody tr th {\n",
              "        vertical-align: top;\n",
              "    }\n",
              "\n",
              "    .dataframe thead th {\n",
              "        text-align: right;\n",
              "    }\n",
              "</style>\n",
              "<table border=\"1\" class=\"dataframe\">\n",
              "  <thead>\n",
              "    <tr style=\"text-align: right;\">\n",
              "      <th></th>\n",
              "      <th>loan_amnt</th>\n",
              "      <th>int_rate</th>\n",
              "      <th>installment</th>\n",
              "      <th>annual_inc</th>\n",
              "      <th>dti</th>\n",
              "      <th>open_acc</th>\n",
              "      <th>revol_util</th>\n",
              "      <th>mort_acc</th>\n",
              "      <th>loan_status_Fully Paid</th>\n",
              "      <th>term_ 60 months</th>\n",
              "      <th>grade_n</th>\n",
              "      <th>home_own_status</th>\n",
              "      <th>verification</th>\n",
              "      <th>issue_d_n</th>\n",
              "      <th>earliest_cr_line_n</th>\n",
              "      <th>grade</th>\n",
              "    </tr>\n",
              "  </thead>\n",
              "  <tbody>\n",
              "    <tr>\n",
              "      <th>0</th>\n",
              "      <td>10000.0</td>\n",
              "      <td>11.44</td>\n",
              "      <td>329.48</td>\n",
              "      <td>117000.0</td>\n",
              "      <td>26.24</td>\n",
              "      <td>16.0</td>\n",
              "      <td>41.8</td>\n",
              "      <td>0.0</td>\n",
              "      <td>1</td>\n",
              "      <td>0</td>\n",
              "      <td>2</td>\n",
              "      <td>True</td>\n",
              "      <td>True</td>\n",
              "      <td>2015</td>\n",
              "      <td>1990</td>\n",
              "      <td>0</td>\n",
              "    </tr>\n",
              "    <tr>\n",
              "      <th>1</th>\n",
              "      <td>8000.0</td>\n",
              "      <td>11.99</td>\n",
              "      <td>265.68</td>\n",
              "      <td>65000.0</td>\n",
              "      <td>22.05</td>\n",
              "      <td>17.0</td>\n",
              "      <td>53.3</td>\n",
              "      <td>3.0</td>\n",
              "      <td>1</td>\n",
              "      <td>0</td>\n",
              "      <td>2</td>\n",
              "      <td>False</td>\n",
              "      <td>True</td>\n",
              "      <td>2015</td>\n",
              "      <td>2004</td>\n",
              "      <td>0</td>\n",
              "    </tr>\n",
              "    <tr>\n",
              "      <th>2</th>\n",
              "      <td>15600.0</td>\n",
              "      <td>10.49</td>\n",
              "      <td>506.97</td>\n",
              "      <td>43057.0</td>\n",
              "      <td>12.79</td>\n",
              "      <td>13.0</td>\n",
              "      <td>92.2</td>\n",
              "      <td>0.0</td>\n",
              "      <td>1</td>\n",
              "      <td>0</td>\n",
              "      <td>2</td>\n",
              "      <td>True</td>\n",
              "      <td>False</td>\n",
              "      <td>2015</td>\n",
              "      <td>2007</td>\n",
              "      <td>0</td>\n",
              "    </tr>\n",
              "    <tr>\n",
              "      <th>3</th>\n",
              "      <td>7200.0</td>\n",
              "      <td>6.49</td>\n",
              "      <td>220.65</td>\n",
              "      <td>54000.0</td>\n",
              "      <td>2.60</td>\n",
              "      <td>6.0</td>\n",
              "      <td>21.5</td>\n",
              "      <td>0.0</td>\n",
              "      <td>1</td>\n",
              "      <td>0</td>\n",
              "      <td>1</td>\n",
              "      <td>True</td>\n",
              "      <td>True</td>\n",
              "      <td>2014</td>\n",
              "      <td>2006</td>\n",
              "      <td>0</td>\n",
              "    </tr>\n",
              "    <tr>\n",
              "      <th>4</th>\n",
              "      <td>24375.0</td>\n",
              "      <td>17.27</td>\n",
              "      <td>609.33</td>\n",
              "      <td>55000.0</td>\n",
              "      <td>33.95</td>\n",
              "      <td>13.0</td>\n",
              "      <td>69.8</td>\n",
              "      <td>1.0</td>\n",
              "      <td>0</td>\n",
              "      <td>1</td>\n",
              "      <td>3</td>\n",
              "      <td>False</td>\n",
              "      <td>False</td>\n",
              "      <td>2013</td>\n",
              "      <td>1999</td>\n",
              "      <td>0</td>\n",
              "    </tr>\n",
              "  </tbody>\n",
              "</table>\n",
              "</div>"
            ],
            "text/plain": [
              "   loan_amnt  int_rate  installment  ...  issue_d_n  earliest_cr_line_n  grade\n",
              "0    10000.0     11.44       329.48  ...       2015                1990      0\n",
              "1     8000.0     11.99       265.68  ...       2015                2004      0\n",
              "2    15600.0     10.49       506.97  ...       2015                2007      0\n",
              "3     7200.0      6.49       220.65  ...       2014                2006      0\n",
              "4    24375.0     17.27       609.33  ...       2013                1999      0\n",
              "\n",
              "[5 rows x 16 columns]"
            ]
          },
          "metadata": {
            "tags": []
          },
          "execution_count": 146
        }
      ]
    },
    {
      "cell_type": "code",
      "metadata": {
        "id": "oLZG8cLDmuZ1",
        "colab_type": "code",
        "colab": {}
      },
      "source": [
        "loans_final4=loans_final3.drop(['grade_n','open_acc'],axis=1)"
      ],
      "execution_count": null,
      "outputs": []
    },
    {
      "cell_type": "code",
      "metadata": {
        "id": "awB8KfoKm8ZK",
        "colab_type": "code",
        "colab": {
          "base_uri": "https://localhost:8080/",
          "height": 473
        },
        "outputId": "86274bff-69ca-4bb1-b7f3-e2d81bc0db63"
      },
      "source": [
        "loans_final4"
      ],
      "execution_count": null,
      "outputs": [
        {
          "output_type": "execute_result",
          "data": {
            "text/html": [
              "<div>\n",
              "<style scoped>\n",
              "    .dataframe tbody tr th:only-of-type {\n",
              "        vertical-align: middle;\n",
              "    }\n",
              "\n",
              "    .dataframe tbody tr th {\n",
              "        vertical-align: top;\n",
              "    }\n",
              "\n",
              "    .dataframe thead th {\n",
              "        text-align: right;\n",
              "    }\n",
              "</style>\n",
              "<table border=\"1\" class=\"dataframe\">\n",
              "  <thead>\n",
              "    <tr style=\"text-align: right;\">\n",
              "      <th></th>\n",
              "      <th>loan_amnt</th>\n",
              "      <th>int_rate</th>\n",
              "      <th>installment</th>\n",
              "      <th>annual_inc</th>\n",
              "      <th>dti</th>\n",
              "      <th>open_acc</th>\n",
              "      <th>revol_util</th>\n",
              "      <th>mort_acc</th>\n",
              "      <th>loan_status_Fully Paid</th>\n",
              "      <th>term_ 60 months</th>\n",
              "      <th>home_own_status</th>\n",
              "      <th>verification</th>\n",
              "      <th>issue_d_n</th>\n",
              "      <th>earliest_cr_line_n</th>\n",
              "      <th>grade</th>\n",
              "    </tr>\n",
              "  </thead>\n",
              "  <tbody>\n",
              "    <tr>\n",
              "      <th>0</th>\n",
              "      <td>10000.0</td>\n",
              "      <td>11.44</td>\n",
              "      <td>329.48</td>\n",
              "      <td>117000.0</td>\n",
              "      <td>26.24</td>\n",
              "      <td>16.0</td>\n",
              "      <td>41.8</td>\n",
              "      <td>0.0</td>\n",
              "      <td>1</td>\n",
              "      <td>0</td>\n",
              "      <td>True</td>\n",
              "      <td>True</td>\n",
              "      <td>2015</td>\n",
              "      <td>1990</td>\n",
              "      <td>0</td>\n",
              "    </tr>\n",
              "    <tr>\n",
              "      <th>1</th>\n",
              "      <td>8000.0</td>\n",
              "      <td>11.99</td>\n",
              "      <td>265.68</td>\n",
              "      <td>65000.0</td>\n",
              "      <td>22.05</td>\n",
              "      <td>17.0</td>\n",
              "      <td>53.3</td>\n",
              "      <td>3.0</td>\n",
              "      <td>1</td>\n",
              "      <td>0</td>\n",
              "      <td>False</td>\n",
              "      <td>True</td>\n",
              "      <td>2015</td>\n",
              "      <td>2004</td>\n",
              "      <td>0</td>\n",
              "    </tr>\n",
              "    <tr>\n",
              "      <th>2</th>\n",
              "      <td>15600.0</td>\n",
              "      <td>10.49</td>\n",
              "      <td>506.97</td>\n",
              "      <td>43057.0</td>\n",
              "      <td>12.79</td>\n",
              "      <td>13.0</td>\n",
              "      <td>92.2</td>\n",
              "      <td>0.0</td>\n",
              "      <td>1</td>\n",
              "      <td>0</td>\n",
              "      <td>True</td>\n",
              "      <td>False</td>\n",
              "      <td>2015</td>\n",
              "      <td>2007</td>\n",
              "      <td>0</td>\n",
              "    </tr>\n",
              "    <tr>\n",
              "      <th>3</th>\n",
              "      <td>7200.0</td>\n",
              "      <td>6.49</td>\n",
              "      <td>220.65</td>\n",
              "      <td>54000.0</td>\n",
              "      <td>2.60</td>\n",
              "      <td>6.0</td>\n",
              "      <td>21.5</td>\n",
              "      <td>0.0</td>\n",
              "      <td>1</td>\n",
              "      <td>0</td>\n",
              "      <td>True</td>\n",
              "      <td>True</td>\n",
              "      <td>2014</td>\n",
              "      <td>2006</td>\n",
              "      <td>0</td>\n",
              "    </tr>\n",
              "    <tr>\n",
              "      <th>4</th>\n",
              "      <td>24375.0</td>\n",
              "      <td>17.27</td>\n",
              "      <td>609.33</td>\n",
              "      <td>55000.0</td>\n",
              "      <td>33.95</td>\n",
              "      <td>13.0</td>\n",
              "      <td>69.8</td>\n",
              "      <td>1.0</td>\n",
              "      <td>0</td>\n",
              "      <td>1</td>\n",
              "      <td>False</td>\n",
              "      <td>False</td>\n",
              "      <td>2013</td>\n",
              "      <td>1999</td>\n",
              "      <td>0</td>\n",
              "    </tr>\n",
              "    <tr>\n",
              "      <th>...</th>\n",
              "      <td>...</td>\n",
              "      <td>...</td>\n",
              "      <td>...</td>\n",
              "      <td>...</td>\n",
              "      <td>...</td>\n",
              "      <td>...</td>\n",
              "      <td>...</td>\n",
              "      <td>...</td>\n",
              "      <td>...</td>\n",
              "      <td>...</td>\n",
              "      <td>...</td>\n",
              "      <td>...</td>\n",
              "      <td>...</td>\n",
              "      <td>...</td>\n",
              "      <td>...</td>\n",
              "    </tr>\n",
              "    <tr>\n",
              "      <th>396025</th>\n",
              "      <td>10000.0</td>\n",
              "      <td>10.99</td>\n",
              "      <td>217.38</td>\n",
              "      <td>40000.0</td>\n",
              "      <td>15.63</td>\n",
              "      <td>6.0</td>\n",
              "      <td>34.3</td>\n",
              "      <td>0.0</td>\n",
              "      <td>1</td>\n",
              "      <td>1</td>\n",
              "      <td>True</td>\n",
              "      <td>False</td>\n",
              "      <td>2015</td>\n",
              "      <td>2004</td>\n",
              "      <td>0</td>\n",
              "    </tr>\n",
              "    <tr>\n",
              "      <th>396026</th>\n",
              "      <td>21000.0</td>\n",
              "      <td>12.29</td>\n",
              "      <td>700.42</td>\n",
              "      <td>110000.0</td>\n",
              "      <td>21.45</td>\n",
              "      <td>6.0</td>\n",
              "      <td>95.7</td>\n",
              "      <td>1.0</td>\n",
              "      <td>1</td>\n",
              "      <td>0</td>\n",
              "      <td>False</td>\n",
              "      <td>False</td>\n",
              "      <td>2015</td>\n",
              "      <td>2006</td>\n",
              "      <td>0</td>\n",
              "    </tr>\n",
              "    <tr>\n",
              "      <th>396027</th>\n",
              "      <td>5000.0</td>\n",
              "      <td>9.99</td>\n",
              "      <td>161.32</td>\n",
              "      <td>56500.0</td>\n",
              "      <td>17.56</td>\n",
              "      <td>15.0</td>\n",
              "      <td>66.9</td>\n",
              "      <td>0.0</td>\n",
              "      <td>1</td>\n",
              "      <td>0</td>\n",
              "      <td>True</td>\n",
              "      <td>False</td>\n",
              "      <td>2013</td>\n",
              "      <td>1997</td>\n",
              "      <td>0</td>\n",
              "    </tr>\n",
              "    <tr>\n",
              "      <th>396028</th>\n",
              "      <td>21000.0</td>\n",
              "      <td>15.31</td>\n",
              "      <td>503.02</td>\n",
              "      <td>64000.0</td>\n",
              "      <td>15.88</td>\n",
              "      <td>9.0</td>\n",
              "      <td>53.8</td>\n",
              "      <td>5.0</td>\n",
              "      <td>1</td>\n",
              "      <td>1</td>\n",
              "      <td>False</td>\n",
              "      <td>False</td>\n",
              "      <td>2012</td>\n",
              "      <td>1990</td>\n",
              "      <td>0</td>\n",
              "    </tr>\n",
              "    <tr>\n",
              "      <th>396029</th>\n",
              "      <td>2000.0</td>\n",
              "      <td>13.61</td>\n",
              "      <td>67.98</td>\n",
              "      <td>42996.0</td>\n",
              "      <td>8.32</td>\n",
              "      <td>3.0</td>\n",
              "      <td>91.3</td>\n",
              "      <td>2.0</td>\n",
              "      <td>1</td>\n",
              "      <td>0</td>\n",
              "      <td>True</td>\n",
              "      <td>False</td>\n",
              "      <td>2010</td>\n",
              "      <td>1998</td>\n",
              "      <td>0</td>\n",
              "    </tr>\n",
              "  </tbody>\n",
              "</table>\n",
              "<p>396030 rows × 15 columns</p>\n",
              "</div>"
            ],
            "text/plain": [
              "        loan_amnt  int_rate  installment  ...  issue_d_n  earliest_cr_line_n  grade\n",
              "0         10000.0     11.44       329.48  ...       2015                1990      0\n",
              "1          8000.0     11.99       265.68  ...       2015                2004      0\n",
              "2         15600.0     10.49       506.97  ...       2015                2007      0\n",
              "3          7200.0      6.49       220.65  ...       2014                2006      0\n",
              "4         24375.0     17.27       609.33  ...       2013                1999      0\n",
              "...           ...       ...          ...  ...        ...                 ...    ...\n",
              "396025    10000.0     10.99       217.38  ...       2015                2004      0\n",
              "396026    21000.0     12.29       700.42  ...       2015                2006      0\n",
              "396027     5000.0      9.99       161.32  ...       2013                1997      0\n",
              "396028    21000.0     15.31       503.02  ...       2012                1990      0\n",
              "396029     2000.0     13.61        67.98  ...       2010                1998      0\n",
              "\n",
              "[396030 rows x 15 columns]"
            ]
          },
          "metadata": {
            "tags": []
          },
          "execution_count": 149
        }
      ]
    },
    {
      "cell_type": "code",
      "metadata": {
        "id": "_GRN3c2lnBpJ",
        "colab_type": "code",
        "colab": {
          "base_uri": "https://localhost:8080/",
          "height": 272
        },
        "outputId": "2cf3a695-fe7b-4ebd-d3d0-c8a4967a33ea"
      },
      "source": [
        "loans_final4.corr()['loan_status_Fully Paid'].sort_values()"
      ],
      "execution_count": null,
      "outputs": [
        {
          "output_type": "execute_result",
          "data": {
            "text/plain": [
              "int_rate                 -0.247758\n",
              "term_ 60 months          -0.173246\n",
              "grade                    -0.120271\n",
              "revol_util               -0.082341\n",
              "home_own_status          -0.067096\n",
              "dti                      -0.062413\n",
              "issue_d_n                -0.060502\n",
              "loan_amnt                -0.059836\n",
              "installment              -0.041082\n",
              "earliest_cr_line_n       -0.038928\n",
              "annual_inc                0.053432\n",
              "mort_acc                  0.071276\n",
              "verification              0.085163\n",
              "loan_status_Fully Paid    1.000000\n",
              "Name: loan_status_Fully Paid, dtype: float64"
            ]
          },
          "metadata": {
            "tags": []
          },
          "execution_count": 152
        }
      ]
    },
    {
      "cell_type": "code",
      "metadata": {
        "id": "IRbrqRdZnJpq",
        "colab_type": "code",
        "colab": {}
      },
      "source": [
        ""
      ],
      "execution_count": null,
      "outputs": []
    }
  ]
}